{
  "cells": [
    {
      "cell_type": "code",
      "execution_count": 1,
      "metadata": {
        "id": "saclgpFRDxoy"
      },
      "outputs": [],
      "source": [
        "from __future__ import print_function\n",
        "import torch\n",
        "import torch.nn as nn\n",
        "import torch.nn.functional as F\n",
        "import torch.optim as optim\n",
        "from torchvision import datasets, transforms\n",
        "import matplotlib.pyplot as plt\n"
      ]
    },
    {
      "cell_type": "markdown",
      "metadata": {
        "id": "oepQji-fx1Dk"
      },
      "source": [
        "Train and Test DataLoader"
      ]
    },
    {
      "cell_type": "code",
      "execution_count": 2,
      "metadata": {
        "id": "f3GP9UuvvSZ-",
        "colab": {
          "base_uri": "https://localhost:8080/",
          "height": 435,
          "referenced_widgets": [
            "43a93a9b29d6452d81c108473a152aec",
            "8ccbb4a19d5346489f0a6c75db8d47a0",
            "2b6479e45dbf4afb98e2c155cb6a9788",
            "fc07421e73d340fb89eb4c7c7ffc0ffc",
            "9a0085da2c2b4489aa77ca0ca26f778b",
            "5f92e10c85ab46ccbcf9888ab89fcc53",
            "55ef75a5020d404797d62db923c51162",
            "5c7c63faa5414c179c6ba9ac59044fb3",
            "798a321f5515467c97eb7c8197bb5c24",
            "7367c28986154c8f896587d9dfdd402c",
            "dc9090c7a16d42c09c157880db983472",
            "1b7f012e9c1c4b198bcc64b07de3f5b5",
            "9635541fc1814e9f9432550b2f332abe",
            "c866c4ac8f4944aa835a6553a080d4a4",
            "ec666d8ec79d462ab0d3bf7022cfce8b",
            "e4f6baa82f874b3e9897c929f192a4a3",
            "303c494d575d459cb1f078ada551cf68",
            "7fea1d2f45244c6ea840e69f56af3a6b",
            "92628b815aa042a8b41cc04441646792",
            "4d26587f7f47476fae98b21220fcb69f",
            "dfd1ca84e448497c855115d130b00ff4",
            "91a66f18546a4c2eaa3af80bc9de6624",
            "3f2ec87a07904cc4bc52079917aa252d",
            "9d745e745b1442619f12e82ec64cd7b4",
            "98465aa49ef641d5a5b7473b28551e8d",
            "42fc83e03a0a4eff974240cd24a8d2b2",
            "318a15fe56a04d189ea2379bb8406f08",
            "e27ad59691eb41828f94458a8fdcec2d",
            "01a879b75a494ec382d498a696b571b7",
            "ee72eb7ec6ff49ab88a19f52b04df2d4",
            "52c688fff4194d8ba7abd06a02393f5e",
            "27ed306de9cc4ac18d6fe72f1f3c540f",
            "d5bd19812fdf45eabb1e8660a3bb8e71",
            "107595fbe1a548cb81ffd3b006668263",
            "ef4a734fd5be4ee1a8f56293457c31c0",
            "8b544fe5a5984494b65ececf2893c33e",
            "f999251ebd6c4b449764ed7bfbc50597",
            "9d51778d75d44cac923c956f8089c27f",
            "f133f06935e44cb3aa8e5a1d8c612c46",
            "160bcd2b54154170be1e4ac148be4efc",
            "4460f18fe81e4f20afcb3112d30008ea",
            "67c2a797400346298f6d2b5eff70d2d0",
            "71823d4c27f542c889df5ad7f7680f4d",
            "5fed0c68d2a64bfca41e9cc41f97b3bc"
          ]
        },
        "outputId": "a4da2b97-cc16-4029-a17c-8a342940fed3"
      },
      "outputs": [
        {
          "output_type": "stream",
          "name": "stdout",
          "text": [
            "Downloading http://yann.lecun.com/exdb/mnist/train-images-idx3-ubyte.gz\n",
            "Downloading http://yann.lecun.com/exdb/mnist/train-images-idx3-ubyte.gz to ../data/MNIST/raw/train-images-idx3-ubyte.gz\n"
          ]
        },
        {
          "output_type": "display_data",
          "data": {
            "text/plain": [
              "  0%|          | 0/9912422 [00:00<?, ?it/s]"
            ],
            "application/vnd.jupyter.widget-view+json": {
              "version_major": 2,
              "version_minor": 0,
              "model_id": "43a93a9b29d6452d81c108473a152aec"
            }
          },
          "metadata": {}
        },
        {
          "output_type": "stream",
          "name": "stdout",
          "text": [
            "Extracting ../data/MNIST/raw/train-images-idx3-ubyte.gz to ../data/MNIST/raw\n",
            "\n",
            "Downloading http://yann.lecun.com/exdb/mnist/train-labels-idx1-ubyte.gz\n",
            "Downloading http://yann.lecun.com/exdb/mnist/train-labels-idx1-ubyte.gz to ../data/MNIST/raw/train-labels-idx1-ubyte.gz\n"
          ]
        },
        {
          "output_type": "display_data",
          "data": {
            "text/plain": [
              "  0%|          | 0/28881 [00:00<?, ?it/s]"
            ],
            "application/vnd.jupyter.widget-view+json": {
              "version_major": 2,
              "version_minor": 0,
              "model_id": "1b7f012e9c1c4b198bcc64b07de3f5b5"
            }
          },
          "metadata": {}
        },
        {
          "output_type": "stream",
          "name": "stdout",
          "text": [
            "Extracting ../data/MNIST/raw/train-labels-idx1-ubyte.gz to ../data/MNIST/raw\n",
            "\n",
            "Downloading http://yann.lecun.com/exdb/mnist/t10k-images-idx3-ubyte.gz\n",
            "Downloading http://yann.lecun.com/exdb/mnist/t10k-images-idx3-ubyte.gz to ../data/MNIST/raw/t10k-images-idx3-ubyte.gz\n"
          ]
        },
        {
          "output_type": "display_data",
          "data": {
            "text/plain": [
              "  0%|          | 0/1648877 [00:00<?, ?it/s]"
            ],
            "application/vnd.jupyter.widget-view+json": {
              "version_major": 2,
              "version_minor": 0,
              "model_id": "3f2ec87a07904cc4bc52079917aa252d"
            }
          },
          "metadata": {}
        },
        {
          "output_type": "stream",
          "name": "stdout",
          "text": [
            "Extracting ../data/MNIST/raw/t10k-images-idx3-ubyte.gz to ../data/MNIST/raw\n",
            "\n",
            "Downloading http://yann.lecun.com/exdb/mnist/t10k-labels-idx1-ubyte.gz\n",
            "Downloading http://yann.lecun.com/exdb/mnist/t10k-labels-idx1-ubyte.gz to ../data/MNIST/raw/t10k-labels-idx1-ubyte.gz\n"
          ]
        },
        {
          "output_type": "display_data",
          "data": {
            "text/plain": [
              "  0%|          | 0/4542 [00:00<?, ?it/s]"
            ],
            "application/vnd.jupyter.widget-view+json": {
              "version_major": 2,
              "version_minor": 0,
              "model_id": "107595fbe1a548cb81ffd3b006668263"
            }
          },
          "metadata": {}
        },
        {
          "output_type": "stream",
          "name": "stdout",
          "text": [
            "Extracting ../data/MNIST/raw/t10k-labels-idx1-ubyte.gz to ../data/MNIST/raw\n",
            "\n"
          ]
        }
      ],
      "source": [
        "# define the train and test dataLoader\n",
        "batch_size=128\n",
        "use_cuda = torch.cuda.is_available()\n",
        "kwargs = {'num_workers': 1, 'pin_memory': True} if use_cuda else {}\n",
        "\n",
        "train_transforms = transforms.Compose([\n",
        "                                transforms.RandomAffine(degrees=3, translate=(0.1,0.1), scale=(0.9,1.1)),\n",
        "                                transforms.ToTensor(),\n",
        "                                transforms.Normalize((0.1307,), (0.3081,))\n",
        "                              ])\n",
        "\n",
        "test_transforms = transforms.Compose([\n",
        "                                transforms.ToTensor(),\n",
        "                                transforms.Normalize((0.1307,),(0.3081,))\n",
        "                              ])\n",
        "\n",
        "# train Loader\n",
        "train_loader = torch.utils.data.DataLoader(datasets.MNIST(\"../data\", train=True, download=True, \n",
        "                                            transform = train_transforms),batch_size=batch_size, shuffle=True, **kwargs)\n",
        "\n",
        "#test Loader\n",
        "test_loader = torch.utils.data.DataLoader(datasets.MNIST(\"../data\", train=False, download=True, \n",
        "                                            transform = test_transforms),batch_size=batch_size, shuffle=True, **kwargs)"
      ]
    },
    {
      "cell_type": "markdown",
      "metadata": {
        "id": "KQHwdEiryGbo"
      },
      "source": [
        "Model With BatchNorm"
      ]
    },
    {
      "cell_type": "code",
      "execution_count": 3,
      "metadata": {
        "id": "kEobWCvlIvvV"
      },
      "outputs": [],
      "source": [
        "class Net(nn.Module):\n",
        "  def __init__(self):\n",
        "    super(Net, self).__init__()\n",
        "    self.convolution1 = nn.Sequential(\n",
        "        nn.Conv2d(1, 10, 3, padding=1),\n",
        "        nn.ReLU(),\n",
        "        nn.BatchNorm2d(10),\n",
        "        nn.Conv2d(10, 20, 3, padding=1),\n",
        "        nn.ReLU(),\n",
        "        nn.BatchNorm2d(20),\n",
        "        nn.MaxPool2d(2,2),\n",
        "        nn.Dropout(0.15)\n",
        "    )\n",
        "    self.convolution2 = nn.Sequential(\n",
        "        nn.Conv2d(20, 16, 3, padding=1),\n",
        "        nn.ReLU(),\n",
        "        nn.BatchNorm2d(16),\n",
        "        nn.Conv2d(16, 12, 3, padding=1),\n",
        "        nn.ReLU(),\n",
        "        nn.BatchNorm2d(12),\n",
        "        nn.MaxPool2d(2,2),\n",
        "        nn.Dropout(0.15)\n",
        "    )\n",
        "    self.convolution3 = nn.Sequential(\n",
        "        nn.Conv2d(12, 12, 3),\n",
        "        nn.Conv2d(12, 10, 3),\n",
        "        nn.Conv2d(10, 10, 3)\n",
        "        # nn.ReLU(),\n",
        "        # nn.Conv2d(16, 10, 3),\n",
        "    )\n",
        "  def forward(self, x):\n",
        "    x = self.convolution1(x)\n",
        "    x = self.convolution2(x)\n",
        "    x = self.convolution3(x)\n",
        "    x = x.view(-1,10)\n",
        "    return F.log_softmax(x)"
      ]
    },
    {
      "cell_type": "code",
      "execution_count": 4,
      "metadata": {
        "colab": {
          "base_uri": "https://localhost:8080/"
        },
        "id": "dgz2gOqHIv20",
        "outputId": "68ff81b3-aca0-4e5f-e3ce-9bade471fca6"
      },
      "outputs": [
        {
          "output_type": "stream",
          "name": "stdout",
          "text": [
            "Looking in indexes: https://pypi.org/simple, https://us-python.pkg.dev/colab-wheels/public/simple/\n",
            "Requirement already satisfied: torchsummary in /usr/local/lib/python3.7/dist-packages (1.5.1)\n",
            "----------------------------------------------------------------\n",
            "        Layer (type)               Output Shape         Param #\n",
            "================================================================\n",
            "            Conv2d-1           [-1, 10, 28, 28]             100\n",
            "              ReLU-2           [-1, 10, 28, 28]               0\n",
            "       BatchNorm2d-3           [-1, 10, 28, 28]              20\n",
            "            Conv2d-4           [-1, 20, 28, 28]           1,820\n",
            "              ReLU-5           [-1, 20, 28, 28]               0\n",
            "       BatchNorm2d-6           [-1, 20, 28, 28]              40\n",
            "         MaxPool2d-7           [-1, 20, 14, 14]               0\n",
            "           Dropout-8           [-1, 20, 14, 14]               0\n",
            "            Conv2d-9           [-1, 16, 14, 14]           2,896\n",
            "             ReLU-10           [-1, 16, 14, 14]               0\n",
            "      BatchNorm2d-11           [-1, 16, 14, 14]              32\n",
            "           Conv2d-12           [-1, 12, 14, 14]           1,740\n",
            "             ReLU-13           [-1, 12, 14, 14]               0\n",
            "      BatchNorm2d-14           [-1, 12, 14, 14]              24\n",
            "        MaxPool2d-15             [-1, 12, 7, 7]               0\n",
            "          Dropout-16             [-1, 12, 7, 7]               0\n",
            "           Conv2d-17             [-1, 12, 5, 5]           1,308\n",
            "           Conv2d-18             [-1, 10, 3, 3]           1,090\n",
            "           Conv2d-19             [-1, 10, 1, 1]             910\n",
            "================================================================\n",
            "Total params: 9,980\n",
            "Trainable params: 9,980\n",
            "Non-trainable params: 0\n",
            "----------------------------------------------------------------\n",
            "Input size (MB): 0.00\n",
            "Forward/backward pass size (MB): 0.74\n",
            "Params size (MB): 0.04\n",
            "Estimated Total Size (MB): 0.78\n",
            "----------------------------------------------------------------\n"
          ]
        },
        {
          "output_type": "stream",
          "name": "stderr",
          "text": [
            "/usr/local/lib/python3.7/dist-packages/ipykernel_launcher.py:36: UserWarning: Implicit dimension choice for log_softmax has been deprecated. Change the call to include dim=X as an argument.\n"
          ]
        }
      ],
      "source": [
        "!pip install torchsummary\n",
        "from torchsummary import summary\n",
        "use_cuda = torch.cuda.is_available()\n",
        "device = torch.device(\"cuda\" if use_cuda else \"cpu\")\n",
        "model = Net().to(device)\n",
        "summary(model, input_size=(1, 28, 28))"
      ]
    },
    {
      "cell_type": "code",
      "execution_count": 4,
      "metadata": {
        "id": "Rrwn5zWoxaCZ"
      },
      "outputs": [],
      "source": [
        ""
      ]
    },
    {
      "cell_type": "markdown",
      "metadata": {
        "id": "I4dS_3qExg34"
      },
      "source": [
        "GhostBatchNorm Class"
      ]
    },
    {
      "cell_type": "code",
      "execution_count": 5,
      "metadata": {
        "id": "e2p1ZfTuxW3G"
      },
      "outputs": [],
      "source": [
        "class BatchNorm(nn.BatchNorm2d):\n",
        "    def __init__(self, num_features, eps=1e-05, momentum=0.1, weight=True, bias=True):\n",
        "        super().__init__(num_features, eps=eps, momentum=momentum)\n",
        "        self.weight.data.fill_(1.0)\n",
        "        self.bias.data.fill_(0.0)\n",
        "        self.weight.requires_grad = weight\n",
        "        self.bias.requires_grad = bias\n",
        "\n",
        "\n",
        "class GhostBatchNorm(BatchNorm):\n",
        "    def __init__(self, num_features, num_splits, **kw):\n",
        "        super().__init__(num_features, **kw)\n",
        "        self.num_splits = num_splits\n",
        "        self.register_buffer('running_mean', torch.zeros(num_features * self.num_splits))\n",
        "        self.register_buffer('running_var', torch.ones(num_features * self.num_splits))\n",
        "\n",
        "    def train(self, mode=True):\n",
        "        if (self.training is True) and (mode is False):  # lazily collate stats when we are going to use them\n",
        "            self.running_mean = torch.mean(self.running_mean.view(self.num_splits, self.num_features), dim=0).repeat(\n",
        "                self.num_splits)\n",
        "            self.running_var = torch.mean(self.running_var.view(self.num_splits, self.num_features), dim=0).repeat(\n",
        "                self.num_splits)\n",
        "        return super().train(mode)\n",
        "\n",
        "    def forward(self, input):\n",
        "        N, C, H, W = input.shape\n",
        "        if self.training or not self.track_running_stats:\n",
        "            return F.batch_norm(\n",
        "                input.view(-1, C * self.num_splits, H, W), self.running_mean, self.running_var,\n",
        "                self.weight.repeat(self.num_splits), self.bias.repeat(self.num_splits),\n",
        "                True, self.momentum, self.eps).view(N, C, H, W)\n",
        "        else:\n",
        "            return F.batch_norm(\n",
        "                input, self.running_mean[:self.num_features], self.running_var[:self.num_features],\n",
        "                self.weight, self.bias, False, self.momentum, self.eps)"
      ]
    },
    {
      "cell_type": "markdown",
      "metadata": {
        "id": "oQzKB3IMzWR9"
      },
      "source": [
        "Model With GhostBatchNorm"
      ]
    },
    {
      "cell_type": "code",
      "execution_count": 6,
      "metadata": {
        "id": "pf3AkxrTxWd9"
      },
      "outputs": [],
      "source": [
        "class GhostBatchNet(nn.Module):\n",
        "  def __init__(self):\n",
        "    super(GhostBatchNet, self).__init__()\n",
        "    self.convolution1 = nn.Sequential(\n",
        "        nn.Conv2d(1, 10, 3, padding=1),\n",
        "        nn.ReLU(),\n",
        "        GhostBatchNorm(10, num_splits=4),\n",
        "        nn.Conv2d(10, 20, 3, padding=1),\n",
        "        nn.ReLU(),\n",
        "        GhostBatchNorm(20, num_splits=4),\n",
        "        nn.MaxPool2d(2,2),\n",
        "        nn.Dropout(0.15)\n",
        "    )\n",
        "    self.convolution2 = nn.Sequential(\n",
        "        nn.Conv2d(20, 16, 3, padding=1),\n",
        "        nn.ReLU(),\n",
        "        GhostBatchNorm(16, num_splits=4),\n",
        "        nn.Conv2d(16, 12, 3, padding=1),\n",
        "        nn.ReLU(),\n",
        "        GhostBatchNorm(12, num_splits=4),\n",
        "        nn.MaxPool2d(2,2),\n",
        "        nn.Dropout(0.15)\n",
        "    )\n",
        "    self.convolution3 = nn.Sequential(\n",
        "        nn.Conv2d(12, 12, 3),\n",
        "        nn.Conv2d(12, 10, 3),\n",
        "        nn.Conv2d(10, 10, 3)\n",
        "       \n",
        "    )\n",
        "  def forward(self, x):\n",
        "    x = self.convolution1(x)\n",
        "    x = self.convolution2(x)\n",
        "    x = self.convolution3(x)\n",
        "    x = x.view(-1,10)\n",
        "    return F.log_softmax(x)"
      ]
    },
    {
      "cell_type": "code",
      "execution_count": 7,
      "metadata": {
        "colab": {
          "base_uri": "https://localhost:8080/"
        },
        "id": "NMzE4zqeIv7Q",
        "outputId": "82038705-3bbe-4819-b09e-4ab01fab9b07"
      },
      "outputs": [
        {
          "output_type": "execute_result",
          "data": {
            "text/plain": [
              "<torch._C.Generator at 0x7f87b44066f0>"
            ]
          },
          "metadata": {},
          "execution_count": 7
        }
      ],
      "source": [
        "torch.manual_seed(1)"
      ]
    },
    {
      "cell_type": "markdown",
      "metadata": {
        "id": "cEKbElbZ1ma1"
      },
      "source": [
        "Define Test and Train which appends and returns the loss,accuracy to plot"
      ]
    },
    {
      "cell_type": "code",
      "execution_count": 7,
      "metadata": {
        "id": "pRj3G2k14LiH"
      },
      "outputs": [],
      "source": [
        ""
      ]
    },
    {
      "cell_type": "code",
      "execution_count": 8,
      "metadata": {
        "id": "y2tsY_Tm-RhW"
      },
      "outputs": [],
      "source": [
        "from tqdm import tqdm"
      ]
    },
    {
      "cell_type": "code",
      "execution_count": 9,
      "metadata": {
        "id": "xd_1njNt-wLZ"
      },
      "outputs": [],
      "source": [
        "# out_train_acc=[]\n",
        "# out_train_loss=[]\n",
        "# out_val_acc=[]\n",
        "# out_val_loss=[]\n",
        "prev_val_acc=0.0"
      ]
    },
    {
      "cell_type": "code",
      "execution_count": 10,
      "metadata": {
        "id": "0M8czTTI0_0T"
      },
      "outputs": [],
      "source": [
        "def train(model, device, train_loader, optimizer, epoch, i):\n",
        "    model.train()\n",
        "    correct=0\n",
        "    processed=0\n",
        "    pbar = tqdm(train_loader)\n",
        "    train_l=0\n",
        "    train_a=0\n",
        "    for batch_idx, (data, target) in enumerate(pbar):\n",
        "        data, target = data.to(device), target.to(device)\n",
        "        optimizer.zero_grad()\n",
        "        output = model(data)\n",
        "        loss = F.nll_loss(output, target)\n",
        "        #train_l = loss\n",
        "        if i == 2 or i == 3 or i == 6 or i == 7: #L1 Regularization is asked\n",
        "          #print(\"i \",i)\n",
        "          #loss_l1 = nn.L1Loss(target)\n",
        "          # loss_ = 0\n",
        "          # lambda_ = 0.005\n",
        "          # lambda_ = 0.0005\n",
        "          lambda_ = 0.0001\n",
        "          l1_reg_loss = sum([torch.sum(abs(param)) for param in model.parameters()])\n",
        "          loss = loss + lambda_ * l1_reg_loss\n",
        "        train_l = loss\n",
        "        loss.backward()\n",
        "        optimizer.step()\n",
        "        pred = output.argmax(dim=1, keepdim=True)\n",
        "        correct += pred.eq(target.view_as(pred)).sum().item()\n",
        "        processed += len(data)\n",
        "\n",
        "        pbar.set_description(desc= f'loss={loss.item()} batch_id={batch_idx} Accuracy={100*correct/processed}')\n",
        "        train_a = (100*correct/processed)\n",
        "    scheduler.step()\n",
        "    return (train_l, train_a)\n",
        "\n",
        "\n",
        "def test(model, device, test_loader, i):\n",
        "    global prev_val_acc\n",
        "    model.eval()\n",
        "    test_loss = 0\n",
        "    correct = 0\n",
        "    with torch.no_grad():\n",
        "        for data, target in test_loader:\n",
        "            data, target = data.to(device), target.to(device)\n",
        "            output = model(data)\n",
        "            test_loss += F.nll_loss(output, target, reduction='sum').item()  # sum up batch loss\n",
        "            pred = output.argmax(dim=1, keepdim=True)  # get the index of the max log-probability\n",
        "            correct += pred.eq(target.view_as(pred)).sum().item()\n",
        "\n",
        "    test_loss /= len(test_loader.dataset)\n",
        "    print('\\nTest set: Average loss: {:.4f}, Accuracy: {}/{} ({:.0f}%)\\n'.format(\n",
        "        test_loss, correct, len(test_loader.dataset),\n",
        "        100. * correct / len(test_loader.dataset)))\n",
        "    val_acc = correct / len(test_loader.dataset)\n",
        "    if i == 0 or i == 1:\n",
        "      if (val_acc > prev_val_acc):\n",
        "        prev_val_acc = val_acc\n",
        "        torch.save(model, './{}'.format('model'+str(i)+'.pth'))\n",
        "    return (test_loss, val_acc)"
      ]
    },
    {
      "cell_type": "code",
      "execution_count": 11,
      "metadata": {
        "colab": {
          "base_uri": "https://localhost:8080/"
        },
        "id": "26f8FfjE0_hq",
        "outputId": "2ff99092-b13d-48a7-c460-f9a20df90778"
      },
      "outputs": [
        {
          "output_type": "stream",
          "name": "stdout",
          "text": [
            "i  0\n",
            "without L1/L2 with BN\n",
            "epoch : 0\n"
          ]
        },
        {
          "output_type": "stream",
          "name": "stderr",
          "text": [
            "  0%|          | 0/469 [00:00<?, ?it/s]/usr/local/lib/python3.7/dist-packages/ipykernel_launcher.py:36: UserWarning: Implicit dimension choice for log_softmax has been deprecated. Change the call to include dim=X as an argument.\n",
            "loss=0.20405924320220947 batch_id=468 Accuracy=89.24166666666666: 100%|██████████| 469/469 [00:27<00:00, 17.35it/s]\n"
          ]
        },
        {
          "output_type": "stream",
          "name": "stdout",
          "text": [
            "\n",
            "Test set: Average loss: 0.0633, Accuracy: 9791/10000 (98%)\n",
            "\n",
            "epoch : 1\n"
          ]
        },
        {
          "output_type": "stream",
          "name": "stderr",
          "text": [
            "loss=0.07153145223855972 batch_id=468 Accuracy=96.12833333333333: 100%|██████████| 469/469 [00:20<00:00, 23.41it/s]\n"
          ]
        },
        {
          "output_type": "stream",
          "name": "stdout",
          "text": [
            "\n",
            "Test set: Average loss: 0.0441, Accuracy: 9843/10000 (98%)\n",
            "\n",
            "epoch : 2\n"
          ]
        },
        {
          "output_type": "stream",
          "name": "stderr",
          "text": [
            "loss=0.06049203500151634 batch_id=468 Accuracy=96.95666666666666: 100%|██████████| 469/469 [00:20<00:00, 22.97it/s]\n"
          ]
        },
        {
          "output_type": "stream",
          "name": "stdout",
          "text": [
            "\n",
            "Test set: Average loss: 0.0429, Accuracy: 9857/10000 (99%)\n",
            "\n",
            "epoch : 3\n"
          ]
        },
        {
          "output_type": "stream",
          "name": "stderr",
          "text": [
            "loss=0.15219657123088837 batch_id=468 Accuracy=97.46666666666667: 100%|██████████| 469/469 [00:20<00:00, 22.85it/s]\n"
          ]
        },
        {
          "output_type": "stream",
          "name": "stdout",
          "text": [
            "\n",
            "Test set: Average loss: 0.0353, Accuracy: 9889/10000 (99%)\n",
            "\n",
            "epoch : 4\n"
          ]
        },
        {
          "output_type": "stream",
          "name": "stderr",
          "text": [
            "loss=0.01838327758014202 batch_id=468 Accuracy=97.60166666666667: 100%|██████████| 469/469 [00:20<00:00, 23.23it/s]\n"
          ]
        },
        {
          "output_type": "stream",
          "name": "stdout",
          "text": [
            "\n",
            "Test set: Average loss: 0.0306, Accuracy: 9897/10000 (99%)\n",
            "\n",
            "epoch : 5\n"
          ]
        },
        {
          "output_type": "stream",
          "name": "stderr",
          "text": [
            "loss=0.15451094508171082 batch_id=468 Accuracy=97.85666666666667: 100%|██████████| 469/469 [00:20<00:00, 23.29it/s]\n"
          ]
        },
        {
          "output_type": "stream",
          "name": "stdout",
          "text": [
            "\n",
            "Test set: Average loss: 0.0266, Accuracy: 9923/10000 (99%)\n",
            "\n",
            "epoch : 6\n"
          ]
        },
        {
          "output_type": "stream",
          "name": "stderr",
          "text": [
            "loss=0.014998921193182468 batch_id=468 Accuracy=97.98166666666667: 100%|██████████| 469/469 [00:20<00:00, 22.98it/s]\n"
          ]
        },
        {
          "output_type": "stream",
          "name": "stdout",
          "text": [
            "\n",
            "Test set: Average loss: 0.0247, Accuracy: 9918/10000 (99%)\n",
            "\n",
            "epoch : 7\n"
          ]
        },
        {
          "output_type": "stream",
          "name": "stderr",
          "text": [
            "loss=0.05612519755959511 batch_id=468 Accuracy=98.005: 100%|██████████| 469/469 [00:20<00:00, 23.22it/s]\n"
          ]
        },
        {
          "output_type": "stream",
          "name": "stdout",
          "text": [
            "\n",
            "Test set: Average loss: 0.0231, Accuracy: 9924/10000 (99%)\n",
            "\n",
            "epoch : 8\n"
          ]
        },
        {
          "output_type": "stream",
          "name": "stderr",
          "text": [
            "loss=0.03483537584543228 batch_id=468 Accuracy=98.115: 100%|██████████| 469/469 [00:20<00:00, 22.94it/s]\n"
          ]
        },
        {
          "output_type": "stream",
          "name": "stdout",
          "text": [
            "\n",
            "Test set: Average loss: 0.0300, Accuracy: 9899/10000 (99%)\n",
            "\n",
            "epoch : 9\n"
          ]
        },
        {
          "output_type": "stream",
          "name": "stderr",
          "text": [
            "loss=0.024781398475170135 batch_id=468 Accuracy=98.20166666666667: 100%|██████████| 469/469 [00:20<00:00, 22.47it/s]\n"
          ]
        },
        {
          "output_type": "stream",
          "name": "stdout",
          "text": [
            "\n",
            "Test set: Average loss: 0.0235, Accuracy: 9927/10000 (99%)\n",
            "\n",
            "epoch : 10\n"
          ]
        },
        {
          "output_type": "stream",
          "name": "stderr",
          "text": [
            "loss=0.026004048064351082 batch_id=468 Accuracy=98.56833333333333: 100%|██████████| 469/469 [00:20<00:00, 23.11it/s]\n"
          ]
        },
        {
          "output_type": "stream",
          "name": "stdout",
          "text": [
            "\n",
            "Test set: Average loss: 0.0179, Accuracy: 9939/10000 (99%)\n",
            "\n",
            "epoch : 11\n"
          ]
        },
        {
          "output_type": "stream",
          "name": "stderr",
          "text": [
            "loss=0.0151777109131217 batch_id=468 Accuracy=98.62833333333333: 100%|██████████| 469/469 [00:19<00:00, 23.47it/s]\n"
          ]
        },
        {
          "output_type": "stream",
          "name": "stdout",
          "text": [
            "\n",
            "Test set: Average loss: 0.0177, Accuracy: 9935/10000 (99%)\n",
            "\n",
            "epoch : 12\n"
          ]
        },
        {
          "output_type": "stream",
          "name": "stderr",
          "text": [
            "loss=0.06724406033754349 batch_id=468 Accuracy=98.735: 100%|██████████| 469/469 [00:20<00:00, 23.40it/s]\n"
          ]
        },
        {
          "output_type": "stream",
          "name": "stdout",
          "text": [
            "\n",
            "Test set: Average loss: 0.0190, Accuracy: 9932/10000 (99%)\n",
            "\n",
            "epoch : 13\n"
          ]
        },
        {
          "output_type": "stream",
          "name": "stderr",
          "text": [
            "loss=0.044377535581588745 batch_id=468 Accuracy=98.73333333333333: 100%|██████████| 469/469 [00:20<00:00, 23.37it/s]\n"
          ]
        },
        {
          "output_type": "stream",
          "name": "stdout",
          "text": [
            "\n",
            "Test set: Average loss: 0.0174, Accuracy: 9936/10000 (99%)\n",
            "\n",
            "epoch : 14\n"
          ]
        },
        {
          "output_type": "stream",
          "name": "stderr",
          "text": [
            "loss=0.03226860240101814 batch_id=468 Accuracy=98.695: 100%|██████████| 469/469 [00:20<00:00, 23.22it/s]\n"
          ]
        },
        {
          "output_type": "stream",
          "name": "stdout",
          "text": [
            "\n",
            "Test set: Average loss: 0.0171, Accuracy: 9937/10000 (99%)\n",
            "\n",
            "epoch : 15\n"
          ]
        },
        {
          "output_type": "stream",
          "name": "stderr",
          "text": [
            "loss=0.03261959180235863 batch_id=468 Accuracy=98.76666666666667: 100%|██████████| 469/469 [00:19<00:00, 23.66it/s]\n"
          ]
        },
        {
          "output_type": "stream",
          "name": "stdout",
          "text": [
            "\n",
            "Test set: Average loss: 0.0166, Accuracy: 9942/10000 (99%)\n",
            "\n",
            "epoch : 16\n"
          ]
        },
        {
          "output_type": "stream",
          "name": "stderr",
          "text": [
            "loss=0.04835592210292816 batch_id=468 Accuracy=98.78: 100%|██████████| 469/469 [00:20<00:00, 23.32it/s]\n"
          ]
        },
        {
          "output_type": "stream",
          "name": "stdout",
          "text": [
            "\n",
            "Test set: Average loss: 0.0165, Accuracy: 9943/10000 (99%)\n",
            "\n",
            "epoch : 17\n"
          ]
        },
        {
          "output_type": "stream",
          "name": "stderr",
          "text": [
            "loss=0.033661145716905594 batch_id=468 Accuracy=98.78166666666667: 100%|██████████| 469/469 [00:20<00:00, 23.35it/s]\n"
          ]
        },
        {
          "output_type": "stream",
          "name": "stdout",
          "text": [
            "\n",
            "Test set: Average loss: 0.0164, Accuracy: 9941/10000 (99%)\n",
            "\n",
            "epoch : 18\n"
          ]
        },
        {
          "output_type": "stream",
          "name": "stderr",
          "text": [
            "loss=0.010056653060019016 batch_id=468 Accuracy=98.82166666666667: 100%|██████████| 469/469 [00:19<00:00, 23.45it/s]\n"
          ]
        },
        {
          "output_type": "stream",
          "name": "stdout",
          "text": [
            "\n",
            "Test set: Average loss: 0.0165, Accuracy: 9939/10000 (99%)\n",
            "\n",
            "epoch : 19\n"
          ]
        },
        {
          "output_type": "stream",
          "name": "stderr",
          "text": [
            "loss=0.03651534765958786 batch_id=468 Accuracy=98.76: 100%|██████████| 469/469 [00:20<00:00, 23.33it/s]\n"
          ]
        },
        {
          "output_type": "stream",
          "name": "stdout",
          "text": [
            "\n",
            "Test set: Average loss: 0.0167, Accuracy: 9942/10000 (99%)\n",
            "\n",
            "epoch : 20\n"
          ]
        },
        {
          "output_type": "stream",
          "name": "stderr",
          "text": [
            "loss=0.009200959466397762 batch_id=468 Accuracy=98.76166666666667: 100%|██████████| 469/469 [00:20<00:00, 23.39it/s]\n"
          ]
        },
        {
          "output_type": "stream",
          "name": "stdout",
          "text": [
            "\n",
            "Test set: Average loss: 0.0165, Accuracy: 9941/10000 (99%)\n",
            "\n",
            "epoch : 21\n"
          ]
        },
        {
          "output_type": "stream",
          "name": "stderr",
          "text": [
            "loss=0.02744355984032154 batch_id=468 Accuracy=98.70333333333333: 100%|██████████| 469/469 [00:20<00:00, 23.36it/s]\n"
          ]
        },
        {
          "output_type": "stream",
          "name": "stdout",
          "text": [
            "\n",
            "Test set: Average loss: 0.0164, Accuracy: 9943/10000 (99%)\n",
            "\n",
            "epoch : 22\n"
          ]
        },
        {
          "output_type": "stream",
          "name": "stderr",
          "text": [
            "loss=0.010801197029650211 batch_id=468 Accuracy=98.815: 100%|██████████| 469/469 [00:20<00:00, 22.67it/s]\n"
          ]
        },
        {
          "output_type": "stream",
          "name": "stdout",
          "text": [
            "\n",
            "Test set: Average loss: 0.0165, Accuracy: 9940/10000 (99%)\n",
            "\n",
            "epoch : 23\n"
          ]
        },
        {
          "output_type": "stream",
          "name": "stderr",
          "text": [
            "loss=0.12306156009435654 batch_id=468 Accuracy=98.76833333333333: 100%|██████████| 469/469 [00:20<00:00, 23.37it/s]\n"
          ]
        },
        {
          "output_type": "stream",
          "name": "stdout",
          "text": [
            "\n",
            "Test set: Average loss: 0.0168, Accuracy: 9940/10000 (99%)\n",
            "\n",
            "epoch : 24\n"
          ]
        },
        {
          "output_type": "stream",
          "name": "stderr",
          "text": [
            "loss=0.006007721181958914 batch_id=468 Accuracy=98.76166666666667: 100%|██████████| 469/469 [00:19<00:00, 23.48it/s]\n"
          ]
        },
        {
          "output_type": "stream",
          "name": "stdout",
          "text": [
            "\n",
            "Test set: Average loss: 0.0167, Accuracy: 9939/10000 (99%)\n",
            "\n",
            "i  1\n",
            "without L1/L2 with GBN\n",
            "epoch : 0\n"
          ]
        },
        {
          "output_type": "stream",
          "name": "stderr",
          "text": [
            "  0%|          | 0/469 [00:00<?, ?it/s]/usr/local/lib/python3.7/dist-packages/ipykernel_launcher.py:35: UserWarning: Implicit dimension choice for log_softmax has been deprecated. Change the call to include dim=X as an argument.\n",
            "loss=0.16466230154037476 batch_id=468 Accuracy=88.1: 100%|██████████| 469/469 [00:20<00:00, 23.22it/s]\n"
          ]
        },
        {
          "output_type": "stream",
          "name": "stdout",
          "text": [
            "\n",
            "Test set: Average loss: 0.0683, Accuracy: 9777/10000 (98%)\n",
            "\n",
            "epoch : 1\n"
          ]
        },
        {
          "output_type": "stream",
          "name": "stderr",
          "text": [
            "loss=0.09333640336990356 batch_id=468 Accuracy=95.82333333333334: 100%|██████████| 469/469 [00:20<00:00, 23.29it/s]\n"
          ]
        },
        {
          "output_type": "stream",
          "name": "stdout",
          "text": [
            "\n",
            "Test set: Average loss: 0.0406, Accuracy: 9868/10000 (99%)\n",
            "\n",
            "epoch : 2\n"
          ]
        },
        {
          "output_type": "stream",
          "name": "stderr",
          "text": [
            "loss=0.15567071735858917 batch_id=468 Accuracy=96.60166666666667: 100%|██████████| 469/469 [00:20<00:00, 23.11it/s]\n"
          ]
        },
        {
          "output_type": "stream",
          "name": "stdout",
          "text": [
            "\n",
            "Test set: Average loss: 0.0439, Accuracy: 9870/10000 (99%)\n",
            "\n",
            "epoch : 3\n"
          ]
        },
        {
          "output_type": "stream",
          "name": "stderr",
          "text": [
            "loss=0.14840580523014069 batch_id=468 Accuracy=97.11: 100%|██████████| 469/469 [00:20<00:00, 22.85it/s]\n"
          ]
        },
        {
          "output_type": "stream",
          "name": "stdout",
          "text": [
            "\n",
            "Test set: Average loss: 0.0257, Accuracy: 9925/10000 (99%)\n",
            "\n",
            "epoch : 4\n"
          ]
        },
        {
          "output_type": "stream",
          "name": "stderr",
          "text": [
            "loss=0.05908478423953056 batch_id=468 Accuracy=97.58333333333333: 100%|██████████| 469/469 [00:20<00:00, 23.35it/s]\n"
          ]
        },
        {
          "output_type": "stream",
          "name": "stdout",
          "text": [
            "\n",
            "Test set: Average loss: 0.0312, Accuracy: 9905/10000 (99%)\n",
            "\n",
            "epoch : 5\n"
          ]
        },
        {
          "output_type": "stream",
          "name": "stderr",
          "text": [
            "loss=0.088352732360363 batch_id=468 Accuracy=97.72333333333333: 100%|██████████| 469/469 [00:20<00:00, 23.29it/s]\n"
          ]
        },
        {
          "output_type": "stream",
          "name": "stdout",
          "text": [
            "\n",
            "Test set: Average loss: 0.0313, Accuracy: 9901/10000 (99%)\n",
            "\n",
            "epoch : 6\n"
          ]
        },
        {
          "output_type": "stream",
          "name": "stderr",
          "text": [
            "loss=0.05703454837203026 batch_id=468 Accuracy=97.71666666666667: 100%|██████████| 469/469 [00:19<00:00, 23.49it/s]\n"
          ]
        },
        {
          "output_type": "stream",
          "name": "stdout",
          "text": [
            "\n",
            "Test set: Average loss: 0.0246, Accuracy: 9921/10000 (99%)\n",
            "\n",
            "epoch : 7\n"
          ]
        },
        {
          "output_type": "stream",
          "name": "stderr",
          "text": [
            "loss=0.04615398868918419 batch_id=468 Accuracy=97.94166666666666: 100%|██████████| 469/469 [00:20<00:00, 23.37it/s]\n"
          ]
        },
        {
          "output_type": "stream",
          "name": "stdout",
          "text": [
            "\n",
            "Test set: Average loss: 0.0200, Accuracy: 9934/10000 (99%)\n",
            "\n",
            "epoch : 8\n"
          ]
        },
        {
          "output_type": "stream",
          "name": "stderr",
          "text": [
            "loss=0.08785536140203476 batch_id=468 Accuracy=98.00166666666667: 100%|██████████| 469/469 [00:19<00:00, 23.49it/s]\n"
          ]
        },
        {
          "output_type": "stream",
          "name": "stdout",
          "text": [
            "\n",
            "Test set: Average loss: 0.0252, Accuracy: 9923/10000 (99%)\n",
            "\n",
            "epoch : 9\n"
          ]
        },
        {
          "output_type": "stream",
          "name": "stderr",
          "text": [
            "loss=0.1070098876953125 batch_id=468 Accuracy=98.09833333333333: 100%|██████████| 469/469 [00:20<00:00, 23.29it/s]\n"
          ]
        },
        {
          "output_type": "stream",
          "name": "stdout",
          "text": [
            "\n",
            "Test set: Average loss: 0.0254, Accuracy: 9904/10000 (99%)\n",
            "\n",
            "epoch : 10\n"
          ]
        },
        {
          "output_type": "stream",
          "name": "stderr",
          "text": [
            "loss=0.023116352036595345 batch_id=468 Accuracy=98.485: 100%|██████████| 469/469 [00:20<00:00, 22.65it/s]\n"
          ]
        },
        {
          "output_type": "stream",
          "name": "stdout",
          "text": [
            "\n",
            "Test set: Average loss: 0.0167, Accuracy: 9945/10000 (99%)\n",
            "\n",
            "epoch : 11\n"
          ]
        },
        {
          "output_type": "stream",
          "name": "stderr",
          "text": [
            "loss=0.04657101258635521 batch_id=468 Accuracy=98.55: 100%|██████████| 469/469 [00:20<00:00, 23.18it/s]\n"
          ]
        },
        {
          "output_type": "stream",
          "name": "stdout",
          "text": [
            "\n",
            "Test set: Average loss: 0.0165, Accuracy: 9939/10000 (99%)\n",
            "\n",
            "epoch : 12\n"
          ]
        },
        {
          "output_type": "stream",
          "name": "stderr",
          "text": [
            "loss=0.007684953045099974 batch_id=468 Accuracy=98.58: 100%|██████████| 469/469 [00:20<00:00, 23.22it/s]\n"
          ]
        },
        {
          "output_type": "stream",
          "name": "stdout",
          "text": [
            "\n",
            "Test set: Average loss: 0.0169, Accuracy: 9943/10000 (99%)\n",
            "\n",
            "epoch : 13\n"
          ]
        },
        {
          "output_type": "stream",
          "name": "stderr",
          "text": [
            "loss=0.10410333424806595 batch_id=468 Accuracy=98.64: 100%|██████████| 469/469 [00:20<00:00, 23.29it/s]\n"
          ]
        },
        {
          "output_type": "stream",
          "name": "stdout",
          "text": [
            "\n",
            "Test set: Average loss: 0.0160, Accuracy: 9950/10000 (100%)\n",
            "\n",
            "epoch : 14\n"
          ]
        },
        {
          "output_type": "stream",
          "name": "stderr",
          "text": [
            "loss=0.009625487960875034 batch_id=468 Accuracy=98.64: 100%|██████████| 469/469 [00:20<00:00, 23.41it/s]\n"
          ]
        },
        {
          "output_type": "stream",
          "name": "stdout",
          "text": [
            "\n",
            "Test set: Average loss: 0.0157, Accuracy: 9948/10000 (99%)\n",
            "\n",
            "epoch : 15\n"
          ]
        },
        {
          "output_type": "stream",
          "name": "stderr",
          "text": [
            "loss=0.09044892340898514 batch_id=468 Accuracy=98.585: 100%|██████████| 469/469 [00:20<00:00, 23.08it/s]\n"
          ]
        },
        {
          "output_type": "stream",
          "name": "stdout",
          "text": [
            "\n",
            "Test set: Average loss: 0.0154, Accuracy: 9947/10000 (99%)\n",
            "\n",
            "epoch : 16\n"
          ]
        },
        {
          "output_type": "stream",
          "name": "stderr",
          "text": [
            "loss=0.031853485852479935 batch_id=468 Accuracy=98.67666666666666: 100%|██████████| 469/469 [00:20<00:00, 23.43it/s]\n"
          ]
        },
        {
          "output_type": "stream",
          "name": "stdout",
          "text": [
            "\n",
            "Test set: Average loss: 0.0154, Accuracy: 9949/10000 (99%)\n",
            "\n",
            "epoch : 17\n"
          ]
        },
        {
          "output_type": "stream",
          "name": "stderr",
          "text": [
            "loss=0.0061988490633666515 batch_id=468 Accuracy=98.64: 100%|██████████| 469/469 [00:20<00:00, 23.29it/s]\n"
          ]
        },
        {
          "output_type": "stream",
          "name": "stdout",
          "text": [
            "\n",
            "Test set: Average loss: 0.0152, Accuracy: 9947/10000 (99%)\n",
            "\n",
            "epoch : 18\n"
          ]
        },
        {
          "output_type": "stream",
          "name": "stderr",
          "text": [
            "loss=0.007648281287401915 batch_id=468 Accuracy=98.71166666666667: 100%|██████████| 469/469 [00:20<00:00, 23.37it/s]\n"
          ]
        },
        {
          "output_type": "stream",
          "name": "stdout",
          "text": [
            "\n",
            "Test set: Average loss: 0.0154, Accuracy: 9949/10000 (99%)\n",
            "\n",
            "epoch : 19\n"
          ]
        },
        {
          "output_type": "stream",
          "name": "stderr",
          "text": [
            "loss=0.027313729748129845 batch_id=468 Accuracy=98.695: 100%|██████████| 469/469 [00:20<00:00, 23.40it/s]\n"
          ]
        },
        {
          "output_type": "stream",
          "name": "stdout",
          "text": [
            "\n",
            "Test set: Average loss: 0.0152, Accuracy: 9952/10000 (100%)\n",
            "\n",
            "epoch : 20\n"
          ]
        },
        {
          "output_type": "stream",
          "name": "stderr",
          "text": [
            "loss=0.010196044109761715 batch_id=468 Accuracy=98.70166666666667: 100%|██████████| 469/469 [00:20<00:00, 23.31it/s]\n"
          ]
        },
        {
          "output_type": "stream",
          "name": "stdout",
          "text": [
            "\n",
            "Test set: Average loss: 0.0151, Accuracy: 9952/10000 (100%)\n",
            "\n",
            "epoch : 21\n"
          ]
        },
        {
          "output_type": "stream",
          "name": "stderr",
          "text": [
            "loss=0.017353298142552376 batch_id=468 Accuracy=98.68: 100%|██████████| 469/469 [00:20<00:00, 23.23it/s]\n"
          ]
        },
        {
          "output_type": "stream",
          "name": "stdout",
          "text": [
            "\n",
            "Test set: Average loss: 0.0153, Accuracy: 9948/10000 (99%)\n",
            "\n",
            "epoch : 22\n"
          ]
        },
        {
          "output_type": "stream",
          "name": "stderr",
          "text": [
            "loss=0.0336335189640522 batch_id=468 Accuracy=98.665: 100%|██████████| 469/469 [00:20<00:00, 23.30it/s]\n"
          ]
        },
        {
          "output_type": "stream",
          "name": "stdout",
          "text": [
            "\n",
            "Test set: Average loss: 0.0151, Accuracy: 9949/10000 (99%)\n",
            "\n",
            "epoch : 23\n"
          ]
        },
        {
          "output_type": "stream",
          "name": "stderr",
          "text": [
            "loss=0.04561696946620941 batch_id=468 Accuracy=98.67333333333333: 100%|██████████| 469/469 [00:20<00:00, 22.68it/s]\n"
          ]
        },
        {
          "output_type": "stream",
          "name": "stdout",
          "text": [
            "\n",
            "Test set: Average loss: 0.0150, Accuracy: 9951/10000 (100%)\n",
            "\n",
            "epoch : 24\n"
          ]
        },
        {
          "output_type": "stream",
          "name": "stderr",
          "text": [
            "loss=0.016920659691095352 batch_id=468 Accuracy=98.74: 100%|██████████| 469/469 [00:20<00:00, 23.38it/s]\n"
          ]
        },
        {
          "output_type": "stream",
          "name": "stdout",
          "text": [
            "\n",
            "Test set: Average loss: 0.0154, Accuracy: 9949/10000 (99%)\n",
            "\n",
            "i  2\n",
            "with L1 with BN\n",
            "epoch : 0\n"
          ]
        },
        {
          "output_type": "stream",
          "name": "stderr",
          "text": [
            "loss=0.13226403295993805 batch_id=468 Accuracy=88.60166666666667: 100%|██████████| 469/469 [00:20<00:00, 22.66it/s]\n"
          ]
        },
        {
          "output_type": "stream",
          "name": "stdout",
          "text": [
            "\n",
            "Test set: Average loss: 0.0503, Accuracy: 9834/10000 (98%)\n",
            "\n",
            "epoch : 1\n"
          ]
        },
        {
          "output_type": "stream",
          "name": "stderr",
          "text": [
            "loss=0.1471603661775589 batch_id=468 Accuracy=96.17333333333333: 100%|██████████| 469/469 [00:20<00:00, 22.62it/s]\n"
          ]
        },
        {
          "output_type": "stream",
          "name": "stdout",
          "text": [
            "\n",
            "Test set: Average loss: 0.0414, Accuracy: 9855/10000 (99%)\n",
            "\n",
            "epoch : 2\n"
          ]
        },
        {
          "output_type": "stream",
          "name": "stderr",
          "text": [
            "loss=0.10590119659900665 batch_id=468 Accuracy=97.00666666666666: 100%|██████████| 469/469 [00:20<00:00, 22.41it/s]\n"
          ]
        },
        {
          "output_type": "stream",
          "name": "stdout",
          "text": [
            "\n",
            "Test set: Average loss: 0.0351, Accuracy: 9890/10000 (99%)\n",
            "\n",
            "epoch : 3\n"
          ]
        },
        {
          "output_type": "stream",
          "name": "stderr",
          "text": [
            "loss=0.15315721929073334 batch_id=468 Accuracy=97.32833333333333: 100%|██████████| 469/469 [00:20<00:00, 22.47it/s]\n"
          ]
        },
        {
          "output_type": "stream",
          "name": "stdout",
          "text": [
            "\n",
            "Test set: Average loss: 0.0347, Accuracy: 9890/10000 (99%)\n",
            "\n",
            "epoch : 4\n"
          ]
        },
        {
          "output_type": "stream",
          "name": "stderr",
          "text": [
            "loss=0.1516028493642807 batch_id=468 Accuracy=97.585: 100%|██████████| 469/469 [00:20<00:00, 22.52it/s]\n"
          ]
        },
        {
          "output_type": "stream",
          "name": "stdout",
          "text": [
            "\n",
            "Test set: Average loss: 0.0250, Accuracy: 9911/10000 (99%)\n",
            "\n",
            "epoch : 5\n"
          ]
        },
        {
          "output_type": "stream",
          "name": "stderr",
          "text": [
            "loss=0.1156337633728981 batch_id=468 Accuracy=97.77333333333333: 100%|██████████| 469/469 [00:20<00:00, 22.65it/s]\n"
          ]
        },
        {
          "output_type": "stream",
          "name": "stdout",
          "text": [
            "\n",
            "Test set: Average loss: 0.0321, Accuracy: 9892/10000 (99%)\n",
            "\n",
            "epoch : 6\n"
          ]
        },
        {
          "output_type": "stream",
          "name": "stderr",
          "text": [
            "loss=0.11051161587238312 batch_id=468 Accuracy=97.825: 100%|██████████| 469/469 [00:20<00:00, 22.44it/s]\n"
          ]
        },
        {
          "output_type": "stream",
          "name": "stdout",
          "text": [
            "\n",
            "Test set: Average loss: 0.0282, Accuracy: 9907/10000 (99%)\n",
            "\n",
            "epoch : 7\n"
          ]
        },
        {
          "output_type": "stream",
          "name": "stderr",
          "text": [
            "loss=0.09607240557670593 batch_id=468 Accuracy=97.97666666666667: 100%|██████████| 469/469 [00:20<00:00, 22.58it/s]\n"
          ]
        },
        {
          "output_type": "stream",
          "name": "stdout",
          "text": [
            "\n",
            "Test set: Average loss: 0.0255, Accuracy: 9915/10000 (99%)\n",
            "\n",
            "epoch : 8\n"
          ]
        },
        {
          "output_type": "stream",
          "name": "stderr",
          "text": [
            "loss=0.06534207612276077 batch_id=468 Accuracy=98.05666666666667: 100%|██████████| 469/469 [00:20<00:00, 22.37it/s]\n"
          ]
        },
        {
          "output_type": "stream",
          "name": "stdout",
          "text": [
            "\n",
            "Test set: Average loss: 0.0287, Accuracy: 9914/10000 (99%)\n",
            "\n",
            "epoch : 9\n"
          ]
        },
        {
          "output_type": "stream",
          "name": "stderr",
          "text": [
            "loss=0.08299198001623154 batch_id=468 Accuracy=98.02166666666666: 100%|██████████| 469/469 [00:20<00:00, 22.78it/s]\n"
          ]
        },
        {
          "output_type": "stream",
          "name": "stdout",
          "text": [
            "\n",
            "Test set: Average loss: 0.0224, Accuracy: 9917/10000 (99%)\n",
            "\n",
            "epoch : 10\n"
          ]
        },
        {
          "output_type": "stream",
          "name": "stderr",
          "text": [
            "loss=0.06800004839897156 batch_id=468 Accuracy=98.57833333333333: 100%|██████████| 469/469 [00:21<00:00, 21.87it/s]\n"
          ]
        },
        {
          "output_type": "stream",
          "name": "stdout",
          "text": [
            "\n",
            "Test set: Average loss: 0.0171, Accuracy: 9946/10000 (99%)\n",
            "\n",
            "epoch : 11\n"
          ]
        },
        {
          "output_type": "stream",
          "name": "stderr",
          "text": [
            "loss=0.07369852811098099 batch_id=468 Accuracy=98.64666666666666: 100%|██████████| 469/469 [00:21<00:00, 21.84it/s]\n"
          ]
        },
        {
          "output_type": "stream",
          "name": "stdout",
          "text": [
            "\n",
            "Test set: Average loss: 0.0170, Accuracy: 9945/10000 (99%)\n",
            "\n",
            "epoch : 12\n"
          ]
        },
        {
          "output_type": "stream",
          "name": "stderr",
          "text": [
            "loss=0.08538024127483368 batch_id=468 Accuracy=98.68166666666667: 100%|██████████| 469/469 [00:21<00:00, 21.68it/s]\n"
          ]
        },
        {
          "output_type": "stream",
          "name": "stdout",
          "text": [
            "\n",
            "Test set: Average loss: 0.0182, Accuracy: 9940/10000 (99%)\n",
            "\n",
            "epoch : 13\n"
          ]
        },
        {
          "output_type": "stream",
          "name": "stderr",
          "text": [
            "loss=0.057714708149433136 batch_id=468 Accuracy=98.795: 100%|██████████| 469/469 [00:21<00:00, 21.90it/s]\n"
          ]
        },
        {
          "output_type": "stream",
          "name": "stdout",
          "text": [
            "\n",
            "Test set: Average loss: 0.0166, Accuracy: 9951/10000 (100%)\n",
            "\n",
            "epoch : 14\n"
          ]
        },
        {
          "output_type": "stream",
          "name": "stderr",
          "text": [
            "loss=0.10455748438835144 batch_id=468 Accuracy=98.76: 100%|██████████| 469/469 [00:21<00:00, 21.61it/s]\n"
          ]
        },
        {
          "output_type": "stream",
          "name": "stdout",
          "text": [
            "\n",
            "Test set: Average loss: 0.0163, Accuracy: 9950/10000 (100%)\n",
            "\n",
            "epoch : 15\n"
          ]
        },
        {
          "output_type": "stream",
          "name": "stderr",
          "text": [
            "loss=0.21204304695129395 batch_id=468 Accuracy=98.78: 100%|██████████| 469/469 [00:21<00:00, 22.24it/s]\n"
          ]
        },
        {
          "output_type": "stream",
          "name": "stdout",
          "text": [
            "\n",
            "Test set: Average loss: 0.0160, Accuracy: 9948/10000 (99%)\n",
            "\n",
            "epoch : 16\n"
          ]
        },
        {
          "output_type": "stream",
          "name": "stderr",
          "text": [
            "loss=0.08333742618560791 batch_id=468 Accuracy=98.80333333333333: 100%|██████████| 469/469 [00:20<00:00, 22.37it/s]\n"
          ]
        },
        {
          "output_type": "stream",
          "name": "stdout",
          "text": [
            "\n",
            "Test set: Average loss: 0.0162, Accuracy: 9943/10000 (99%)\n",
            "\n",
            "epoch : 17\n"
          ]
        },
        {
          "output_type": "stream",
          "name": "stderr",
          "text": [
            "loss=0.08066990971565247 batch_id=468 Accuracy=98.83: 100%|██████████| 469/469 [00:20<00:00, 22.55it/s]\n"
          ]
        },
        {
          "output_type": "stream",
          "name": "stdout",
          "text": [
            "\n",
            "Test set: Average loss: 0.0158, Accuracy: 9944/10000 (99%)\n",
            "\n",
            "epoch : 18\n"
          ]
        },
        {
          "output_type": "stream",
          "name": "stderr",
          "text": [
            "loss=0.06290894001722336 batch_id=468 Accuracy=98.77666666666667: 100%|██████████| 469/469 [00:20<00:00, 22.39it/s]\n"
          ]
        },
        {
          "output_type": "stream",
          "name": "stdout",
          "text": [
            "\n",
            "Test set: Average loss: 0.0165, Accuracy: 9948/10000 (99%)\n",
            "\n",
            "epoch : 19\n"
          ]
        },
        {
          "output_type": "stream",
          "name": "stderr",
          "text": [
            "loss=0.1269376426935196 batch_id=468 Accuracy=98.78: 100%|██████████| 469/469 [00:20<00:00, 22.33it/s]\n"
          ]
        },
        {
          "output_type": "stream",
          "name": "stdout",
          "text": [
            "\n",
            "Test set: Average loss: 0.0162, Accuracy: 9945/10000 (99%)\n",
            "\n",
            "epoch : 20\n"
          ]
        },
        {
          "output_type": "stream",
          "name": "stderr",
          "text": [
            "loss=0.07088197022676468 batch_id=468 Accuracy=98.76833333333333: 100%|██████████| 469/469 [00:20<00:00, 22.56it/s]\n"
          ]
        },
        {
          "output_type": "stream",
          "name": "stdout",
          "text": [
            "\n",
            "Test set: Average loss: 0.0164, Accuracy: 9945/10000 (99%)\n",
            "\n",
            "epoch : 21\n"
          ]
        },
        {
          "output_type": "stream",
          "name": "stderr",
          "text": [
            "loss=0.07766007632017136 batch_id=468 Accuracy=98.83333333333333: 100%|██████████| 469/469 [00:20<00:00, 22.77it/s]\n"
          ]
        },
        {
          "output_type": "stream",
          "name": "stdout",
          "text": [
            "\n",
            "Test set: Average loss: 0.0159, Accuracy: 9944/10000 (99%)\n",
            "\n",
            "epoch : 22\n"
          ]
        },
        {
          "output_type": "stream",
          "name": "stderr",
          "text": [
            "loss=0.07134528458118439 batch_id=468 Accuracy=98.80666666666667: 100%|██████████| 469/469 [00:21<00:00, 22.16it/s]\n"
          ]
        },
        {
          "output_type": "stream",
          "name": "stdout",
          "text": [
            "\n",
            "Test set: Average loss: 0.0159, Accuracy: 9950/10000 (100%)\n",
            "\n",
            "epoch : 23\n"
          ]
        },
        {
          "output_type": "stream",
          "name": "stderr",
          "text": [
            "loss=0.06878027319908142 batch_id=468 Accuracy=98.83166666666666: 100%|██████████| 469/469 [00:21<00:00, 21.71it/s]\n"
          ]
        },
        {
          "output_type": "stream",
          "name": "stdout",
          "text": [
            "\n",
            "Test set: Average loss: 0.0160, Accuracy: 9947/10000 (99%)\n",
            "\n",
            "epoch : 24\n"
          ]
        },
        {
          "output_type": "stream",
          "name": "stderr",
          "text": [
            "loss=0.07444747537374496 batch_id=468 Accuracy=98.83166666666666: 100%|██████████| 469/469 [00:20<00:00, 22.48it/s]\n"
          ]
        },
        {
          "output_type": "stream",
          "name": "stdout",
          "text": [
            "\n",
            "Test set: Average loss: 0.0160, Accuracy: 9945/10000 (99%)\n",
            "\n",
            "i  3\n",
            "with L1 with GBN\n",
            "epoch : 0\n"
          ]
        },
        {
          "output_type": "stream",
          "name": "stderr",
          "text": [
            "loss=0.17484918236732483 batch_id=468 Accuracy=88.595: 100%|██████████| 469/469 [00:21<00:00, 22.23it/s]\n"
          ]
        },
        {
          "output_type": "stream",
          "name": "stdout",
          "text": [
            "\n",
            "Test set: Average loss: 0.0477, Accuracy: 9852/10000 (99%)\n",
            "\n",
            "epoch : 1\n"
          ]
        },
        {
          "output_type": "stream",
          "name": "stderr",
          "text": [
            "loss=0.11721597611904144 batch_id=468 Accuracy=96.01333333333334: 100%|██████████| 469/469 [00:21<00:00, 22.15it/s]\n"
          ]
        },
        {
          "output_type": "stream",
          "name": "stdout",
          "text": [
            "\n",
            "Test set: Average loss: 0.0364, Accuracy: 9881/10000 (99%)\n",
            "\n",
            "epoch : 2\n"
          ]
        },
        {
          "output_type": "stream",
          "name": "stderr",
          "text": [
            "loss=0.12731391191482544 batch_id=468 Accuracy=96.96833333333333: 100%|██████████| 469/469 [00:21<00:00, 21.71it/s]\n"
          ]
        },
        {
          "output_type": "stream",
          "name": "stdout",
          "text": [
            "\n",
            "Test set: Average loss: 0.0319, Accuracy: 9904/10000 (99%)\n",
            "\n",
            "epoch : 3\n"
          ]
        },
        {
          "output_type": "stream",
          "name": "stderr",
          "text": [
            "loss=0.0873059332370758 batch_id=468 Accuracy=97.33666666666667: 100%|██████████| 469/469 [00:21<00:00, 21.73it/s]\n"
          ]
        },
        {
          "output_type": "stream",
          "name": "stdout",
          "text": [
            "\n",
            "Test set: Average loss: 0.0289, Accuracy: 9901/10000 (99%)\n",
            "\n",
            "epoch : 4\n"
          ]
        },
        {
          "output_type": "stream",
          "name": "stderr",
          "text": [
            "loss=0.08388928323984146 batch_id=468 Accuracy=97.44333333333333: 100%|██████████| 469/469 [00:21<00:00, 21.57it/s]\n"
          ]
        },
        {
          "output_type": "stream",
          "name": "stdout",
          "text": [
            "\n",
            "Test set: Average loss: 0.0286, Accuracy: 9913/10000 (99%)\n",
            "\n",
            "epoch : 5\n"
          ]
        },
        {
          "output_type": "stream",
          "name": "stderr",
          "text": [
            "loss=0.13612504303455353 batch_id=468 Accuracy=97.76: 100%|██████████| 469/469 [00:21<00:00, 21.99it/s]\n"
          ]
        },
        {
          "output_type": "stream",
          "name": "stdout",
          "text": [
            "\n",
            "Test set: Average loss: 0.0278, Accuracy: 9916/10000 (99%)\n",
            "\n",
            "epoch : 6\n"
          ]
        },
        {
          "output_type": "stream",
          "name": "stderr",
          "text": [
            "loss=0.11022484302520752 batch_id=468 Accuracy=97.895: 100%|██████████| 469/469 [00:21<00:00, 22.06it/s]\n"
          ]
        },
        {
          "output_type": "stream",
          "name": "stdout",
          "text": [
            "\n",
            "Test set: Average loss: 0.0268, Accuracy: 9908/10000 (99%)\n",
            "\n",
            "epoch : 7\n"
          ]
        },
        {
          "output_type": "stream",
          "name": "stderr",
          "text": [
            "loss=0.1509908139705658 batch_id=468 Accuracy=97.95166666666667: 100%|██████████| 469/469 [00:21<00:00, 21.94it/s]\n"
          ]
        },
        {
          "output_type": "stream",
          "name": "stdout",
          "text": [
            "\n",
            "Test set: Average loss: 0.0312, Accuracy: 9904/10000 (99%)\n",
            "\n",
            "epoch : 8\n"
          ]
        },
        {
          "output_type": "stream",
          "name": "stderr",
          "text": [
            "loss=0.25196436047554016 batch_id=468 Accuracy=98.005: 100%|██████████| 469/469 [00:21<00:00, 22.04it/s]\n"
          ]
        },
        {
          "output_type": "stream",
          "name": "stdout",
          "text": [
            "\n",
            "Test set: Average loss: 0.0272, Accuracy: 9912/10000 (99%)\n",
            "\n",
            "epoch : 9\n"
          ]
        },
        {
          "output_type": "stream",
          "name": "stderr",
          "text": [
            "loss=0.11499956995248795 batch_id=468 Accuracy=97.97: 100%|██████████| 469/469 [00:21<00:00, 22.30it/s]\n"
          ]
        },
        {
          "output_type": "stream",
          "name": "stdout",
          "text": [
            "\n",
            "Test set: Average loss: 0.0295, Accuracy: 9909/10000 (99%)\n",
            "\n",
            "epoch : 10\n"
          ]
        },
        {
          "output_type": "stream",
          "name": "stderr",
          "text": [
            "loss=0.0736154317855835 batch_id=468 Accuracy=98.44666666666667: 100%|██████████| 469/469 [00:21<00:00, 21.47it/s]\n"
          ]
        },
        {
          "output_type": "stream",
          "name": "stdout",
          "text": [
            "\n",
            "Test set: Average loss: 0.0204, Accuracy: 9934/10000 (99%)\n",
            "\n",
            "epoch : 11\n"
          ]
        },
        {
          "output_type": "stream",
          "name": "stderr",
          "text": [
            "loss=0.08597048372030258 batch_id=468 Accuracy=98.55666666666667: 100%|██████████| 469/469 [00:21<00:00, 22.31it/s]\n"
          ]
        },
        {
          "output_type": "stream",
          "name": "stdout",
          "text": [
            "\n",
            "Test set: Average loss: 0.0214, Accuracy: 9932/10000 (99%)\n",
            "\n",
            "epoch : 12\n"
          ]
        },
        {
          "output_type": "stream",
          "name": "stderr",
          "text": [
            "loss=0.06777696311473846 batch_id=468 Accuracy=98.57666666666667: 100%|██████████| 469/469 [00:20<00:00, 22.36it/s]\n"
          ]
        },
        {
          "output_type": "stream",
          "name": "stdout",
          "text": [
            "\n",
            "Test set: Average loss: 0.0207, Accuracy: 9941/10000 (99%)\n",
            "\n",
            "epoch : 13\n"
          ]
        },
        {
          "output_type": "stream",
          "name": "stderr",
          "text": [
            "loss=0.07263214141130447 batch_id=468 Accuracy=98.665: 100%|██████████| 469/469 [00:20<00:00, 22.38it/s]\n"
          ]
        },
        {
          "output_type": "stream",
          "name": "stdout",
          "text": [
            "\n",
            "Test set: Average loss: 0.0203, Accuracy: 9936/10000 (99%)\n",
            "\n",
            "epoch : 14\n"
          ]
        },
        {
          "output_type": "stream",
          "name": "stderr",
          "text": [
            "loss=0.11733169853687286 batch_id=468 Accuracy=98.64166666666667: 100%|██████████| 469/469 [00:21<00:00, 21.72it/s]\n"
          ]
        },
        {
          "output_type": "stream",
          "name": "stdout",
          "text": [
            "\n",
            "Test set: Average loss: 0.0201, Accuracy: 9939/10000 (99%)\n",
            "\n",
            "epoch : 15\n"
          ]
        },
        {
          "output_type": "stream",
          "name": "stderr",
          "text": [
            "loss=0.10057825595140457 batch_id=468 Accuracy=98.67333333333333: 100%|██████████| 469/469 [00:21<00:00, 21.86it/s]\n"
          ]
        },
        {
          "output_type": "stream",
          "name": "stdout",
          "text": [
            "\n",
            "Test set: Average loss: 0.0203, Accuracy: 9938/10000 (99%)\n",
            "\n",
            "epoch : 16\n"
          ]
        },
        {
          "output_type": "stream",
          "name": "stderr",
          "text": [
            "loss=0.1217784434556961 batch_id=468 Accuracy=98.74666666666667: 100%|██████████| 469/469 [00:21<00:00, 22.09it/s]\n"
          ]
        },
        {
          "output_type": "stream",
          "name": "stdout",
          "text": [
            "\n",
            "Test set: Average loss: 0.0202, Accuracy: 9935/10000 (99%)\n",
            "\n",
            "epoch : 17\n"
          ]
        },
        {
          "output_type": "stream",
          "name": "stderr",
          "text": [
            "loss=0.11059132218360901 batch_id=468 Accuracy=98.61333333333333: 100%|██████████| 469/469 [00:21<00:00, 22.30it/s]\n"
          ]
        },
        {
          "output_type": "stream",
          "name": "stdout",
          "text": [
            "\n",
            "Test set: Average loss: 0.0201, Accuracy: 9938/10000 (99%)\n",
            "\n",
            "epoch : 18\n"
          ]
        },
        {
          "output_type": "stream",
          "name": "stderr",
          "text": [
            "loss=0.07948360592126846 batch_id=468 Accuracy=98.72333333333333: 100%|██████████| 469/469 [00:21<00:00, 22.03it/s]\n"
          ]
        },
        {
          "output_type": "stream",
          "name": "stdout",
          "text": [
            "\n",
            "Test set: Average loss: 0.0203, Accuracy: 9939/10000 (99%)\n",
            "\n",
            "epoch : 19\n"
          ]
        },
        {
          "output_type": "stream",
          "name": "stderr",
          "text": [
            "loss=0.06183494254946709 batch_id=468 Accuracy=98.83666666666667: 100%|██████████| 469/469 [00:21<00:00, 22.28it/s]\n"
          ]
        },
        {
          "output_type": "stream",
          "name": "stdout",
          "text": [
            "\n",
            "Test set: Average loss: 0.0204, Accuracy: 9938/10000 (99%)\n",
            "\n",
            "epoch : 20\n"
          ]
        },
        {
          "output_type": "stream",
          "name": "stderr",
          "text": [
            "loss=0.09049995988607407 batch_id=468 Accuracy=98.71166666666667: 100%|██████████| 469/469 [00:20<00:00, 22.59it/s]\n"
          ]
        },
        {
          "output_type": "stream",
          "name": "stdout",
          "text": [
            "\n",
            "Test set: Average loss: 0.0203, Accuracy: 9938/10000 (99%)\n",
            "\n",
            "epoch : 21\n"
          ]
        },
        {
          "output_type": "stream",
          "name": "stderr",
          "text": [
            "loss=0.09789919853210449 batch_id=468 Accuracy=98.64166666666667: 100%|██████████| 469/469 [00:21<00:00, 22.33it/s]\n"
          ]
        },
        {
          "output_type": "stream",
          "name": "stdout",
          "text": [
            "\n",
            "Test set: Average loss: 0.0200, Accuracy: 9939/10000 (99%)\n",
            "\n",
            "epoch : 22\n"
          ]
        },
        {
          "output_type": "stream",
          "name": "stderr",
          "text": [
            "loss=0.07201366126537323 batch_id=468 Accuracy=98.73833333333333: 100%|██████████| 469/469 [00:21<00:00, 22.28it/s]\n"
          ]
        },
        {
          "output_type": "stream",
          "name": "stdout",
          "text": [
            "\n",
            "Test set: Average loss: 0.0201, Accuracy: 9938/10000 (99%)\n",
            "\n",
            "epoch : 23\n"
          ]
        },
        {
          "output_type": "stream",
          "name": "stderr",
          "text": [
            "loss=0.1655152142047882 batch_id=468 Accuracy=98.72166666666666: 100%|██████████| 469/469 [00:22<00:00, 21.30it/s]\n"
          ]
        },
        {
          "output_type": "stream",
          "name": "stdout",
          "text": [
            "\n",
            "Test set: Average loss: 0.0200, Accuracy: 9935/10000 (99%)\n",
            "\n",
            "epoch : 24\n"
          ]
        },
        {
          "output_type": "stream",
          "name": "stderr",
          "text": [
            "loss=0.09450803697109222 batch_id=468 Accuracy=98.79333333333334: 100%|██████████| 469/469 [00:21<00:00, 21.89it/s]\n"
          ]
        },
        {
          "output_type": "stream",
          "name": "stdout",
          "text": [
            "\n",
            "Test set: Average loss: 0.0204, Accuracy: 9938/10000 (99%)\n",
            "\n",
            "i  4\n",
            "with L2 with BN\n",
            "epoch : 0\n"
          ]
        },
        {
          "output_type": "stream",
          "name": "stderr",
          "text": [
            "loss=0.23733948171138763 batch_id=468 Accuracy=88.685: 100%|██████████| 469/469 [00:20<00:00, 22.98it/s]\n"
          ]
        },
        {
          "output_type": "stream",
          "name": "stdout",
          "text": [
            "\n",
            "Test set: Average loss: 0.0731, Accuracy: 9778/10000 (98%)\n",
            "\n",
            "epoch : 1\n"
          ]
        },
        {
          "output_type": "stream",
          "name": "stderr",
          "text": [
            "loss=0.06844905763864517 batch_id=468 Accuracy=96.36: 100%|██████████| 469/469 [00:20<00:00, 23.13it/s]\n"
          ]
        },
        {
          "output_type": "stream",
          "name": "stdout",
          "text": [
            "\n",
            "Test set: Average loss: 0.0549, Accuracy: 9827/10000 (98%)\n",
            "\n",
            "epoch : 2\n"
          ]
        },
        {
          "output_type": "stream",
          "name": "stderr",
          "text": [
            "loss=0.2441566437482834 batch_id=468 Accuracy=97.10166666666667: 100%|██████████| 469/469 [00:20<00:00, 23.29it/s]\n"
          ]
        },
        {
          "output_type": "stream",
          "name": "stdout",
          "text": [
            "\n",
            "Test set: Average loss: 0.0354, Accuracy: 9892/10000 (99%)\n",
            "\n",
            "epoch : 3\n"
          ]
        },
        {
          "output_type": "stream",
          "name": "stderr",
          "text": [
            "loss=0.0630745217204094 batch_id=468 Accuracy=97.43333333333334: 100%|██████████| 469/469 [00:20<00:00, 23.03it/s]\n"
          ]
        },
        {
          "output_type": "stream",
          "name": "stdout",
          "text": [
            "\n",
            "Test set: Average loss: 0.0310, Accuracy: 9896/10000 (99%)\n",
            "\n",
            "epoch : 4\n"
          ]
        },
        {
          "output_type": "stream",
          "name": "stderr",
          "text": [
            "loss=0.07065566629171371 batch_id=468 Accuracy=97.62333333333333: 100%|██████████| 469/469 [00:20<00:00, 22.91it/s]\n"
          ]
        },
        {
          "output_type": "stream",
          "name": "stdout",
          "text": [
            "\n",
            "Test set: Average loss: 0.0320, Accuracy: 9901/10000 (99%)\n",
            "\n",
            "epoch : 5\n"
          ]
        },
        {
          "output_type": "stream",
          "name": "stderr",
          "text": [
            "loss=0.04463654384016991 batch_id=468 Accuracy=97.77333333333333: 100%|██████████| 469/469 [00:20<00:00, 23.16it/s]\n"
          ]
        },
        {
          "output_type": "stream",
          "name": "stdout",
          "text": [
            "\n",
            "Test set: Average loss: 0.0244, Accuracy: 9906/10000 (99%)\n",
            "\n",
            "epoch : 6\n"
          ]
        },
        {
          "output_type": "stream",
          "name": "stderr",
          "text": [
            "loss=0.03460334241390228 batch_id=468 Accuracy=98.01666666666667: 100%|██████████| 469/469 [00:20<00:00, 23.31it/s]\n"
          ]
        },
        {
          "output_type": "stream",
          "name": "stdout",
          "text": [
            "\n",
            "Test set: Average loss: 0.0274, Accuracy: 9910/10000 (99%)\n",
            "\n",
            "epoch : 7\n"
          ]
        },
        {
          "output_type": "stream",
          "name": "stderr",
          "text": [
            "loss=0.010833227075636387 batch_id=468 Accuracy=98.08166666666666: 100%|██████████| 469/469 [00:20<00:00, 23.14it/s]\n"
          ]
        },
        {
          "output_type": "stream",
          "name": "stdout",
          "text": [
            "\n",
            "Test set: Average loss: 0.0261, Accuracy: 9906/10000 (99%)\n",
            "\n",
            "epoch : 8\n"
          ]
        },
        {
          "output_type": "stream",
          "name": "stderr",
          "text": [
            "loss=0.060442179441452026 batch_id=468 Accuracy=98.17666666666666: 100%|██████████| 469/469 [00:20<00:00, 23.32it/s]\n"
          ]
        },
        {
          "output_type": "stream",
          "name": "stdout",
          "text": [
            "\n",
            "Test set: Average loss: 0.0306, Accuracy: 9897/10000 (99%)\n",
            "\n",
            "epoch : 9\n"
          ]
        },
        {
          "output_type": "stream",
          "name": "stderr",
          "text": [
            "loss=0.022751273587346077 batch_id=468 Accuracy=98.23666666666666: 100%|██████████| 469/469 [00:19<00:00, 23.53it/s]\n"
          ]
        },
        {
          "output_type": "stream",
          "name": "stdout",
          "text": [
            "\n",
            "Test set: Average loss: 0.0268, Accuracy: 9909/10000 (99%)\n",
            "\n",
            "epoch : 10\n"
          ]
        },
        {
          "output_type": "stream",
          "name": "stderr",
          "text": [
            "loss=0.08813875168561935 batch_id=468 Accuracy=98.46: 100%|██████████| 469/469 [00:20<00:00, 23.25it/s]\n"
          ]
        },
        {
          "output_type": "stream",
          "name": "stdout",
          "text": [
            "\n",
            "Test set: Average loss: 0.0207, Accuracy: 9940/10000 (99%)\n",
            "\n",
            "epoch : 11\n"
          ]
        },
        {
          "output_type": "stream",
          "name": "stderr",
          "text": [
            "loss=0.04498342052102089 batch_id=468 Accuracy=98.64833333333333: 100%|██████████| 469/469 [00:21<00:00, 22.29it/s]\n"
          ]
        },
        {
          "output_type": "stream",
          "name": "stdout",
          "text": [
            "\n",
            "Test set: Average loss: 0.0207, Accuracy: 9938/10000 (99%)\n",
            "\n",
            "epoch : 12\n"
          ]
        },
        {
          "output_type": "stream",
          "name": "stderr",
          "text": [
            "loss=0.046873774379491806 batch_id=468 Accuracy=98.64666666666666: 100%|██████████| 469/469 [00:20<00:00, 23.19it/s]\n"
          ]
        },
        {
          "output_type": "stream",
          "name": "stdout",
          "text": [
            "\n",
            "Test set: Average loss: 0.0198, Accuracy: 9936/10000 (99%)\n",
            "\n",
            "epoch : 13\n"
          ]
        },
        {
          "output_type": "stream",
          "name": "stderr",
          "text": [
            "loss=0.014019417576491833 batch_id=468 Accuracy=98.75833333333334: 100%|██████████| 469/469 [00:20<00:00, 22.94it/s]\n"
          ]
        },
        {
          "output_type": "stream",
          "name": "stdout",
          "text": [
            "\n",
            "Test set: Average loss: 0.0194, Accuracy: 9940/10000 (99%)\n",
            "\n",
            "epoch : 14\n"
          ]
        },
        {
          "output_type": "stream",
          "name": "stderr",
          "text": [
            "loss=0.02591695450246334 batch_id=468 Accuracy=98.78166666666667: 100%|██████████| 469/469 [00:20<00:00, 23.13it/s]\n"
          ]
        },
        {
          "output_type": "stream",
          "name": "stdout",
          "text": [
            "\n",
            "Test set: Average loss: 0.0196, Accuracy: 9937/10000 (99%)\n",
            "\n",
            "epoch : 15\n"
          ]
        },
        {
          "output_type": "stream",
          "name": "stderr",
          "text": [
            "loss=0.15030287206172943 batch_id=468 Accuracy=98.79333333333334: 100%|██████████| 469/469 [00:20<00:00, 23.35it/s]\n"
          ]
        },
        {
          "output_type": "stream",
          "name": "stdout",
          "text": [
            "\n",
            "Test set: Average loss: 0.0191, Accuracy: 9941/10000 (99%)\n",
            "\n",
            "epoch : 16\n"
          ]
        },
        {
          "output_type": "stream",
          "name": "stderr",
          "text": [
            "loss=0.036024898290634155 batch_id=468 Accuracy=98.78833333333333: 100%|██████████| 469/469 [00:20<00:00, 23.23it/s]\n"
          ]
        },
        {
          "output_type": "stream",
          "name": "stdout",
          "text": [
            "\n",
            "Test set: Average loss: 0.0193, Accuracy: 9945/10000 (99%)\n",
            "\n",
            "epoch : 17\n"
          ]
        },
        {
          "output_type": "stream",
          "name": "stderr",
          "text": [
            "loss=0.041959166526794434 batch_id=468 Accuracy=98.765: 100%|██████████| 469/469 [00:20<00:00, 23.30it/s]\n"
          ]
        },
        {
          "output_type": "stream",
          "name": "stdout",
          "text": [
            "\n",
            "Test set: Average loss: 0.0189, Accuracy: 9943/10000 (99%)\n",
            "\n",
            "epoch : 18\n"
          ]
        },
        {
          "output_type": "stream",
          "name": "stderr",
          "text": [
            "loss=0.0537223257124424 batch_id=468 Accuracy=98.78166666666667: 100%|██████████| 469/469 [00:20<00:00, 23.06it/s]\n"
          ]
        },
        {
          "output_type": "stream",
          "name": "stdout",
          "text": [
            "\n",
            "Test set: Average loss: 0.0193, Accuracy: 9945/10000 (99%)\n",
            "\n",
            "epoch : 19\n"
          ]
        },
        {
          "output_type": "stream",
          "name": "stderr",
          "text": [
            "loss=0.04299503564834595 batch_id=468 Accuracy=98.78: 100%|██████████| 469/469 [00:19<00:00, 23.52it/s]\n"
          ]
        },
        {
          "output_type": "stream",
          "name": "stdout",
          "text": [
            "\n",
            "Test set: Average loss: 0.0193, Accuracy: 9939/10000 (99%)\n",
            "\n",
            "epoch : 20\n"
          ]
        },
        {
          "output_type": "stream",
          "name": "stderr",
          "text": [
            "loss=0.015997175127267838 batch_id=468 Accuracy=98.77166666666666: 100%|██████████| 469/469 [00:20<00:00, 23.41it/s]\n"
          ]
        },
        {
          "output_type": "stream",
          "name": "stdout",
          "text": [
            "\n",
            "Test set: Average loss: 0.0194, Accuracy: 9939/10000 (99%)\n",
            "\n",
            "epoch : 21\n"
          ]
        },
        {
          "output_type": "stream",
          "name": "stderr",
          "text": [
            "loss=0.018667638301849365 batch_id=468 Accuracy=98.82833333333333: 100%|██████████| 469/469 [00:20<00:00, 23.19it/s]\n"
          ]
        },
        {
          "output_type": "stream",
          "name": "stdout",
          "text": [
            "\n",
            "Test set: Average loss: 0.0190, Accuracy: 9943/10000 (99%)\n",
            "\n",
            "epoch : 22\n"
          ]
        },
        {
          "output_type": "stream",
          "name": "stderr",
          "text": [
            "loss=0.008810202591121197 batch_id=468 Accuracy=98.79666666666667: 100%|██████████| 469/469 [00:20<00:00, 23.34it/s]\n"
          ]
        },
        {
          "output_type": "stream",
          "name": "stdout",
          "text": [
            "\n",
            "Test set: Average loss: 0.0192, Accuracy: 9941/10000 (99%)\n",
            "\n",
            "epoch : 23\n"
          ]
        },
        {
          "output_type": "stream",
          "name": "stderr",
          "text": [
            "loss=0.11763692647218704 batch_id=468 Accuracy=98.745: 100%|██████████| 469/469 [00:20<00:00, 23.33it/s]\n"
          ]
        },
        {
          "output_type": "stream",
          "name": "stdout",
          "text": [
            "\n",
            "Test set: Average loss: 0.0193, Accuracy: 9940/10000 (99%)\n",
            "\n",
            "epoch : 24\n"
          ]
        },
        {
          "output_type": "stream",
          "name": "stderr",
          "text": [
            "loss=0.018447285518050194 batch_id=468 Accuracy=98.81: 100%|██████████| 469/469 [00:19<00:00, 23.51it/s]\n"
          ]
        },
        {
          "output_type": "stream",
          "name": "stdout",
          "text": [
            "\n",
            "Test set: Average loss: 0.0189, Accuracy: 9943/10000 (99%)\n",
            "\n",
            "i  5\n",
            "with L2 with GBN\n",
            "epoch : 0\n"
          ]
        },
        {
          "output_type": "stream",
          "name": "stderr",
          "text": [
            "loss=0.1401328295469284 batch_id=468 Accuracy=88.70833333333333: 100%|██████████| 469/469 [00:20<00:00, 22.97it/s]\n"
          ]
        },
        {
          "output_type": "stream",
          "name": "stdout",
          "text": [
            "\n",
            "Test set: Average loss: 0.0557, Accuracy: 9822/10000 (98%)\n",
            "\n",
            "epoch : 1\n"
          ]
        },
        {
          "output_type": "stream",
          "name": "stderr",
          "text": [
            "loss=0.15925456583499908 batch_id=468 Accuracy=96.24333333333334: 100%|██████████| 469/469 [00:20<00:00, 23.04it/s]\n"
          ]
        },
        {
          "output_type": "stream",
          "name": "stdout",
          "text": [
            "\n",
            "Test set: Average loss: 0.0373, Accuracy: 9879/10000 (99%)\n",
            "\n",
            "epoch : 2\n"
          ]
        },
        {
          "output_type": "stream",
          "name": "stderr",
          "text": [
            "loss=0.08843610435724258 batch_id=468 Accuracy=96.98166666666667: 100%|██████████| 469/469 [00:20<00:00, 22.82it/s]\n"
          ]
        },
        {
          "output_type": "stream",
          "name": "stdout",
          "text": [
            "\n",
            "Test set: Average loss: 0.0409, Accuracy: 9875/10000 (99%)\n",
            "\n",
            "epoch : 3\n"
          ]
        },
        {
          "output_type": "stream",
          "name": "stderr",
          "text": [
            "loss=0.14626097679138184 batch_id=468 Accuracy=97.29333333333334: 100%|██████████| 469/469 [00:20<00:00, 23.00it/s]\n"
          ]
        },
        {
          "output_type": "stream",
          "name": "stdout",
          "text": [
            "\n",
            "Test set: Average loss: 0.0373, Accuracy: 9870/10000 (99%)\n",
            "\n",
            "epoch : 4\n"
          ]
        },
        {
          "output_type": "stream",
          "name": "stderr",
          "text": [
            "loss=0.07369920611381531 batch_id=468 Accuracy=97.605: 100%|██████████| 469/469 [00:20<00:00, 22.97it/s]\n"
          ]
        },
        {
          "output_type": "stream",
          "name": "stdout",
          "text": [
            "\n",
            "Test set: Average loss: 0.0281, Accuracy: 9905/10000 (99%)\n",
            "\n",
            "epoch : 5\n"
          ]
        },
        {
          "output_type": "stream",
          "name": "stderr",
          "text": [
            "loss=0.03756129369139671 batch_id=468 Accuracy=97.64: 100%|██████████| 469/469 [00:20<00:00, 23.36it/s]\n"
          ]
        },
        {
          "output_type": "stream",
          "name": "stdout",
          "text": [
            "\n",
            "Test set: Average loss: 0.0329, Accuracy: 9892/10000 (99%)\n",
            "\n",
            "epoch : 6\n"
          ]
        },
        {
          "output_type": "stream",
          "name": "stderr",
          "text": [
            "loss=0.07735408842563629 batch_id=468 Accuracy=97.79666666666667: 100%|██████████| 469/469 [00:20<00:00, 23.16it/s]\n"
          ]
        },
        {
          "output_type": "stream",
          "name": "stdout",
          "text": [
            "\n",
            "Test set: Average loss: 0.0259, Accuracy: 9912/10000 (99%)\n",
            "\n",
            "epoch : 7\n"
          ]
        },
        {
          "output_type": "stream",
          "name": "stderr",
          "text": [
            "loss=0.04174909368157387 batch_id=468 Accuracy=97.945: 100%|██████████| 469/469 [00:20<00:00, 23.07it/s]\n"
          ]
        },
        {
          "output_type": "stream",
          "name": "stdout",
          "text": [
            "\n",
            "Test set: Average loss: 0.0293, Accuracy: 9903/10000 (99%)\n",
            "\n",
            "epoch : 8\n"
          ]
        },
        {
          "output_type": "stream",
          "name": "stderr",
          "text": [
            "loss=0.03508290275931358 batch_id=468 Accuracy=98.025: 100%|██████████| 469/469 [00:20<00:00, 23.06it/s]\n"
          ]
        },
        {
          "output_type": "stream",
          "name": "stdout",
          "text": [
            "\n",
            "Test set: Average loss: 0.0271, Accuracy: 9915/10000 (99%)\n",
            "\n",
            "epoch : 9\n"
          ]
        },
        {
          "output_type": "stream",
          "name": "stderr",
          "text": [
            "loss=0.026339324191212654 batch_id=468 Accuracy=98.09: 100%|██████████| 469/469 [00:20<00:00, 23.05it/s]\n"
          ]
        },
        {
          "output_type": "stream",
          "name": "stdout",
          "text": [
            "\n",
            "Test set: Average loss: 0.0311, Accuracy: 9909/10000 (99%)\n",
            "\n",
            "epoch : 10\n"
          ]
        },
        {
          "output_type": "stream",
          "name": "stderr",
          "text": [
            "loss=0.016932649537920952 batch_id=468 Accuracy=98.46666666666667: 100%|██████████| 469/469 [00:20<00:00, 23.16it/s]\n"
          ]
        },
        {
          "output_type": "stream",
          "name": "stdout",
          "text": [
            "\n",
            "Test set: Average loss: 0.0205, Accuracy: 9934/10000 (99%)\n",
            "\n",
            "epoch : 11\n"
          ]
        },
        {
          "output_type": "stream",
          "name": "stderr",
          "text": [
            "loss=0.01001454796642065 batch_id=468 Accuracy=98.59: 100%|██████████| 469/469 [00:20<00:00, 23.18it/s]\n"
          ]
        },
        {
          "output_type": "stream",
          "name": "stdout",
          "text": [
            "\n",
            "Test set: Average loss: 0.0207, Accuracy: 9934/10000 (99%)\n",
            "\n",
            "epoch : 12\n"
          ]
        },
        {
          "output_type": "stream",
          "name": "stderr",
          "text": [
            "loss=0.01031322218477726 batch_id=468 Accuracy=98.59: 100%|██████████| 469/469 [00:20<00:00, 23.29it/s]\n"
          ]
        },
        {
          "output_type": "stream",
          "name": "stdout",
          "text": [
            "\n",
            "Test set: Average loss: 0.0200, Accuracy: 9934/10000 (99%)\n",
            "\n",
            "epoch : 13\n"
          ]
        },
        {
          "output_type": "stream",
          "name": "stderr",
          "text": [
            "loss=0.03537899628281593 batch_id=468 Accuracy=98.62166666666667: 100%|██████████| 469/469 [00:20<00:00, 22.49it/s]\n"
          ]
        },
        {
          "output_type": "stream",
          "name": "stdout",
          "text": [
            "\n",
            "Test set: Average loss: 0.0194, Accuracy: 9940/10000 (99%)\n",
            "\n",
            "epoch : 14\n"
          ]
        },
        {
          "output_type": "stream",
          "name": "stderr",
          "text": [
            "loss=0.06463300436735153 batch_id=468 Accuracy=98.72166666666666: 100%|██████████| 469/469 [00:20<00:00, 23.13it/s]\n"
          ]
        },
        {
          "output_type": "stream",
          "name": "stdout",
          "text": [
            "\n",
            "Test set: Average loss: 0.0192, Accuracy: 9943/10000 (99%)\n",
            "\n",
            "epoch : 15\n"
          ]
        },
        {
          "output_type": "stream",
          "name": "stderr",
          "text": [
            "loss=0.04109274968504906 batch_id=468 Accuracy=98.765: 100%|██████████| 469/469 [00:20<00:00, 22.99it/s]\n"
          ]
        },
        {
          "output_type": "stream",
          "name": "stdout",
          "text": [
            "\n",
            "Test set: Average loss: 0.0186, Accuracy: 9940/10000 (99%)\n",
            "\n",
            "epoch : 16\n"
          ]
        },
        {
          "output_type": "stream",
          "name": "stderr",
          "text": [
            "loss=0.02940347231924534 batch_id=468 Accuracy=98.685: 100%|██████████| 469/469 [00:20<00:00, 22.93it/s]\n"
          ]
        },
        {
          "output_type": "stream",
          "name": "stdout",
          "text": [
            "\n",
            "Test set: Average loss: 0.0193, Accuracy: 9938/10000 (99%)\n",
            "\n",
            "epoch : 17\n"
          ]
        },
        {
          "output_type": "stream",
          "name": "stderr",
          "text": [
            "loss=0.04911331459879875 batch_id=468 Accuracy=98.665: 100%|██████████| 469/469 [00:19<00:00, 23.51it/s]\n"
          ]
        },
        {
          "output_type": "stream",
          "name": "stdout",
          "text": [
            "\n",
            "Test set: Average loss: 0.0184, Accuracy: 9940/10000 (99%)\n",
            "\n",
            "epoch : 18\n"
          ]
        },
        {
          "output_type": "stream",
          "name": "stderr",
          "text": [
            "loss=0.02490498311817646 batch_id=468 Accuracy=98.68333333333334: 100%|██████████| 469/469 [00:20<00:00, 23.06it/s]\n"
          ]
        },
        {
          "output_type": "stream",
          "name": "stdout",
          "text": [
            "\n",
            "Test set: Average loss: 0.0189, Accuracy: 9936/10000 (99%)\n",
            "\n",
            "epoch : 19\n"
          ]
        },
        {
          "output_type": "stream",
          "name": "stderr",
          "text": [
            "loss=0.05802777409553528 batch_id=468 Accuracy=98.735: 100%|██████████| 469/469 [00:20<00:00, 22.86it/s]\n"
          ]
        },
        {
          "output_type": "stream",
          "name": "stdout",
          "text": [
            "\n",
            "Test set: Average loss: 0.0187, Accuracy: 9939/10000 (99%)\n",
            "\n",
            "epoch : 20\n"
          ]
        },
        {
          "output_type": "stream",
          "name": "stderr",
          "text": [
            "loss=0.08412081748247147 batch_id=468 Accuracy=98.72: 100%|██████████| 469/469 [00:20<00:00, 23.02it/s]\n"
          ]
        },
        {
          "output_type": "stream",
          "name": "stdout",
          "text": [
            "\n",
            "Test set: Average loss: 0.0191, Accuracy: 9934/10000 (99%)\n",
            "\n",
            "epoch : 21\n"
          ]
        },
        {
          "output_type": "stream",
          "name": "stderr",
          "text": [
            "loss=0.07531117647886276 batch_id=468 Accuracy=98.695: 100%|██████████| 469/469 [00:20<00:00, 23.28it/s]\n"
          ]
        },
        {
          "output_type": "stream",
          "name": "stdout",
          "text": [
            "\n",
            "Test set: Average loss: 0.0190, Accuracy: 9938/10000 (99%)\n",
            "\n",
            "epoch : 22\n"
          ]
        },
        {
          "output_type": "stream",
          "name": "stderr",
          "text": [
            "loss=0.1741132140159607 batch_id=468 Accuracy=98.68666666666667: 100%|██████████| 469/469 [00:20<00:00, 22.93it/s]\n"
          ]
        },
        {
          "output_type": "stream",
          "name": "stdout",
          "text": [
            "\n",
            "Test set: Average loss: 0.0186, Accuracy: 9937/10000 (99%)\n",
            "\n",
            "epoch : 23\n"
          ]
        },
        {
          "output_type": "stream",
          "name": "stderr",
          "text": [
            "loss=0.05373452976346016 batch_id=468 Accuracy=98.75666666666666: 100%|██████████| 469/469 [00:20<00:00, 23.11it/s]\n"
          ]
        },
        {
          "output_type": "stream",
          "name": "stdout",
          "text": [
            "\n",
            "Test set: Average loss: 0.0188, Accuracy: 9938/10000 (99%)\n",
            "\n",
            "epoch : 24\n"
          ]
        },
        {
          "output_type": "stream",
          "name": "stderr",
          "text": [
            "loss=0.030840305611491203 batch_id=468 Accuracy=98.68: 100%|██████████| 469/469 [00:20<00:00, 23.23it/s]\n"
          ]
        },
        {
          "output_type": "stream",
          "name": "stdout",
          "text": [
            "\n",
            "Test set: Average loss: 0.0187, Accuracy: 9939/10000 (99%)\n",
            "\n",
            "i  6\n",
            "with L1 and L2 with BN\n",
            "epoch : 0\n"
          ]
        },
        {
          "output_type": "stream",
          "name": "stderr",
          "text": [
            "loss=0.13480696082115173 batch_id=468 Accuracy=89.52833333333334: 100%|██████████| 469/469 [00:20<00:00, 22.63it/s]\n"
          ]
        },
        {
          "output_type": "stream",
          "name": "stdout",
          "text": [
            "\n",
            "Test set: Average loss: 0.0676, Accuracy: 9773/10000 (98%)\n",
            "\n",
            "epoch : 1\n"
          ]
        },
        {
          "output_type": "stream",
          "name": "stderr",
          "text": [
            "loss=0.12161895632743835 batch_id=468 Accuracy=96.52333333333333: 100%|██████████| 469/469 [00:21<00:00, 22.32it/s]\n"
          ]
        },
        {
          "output_type": "stream",
          "name": "stdout",
          "text": [
            "\n",
            "Test set: Average loss: 0.0377, Accuracy: 9872/10000 (99%)\n",
            "\n",
            "epoch : 2\n"
          ]
        },
        {
          "output_type": "stream",
          "name": "stderr",
          "text": [
            "loss=0.16387058794498444 batch_id=468 Accuracy=97.03: 100%|██████████| 469/469 [00:21<00:00, 21.39it/s]\n"
          ]
        },
        {
          "output_type": "stream",
          "name": "stdout",
          "text": [
            "\n",
            "Test set: Average loss: 0.0434, Accuracy: 9856/10000 (99%)\n",
            "\n",
            "epoch : 3\n"
          ]
        },
        {
          "output_type": "stream",
          "name": "stderr",
          "text": [
            "loss=0.1477903127670288 batch_id=468 Accuracy=97.38166666666666: 100%|██████████| 469/469 [00:21<00:00, 22.27it/s]\n"
          ]
        },
        {
          "output_type": "stream",
          "name": "stdout",
          "text": [
            "\n",
            "Test set: Average loss: 0.0332, Accuracy: 9879/10000 (99%)\n",
            "\n",
            "epoch : 4\n"
          ]
        },
        {
          "output_type": "stream",
          "name": "stderr",
          "text": [
            "loss=0.20101356506347656 batch_id=468 Accuracy=97.7: 100%|██████████| 469/469 [00:20<00:00, 22.61it/s]\n"
          ]
        },
        {
          "output_type": "stream",
          "name": "stdout",
          "text": [
            "\n",
            "Test set: Average loss: 0.0357, Accuracy: 9879/10000 (99%)\n",
            "\n",
            "epoch : 5\n"
          ]
        },
        {
          "output_type": "stream",
          "name": "stderr",
          "text": [
            "loss=0.1052430048584938 batch_id=468 Accuracy=97.74833333333333: 100%|██████████| 469/469 [00:21<00:00, 22.19it/s]\n"
          ]
        },
        {
          "output_type": "stream",
          "name": "stdout",
          "text": [
            "\n",
            "Test set: Average loss: 0.0310, Accuracy: 9887/10000 (99%)\n",
            "\n",
            "epoch : 6\n"
          ]
        },
        {
          "output_type": "stream",
          "name": "stderr",
          "text": [
            "loss=0.16666194796562195 batch_id=468 Accuracy=97.78: 100%|██████████| 469/469 [00:20<00:00, 22.48it/s]\n"
          ]
        },
        {
          "output_type": "stream",
          "name": "stdout",
          "text": [
            "\n",
            "Test set: Average loss: 0.0302, Accuracy: 9893/10000 (99%)\n",
            "\n",
            "epoch : 7\n"
          ]
        },
        {
          "output_type": "stream",
          "name": "stderr",
          "text": [
            "loss=0.15760929882526398 batch_id=468 Accuracy=97.97833333333334: 100%|██████████| 469/469 [00:20<00:00, 22.57it/s]\n"
          ]
        },
        {
          "output_type": "stream",
          "name": "stdout",
          "text": [
            "\n",
            "Test set: Average loss: 0.0241, Accuracy: 9926/10000 (99%)\n",
            "\n",
            "epoch : 8\n"
          ]
        },
        {
          "output_type": "stream",
          "name": "stderr",
          "text": [
            "loss=0.09572331607341766 batch_id=468 Accuracy=97.92333333333333: 100%|██████████| 469/469 [00:21<00:00, 22.30it/s]\n"
          ]
        },
        {
          "output_type": "stream",
          "name": "stdout",
          "text": [
            "\n",
            "Test set: Average loss: 0.0272, Accuracy: 9911/10000 (99%)\n",
            "\n",
            "epoch : 9\n"
          ]
        },
        {
          "output_type": "stream",
          "name": "stderr",
          "text": [
            "loss=0.149041086435318 batch_id=468 Accuracy=98.08666666666667: 100%|██████████| 469/469 [00:20<00:00, 22.42it/s]\n"
          ]
        },
        {
          "output_type": "stream",
          "name": "stdout",
          "text": [
            "\n",
            "Test set: Average loss: 0.0264, Accuracy: 9917/10000 (99%)\n",
            "\n",
            "epoch : 10\n"
          ]
        },
        {
          "output_type": "stream",
          "name": "stderr",
          "text": [
            "loss=0.119191974401474 batch_id=468 Accuracy=98.575: 100%|██████████| 469/469 [00:20<00:00, 22.35it/s]\n"
          ]
        },
        {
          "output_type": "stream",
          "name": "stdout",
          "text": [
            "\n",
            "Test set: Average loss: 0.0189, Accuracy: 9940/10000 (99%)\n",
            "\n",
            "epoch : 11\n"
          ]
        },
        {
          "output_type": "stream",
          "name": "stderr",
          "text": [
            "loss=0.12678691744804382 batch_id=468 Accuracy=98.60833333333333: 100%|██████████| 469/469 [00:21<00:00, 22.22it/s]\n"
          ]
        },
        {
          "output_type": "stream",
          "name": "stdout",
          "text": [
            "\n",
            "Test set: Average loss: 0.0185, Accuracy: 9935/10000 (99%)\n",
            "\n",
            "epoch : 12\n"
          ]
        },
        {
          "output_type": "stream",
          "name": "stderr",
          "text": [
            "loss=0.05823872983455658 batch_id=468 Accuracy=98.62833333333333: 100%|██████████| 469/469 [00:21<00:00, 22.30it/s]\n"
          ]
        },
        {
          "output_type": "stream",
          "name": "stdout",
          "text": [
            "\n",
            "Test set: Average loss: 0.0180, Accuracy: 9940/10000 (99%)\n",
            "\n",
            "epoch : 13\n"
          ]
        },
        {
          "output_type": "stream",
          "name": "stderr",
          "text": [
            "loss=0.06470230221748352 batch_id=468 Accuracy=98.735: 100%|██████████| 469/469 [00:20<00:00, 22.49it/s]\n"
          ]
        },
        {
          "output_type": "stream",
          "name": "stdout",
          "text": [
            "\n",
            "Test set: Average loss: 0.0172, Accuracy: 9944/10000 (99%)\n",
            "\n",
            "epoch : 14\n"
          ]
        },
        {
          "output_type": "stream",
          "name": "stderr",
          "text": [
            "loss=0.10617919266223907 batch_id=468 Accuracy=98.74833333333333: 100%|██████████| 469/469 [00:20<00:00, 22.43it/s]\n"
          ]
        },
        {
          "output_type": "stream",
          "name": "stdout",
          "text": [
            "\n",
            "Test set: Average loss: 0.0172, Accuracy: 9944/10000 (99%)\n",
            "\n",
            "epoch : 15\n"
          ]
        },
        {
          "output_type": "stream",
          "name": "stderr",
          "text": [
            "loss=0.08547617495059967 batch_id=468 Accuracy=98.82833333333333: 100%|██████████| 469/469 [00:21<00:00, 21.66it/s]\n"
          ]
        },
        {
          "output_type": "stream",
          "name": "stdout",
          "text": [
            "\n",
            "Test set: Average loss: 0.0170, Accuracy: 9944/10000 (99%)\n",
            "\n",
            "epoch : 16\n"
          ]
        },
        {
          "output_type": "stream",
          "name": "stderr",
          "text": [
            "loss=0.06058063358068466 batch_id=468 Accuracy=98.775: 100%|██████████| 469/469 [00:21<00:00, 22.33it/s]\n"
          ]
        },
        {
          "output_type": "stream",
          "name": "stdout",
          "text": [
            "\n",
            "Test set: Average loss: 0.0169, Accuracy: 9943/10000 (99%)\n",
            "\n",
            "epoch : 17\n"
          ]
        },
        {
          "output_type": "stream",
          "name": "stderr",
          "text": [
            "loss=0.07790862768888474 batch_id=468 Accuracy=98.82333333333334: 100%|██████████| 469/469 [00:21<00:00, 22.33it/s]\n"
          ]
        },
        {
          "output_type": "stream",
          "name": "stdout",
          "text": [
            "\n",
            "Test set: Average loss: 0.0168, Accuracy: 9943/10000 (99%)\n",
            "\n",
            "epoch : 18\n"
          ]
        },
        {
          "output_type": "stream",
          "name": "stderr",
          "text": [
            "loss=0.09446734189987183 batch_id=468 Accuracy=98.78833333333333: 100%|██████████| 469/469 [00:21<00:00, 22.18it/s]\n"
          ]
        },
        {
          "output_type": "stream",
          "name": "stdout",
          "text": [
            "\n",
            "Test set: Average loss: 0.0167, Accuracy: 9946/10000 (99%)\n",
            "\n",
            "epoch : 19\n"
          ]
        },
        {
          "output_type": "stream",
          "name": "stderr",
          "text": [
            "loss=0.07612194865942001 batch_id=468 Accuracy=98.785: 100%|██████████| 469/469 [00:21<00:00, 22.05it/s]\n"
          ]
        },
        {
          "output_type": "stream",
          "name": "stdout",
          "text": [
            "\n",
            "Test set: Average loss: 0.0166, Accuracy: 9944/10000 (99%)\n",
            "\n",
            "epoch : 20\n"
          ]
        },
        {
          "output_type": "stream",
          "name": "stderr",
          "text": [
            "loss=0.12319250404834747 batch_id=468 Accuracy=98.77333333333333: 100%|██████████| 469/469 [00:20<00:00, 22.37it/s]\n"
          ]
        },
        {
          "output_type": "stream",
          "name": "stdout",
          "text": [
            "\n",
            "Test set: Average loss: 0.0165, Accuracy: 9950/10000 (100%)\n",
            "\n",
            "epoch : 21\n"
          ]
        },
        {
          "output_type": "stream",
          "name": "stderr",
          "text": [
            "loss=0.09263519197702408 batch_id=468 Accuracy=98.80666666666667: 100%|██████████| 469/469 [00:20<00:00, 22.34it/s]\n"
          ]
        },
        {
          "output_type": "stream",
          "name": "stdout",
          "text": [
            "\n",
            "Test set: Average loss: 0.0161, Accuracy: 9946/10000 (99%)\n",
            "\n",
            "epoch : 22\n"
          ]
        },
        {
          "output_type": "stream",
          "name": "stderr",
          "text": [
            "loss=0.0764646828174591 batch_id=468 Accuracy=98.76166666666667: 100%|██████████| 469/469 [00:21<00:00, 22.14it/s]\n"
          ]
        },
        {
          "output_type": "stream",
          "name": "stdout",
          "text": [
            "\n",
            "Test set: Average loss: 0.0161, Accuracy: 9946/10000 (99%)\n",
            "\n",
            "epoch : 23\n"
          ]
        },
        {
          "output_type": "stream",
          "name": "stderr",
          "text": [
            "loss=0.07422564923763275 batch_id=468 Accuracy=98.81166666666667: 100%|██████████| 469/469 [00:20<00:00, 22.52it/s]\n"
          ]
        },
        {
          "output_type": "stream",
          "name": "stdout",
          "text": [
            "\n",
            "Test set: Average loss: 0.0160, Accuracy: 9948/10000 (99%)\n",
            "\n",
            "epoch : 24\n"
          ]
        },
        {
          "output_type": "stream",
          "name": "stderr",
          "text": [
            "loss=0.1216205283999443 batch_id=468 Accuracy=98.84833333333333: 100%|██████████| 469/469 [00:21<00:00, 22.20it/s]\n"
          ]
        },
        {
          "output_type": "stream",
          "name": "stdout",
          "text": [
            "\n",
            "Test set: Average loss: 0.0160, Accuracy: 9947/10000 (99%)\n",
            "\n",
            "i  7\n",
            "with L1 and L2 with GBN\n",
            "epoch : 0\n"
          ]
        },
        {
          "output_type": "stream",
          "name": "stderr",
          "text": [
            "loss=0.17141611874103546 batch_id=468 Accuracy=88.52: 100%|██████████| 469/469 [00:21<00:00, 22.26it/s]\n"
          ]
        },
        {
          "output_type": "stream",
          "name": "stdout",
          "text": [
            "\n",
            "Test set: Average loss: 0.0561, Accuracy: 9818/10000 (98%)\n",
            "\n",
            "epoch : 1\n"
          ]
        },
        {
          "output_type": "stream",
          "name": "stderr",
          "text": [
            "loss=0.07770565152168274 batch_id=468 Accuracy=96.31833333333333: 100%|██████████| 469/469 [00:21<00:00, 22.22it/s]\n"
          ]
        },
        {
          "output_type": "stream",
          "name": "stdout",
          "text": [
            "\n",
            "Test set: Average loss: 0.0416, Accuracy: 9863/10000 (99%)\n",
            "\n",
            "epoch : 2\n"
          ]
        },
        {
          "output_type": "stream",
          "name": "stderr",
          "text": [
            "loss=0.1702890545129776 batch_id=468 Accuracy=96.98833333333333: 100%|██████████| 469/469 [00:21<00:00, 22.33it/s]\n"
          ]
        },
        {
          "output_type": "stream",
          "name": "stdout",
          "text": [
            "\n",
            "Test set: Average loss: 0.0342, Accuracy: 9885/10000 (99%)\n",
            "\n",
            "epoch : 3\n"
          ]
        },
        {
          "output_type": "stream",
          "name": "stderr",
          "text": [
            "loss=0.1733514964580536 batch_id=468 Accuracy=97.37833333333333: 100%|██████████| 469/469 [00:21<00:00, 21.92it/s]\n"
          ]
        },
        {
          "output_type": "stream",
          "name": "stdout",
          "text": [
            "\n",
            "Test set: Average loss: 0.0353, Accuracy: 9884/10000 (99%)\n",
            "\n",
            "epoch : 4\n"
          ]
        },
        {
          "output_type": "stream",
          "name": "stderr",
          "text": [
            "loss=0.10651369392871857 batch_id=468 Accuracy=97.47833333333334: 100%|██████████| 469/469 [00:21<00:00, 21.38it/s]\n"
          ]
        },
        {
          "output_type": "stream",
          "name": "stdout",
          "text": [
            "\n",
            "Test set: Average loss: 0.0308, Accuracy: 9895/10000 (99%)\n",
            "\n",
            "epoch : 5\n"
          ]
        },
        {
          "output_type": "stream",
          "name": "stderr",
          "text": [
            "loss=0.11297202110290527 batch_id=468 Accuracy=97.65666666666667: 100%|██████████| 469/469 [00:20<00:00, 22.34it/s]\n"
          ]
        },
        {
          "output_type": "stream",
          "name": "stdout",
          "text": [
            "\n",
            "Test set: Average loss: 0.0305, Accuracy: 9905/10000 (99%)\n",
            "\n",
            "epoch : 6\n"
          ]
        },
        {
          "output_type": "stream",
          "name": "stderr",
          "text": [
            "loss=0.09867929667234421 batch_id=468 Accuracy=97.785: 100%|██████████| 469/469 [00:20<00:00, 22.36it/s]\n"
          ]
        },
        {
          "output_type": "stream",
          "name": "stdout",
          "text": [
            "\n",
            "Test set: Average loss: 0.0369, Accuracy: 9876/10000 (99%)\n",
            "\n",
            "epoch : 7\n"
          ]
        },
        {
          "output_type": "stream",
          "name": "stderr",
          "text": [
            "loss=0.1477898210287094 batch_id=468 Accuracy=97.87833333333333: 100%|██████████| 469/469 [00:21<00:00, 22.13it/s]\n"
          ]
        },
        {
          "output_type": "stream",
          "name": "stdout",
          "text": [
            "\n",
            "Test set: Average loss: 0.0296, Accuracy: 9893/10000 (99%)\n",
            "\n",
            "epoch : 8\n"
          ]
        },
        {
          "output_type": "stream",
          "name": "stderr",
          "text": [
            "loss=0.23569686710834503 batch_id=468 Accuracy=97.91833333333334: 100%|██████████| 469/469 [00:21<00:00, 22.15it/s]\n"
          ]
        },
        {
          "output_type": "stream",
          "name": "stdout",
          "text": [
            "\n",
            "Test set: Average loss: 0.0249, Accuracy: 9918/10000 (99%)\n",
            "\n",
            "epoch : 9\n"
          ]
        },
        {
          "output_type": "stream",
          "name": "stderr",
          "text": [
            "loss=0.0985608696937561 batch_id=468 Accuracy=97.95: 100%|██████████| 469/469 [00:21<00:00, 22.29it/s]\n"
          ]
        },
        {
          "output_type": "stream",
          "name": "stdout",
          "text": [
            "\n",
            "Test set: Average loss: 0.0278, Accuracy: 9908/10000 (99%)\n",
            "\n",
            "epoch : 10\n"
          ]
        },
        {
          "output_type": "stream",
          "name": "stderr",
          "text": [
            "loss=0.06543590128421783 batch_id=468 Accuracy=98.435: 100%|██████████| 469/469 [00:21<00:00, 22.26it/s]\n"
          ]
        },
        {
          "output_type": "stream",
          "name": "stdout",
          "text": [
            "\n",
            "Test set: Average loss: 0.0185, Accuracy: 9945/10000 (99%)\n",
            "\n",
            "epoch : 11\n"
          ]
        },
        {
          "output_type": "stream",
          "name": "stderr",
          "text": [
            "loss=0.09851479530334473 batch_id=468 Accuracy=98.525: 100%|██████████| 469/469 [00:21<00:00, 22.30it/s]\n"
          ]
        },
        {
          "output_type": "stream",
          "name": "stdout",
          "text": [
            "\n",
            "Test set: Average loss: 0.0173, Accuracy: 9943/10000 (99%)\n",
            "\n",
            "epoch : 12\n"
          ]
        },
        {
          "output_type": "stream",
          "name": "stderr",
          "text": [
            "loss=0.09676391631364822 batch_id=468 Accuracy=98.59666666666666: 100%|██████████| 469/469 [00:21<00:00, 22.11it/s]\n"
          ]
        },
        {
          "output_type": "stream",
          "name": "stdout",
          "text": [
            "\n",
            "Test set: Average loss: 0.0178, Accuracy: 9941/10000 (99%)\n",
            "\n",
            "epoch : 13\n"
          ]
        },
        {
          "output_type": "stream",
          "name": "stderr",
          "text": [
            "loss=0.16744399070739746 batch_id=468 Accuracy=98.63833333333334: 100%|██████████| 469/469 [00:21<00:00, 22.28it/s]\n"
          ]
        },
        {
          "output_type": "stream",
          "name": "stdout",
          "text": [
            "\n",
            "Test set: Average loss: 0.0159, Accuracy: 9948/10000 (99%)\n",
            "\n",
            "epoch : 14\n"
          ]
        },
        {
          "output_type": "stream",
          "name": "stderr",
          "text": [
            "loss=0.09284965693950653 batch_id=468 Accuracy=98.67: 100%|██████████| 469/469 [00:20<00:00, 22.50it/s]\n"
          ]
        },
        {
          "output_type": "stream",
          "name": "stdout",
          "text": [
            "\n",
            "Test set: Average loss: 0.0161, Accuracy: 9952/10000 (100%)\n",
            "\n",
            "epoch : 15\n"
          ]
        },
        {
          "output_type": "stream",
          "name": "stderr",
          "text": [
            "loss=0.07707658410072327 batch_id=468 Accuracy=98.73666666666666: 100%|██████████| 469/469 [00:21<00:00, 22.15it/s]\n"
          ]
        },
        {
          "output_type": "stream",
          "name": "stdout",
          "text": [
            "\n",
            "Test set: Average loss: 0.0157, Accuracy: 9945/10000 (99%)\n",
            "\n",
            "epoch : 16\n"
          ]
        },
        {
          "output_type": "stream",
          "name": "stderr",
          "text": [
            "loss=0.08277980238199234 batch_id=468 Accuracy=98.73666666666666: 100%|██████████| 469/469 [00:21<00:00, 22.28it/s]\n"
          ]
        },
        {
          "output_type": "stream",
          "name": "stdout",
          "text": [
            "\n",
            "Test set: Average loss: 0.0156, Accuracy: 9949/10000 (99%)\n",
            "\n",
            "epoch : 17\n"
          ]
        },
        {
          "output_type": "stream",
          "name": "stderr",
          "text": [
            "loss=0.06161987781524658 batch_id=468 Accuracy=98.77166666666666: 100%|██████████| 469/469 [00:21<00:00, 21.94it/s]\n"
          ]
        },
        {
          "output_type": "stream",
          "name": "stdout",
          "text": [
            "\n",
            "Test set: Average loss: 0.0156, Accuracy: 9948/10000 (99%)\n",
            "\n",
            "epoch : 18\n"
          ]
        },
        {
          "output_type": "stream",
          "name": "stderr",
          "text": [
            "loss=0.1494012475013733 batch_id=468 Accuracy=98.74166666666666: 100%|██████████| 469/469 [00:21<00:00, 22.16it/s]\n"
          ]
        },
        {
          "output_type": "stream",
          "name": "stdout",
          "text": [
            "\n",
            "Test set: Average loss: 0.0154, Accuracy: 9948/10000 (99%)\n",
            "\n",
            "epoch : 19\n"
          ]
        },
        {
          "output_type": "stream",
          "name": "stderr",
          "text": [
            "loss=0.16716206073760986 batch_id=468 Accuracy=98.75: 100%|██████████| 469/469 [00:21<00:00, 22.26it/s]\n"
          ]
        },
        {
          "output_type": "stream",
          "name": "stdout",
          "text": [
            "\n",
            "Test set: Average loss: 0.0157, Accuracy: 9947/10000 (99%)\n",
            "\n",
            "epoch : 20\n"
          ]
        },
        {
          "output_type": "stream",
          "name": "stderr",
          "text": [
            "loss=0.098199263215065 batch_id=468 Accuracy=98.77166666666666: 100%|██████████| 469/469 [00:21<00:00, 22.18it/s]\n"
          ]
        },
        {
          "output_type": "stream",
          "name": "stdout",
          "text": [
            "\n",
            "Test set: Average loss: 0.0155, Accuracy: 9952/10000 (100%)\n",
            "\n",
            "epoch : 21\n"
          ]
        },
        {
          "output_type": "stream",
          "name": "stderr",
          "text": [
            "loss=0.16546691954135895 batch_id=468 Accuracy=98.685: 100%|██████████| 469/469 [00:20<00:00, 22.34it/s]\n"
          ]
        },
        {
          "output_type": "stream",
          "name": "stdout",
          "text": [
            "\n",
            "Test set: Average loss: 0.0158, Accuracy: 9947/10000 (99%)\n",
            "\n",
            "epoch : 22\n"
          ]
        },
        {
          "output_type": "stream",
          "name": "stderr",
          "text": [
            "loss=0.12493692338466644 batch_id=468 Accuracy=98.75666666666666: 100%|██████████| 469/469 [00:20<00:00, 22.46it/s]\n"
          ]
        },
        {
          "output_type": "stream",
          "name": "stdout",
          "text": [
            "\n",
            "Test set: Average loss: 0.0156, Accuracy: 9948/10000 (99%)\n",
            "\n",
            "epoch : 23\n"
          ]
        },
        {
          "output_type": "stream",
          "name": "stderr",
          "text": [
            "loss=0.10616466403007507 batch_id=468 Accuracy=98.63166666666666: 100%|██████████| 469/469 [00:20<00:00, 22.55it/s]\n"
          ]
        },
        {
          "output_type": "stream",
          "name": "stdout",
          "text": [
            "\n",
            "Test set: Average loss: 0.0155, Accuracy: 9950/10000 (100%)\n",
            "\n",
            "epoch : 24\n"
          ]
        },
        {
          "output_type": "stream",
          "name": "stderr",
          "text": [
            "loss=0.13770107924938202 batch_id=468 Accuracy=98.71833333333333: 100%|██████████| 469/469 [00:20<00:00, 22.62it/s]\n"
          ]
        },
        {
          "output_type": "stream",
          "name": "stdout",
          "text": [
            "\n",
            "Test set: Average loss: 0.0153, Accuracy: 9951/10000 (100%)\n",
            "\n"
          ]
        }
      ],
      "source": [
        "out_train_acc = {}\n",
        "out_train_loss = {}\n",
        "out_val_acc = {}\n",
        "out_val_loss = {}\n",
        "total_epochs = {}\n",
        "\n",
        "for i in range(0,8):\n",
        "  #global prev_val_acc\n",
        "  print(\"i \",i)\n",
        "  total_epochs[i] = []\n",
        "  out_train_acc[i] = []\n",
        "  out_train_loss[i] = []\n",
        "  out_val_acc[i] = []\n",
        "  out_val_loss[i] = []\n",
        "  prev_val_acc = 0\n",
        "  if i == 0: #without L1/L2 with BN\n",
        "    print(\"without L1/L2 with BN\")\n",
        "    model = Net().to(device)\n",
        "\n",
        "  if i == 1: #without L1/L2 with GBN\n",
        "    print(\"without L1/L2 with GBN\")\n",
        "    model = GhostBatchNet().to(device)\n",
        "\n",
        "  if i == 2: #with L1 with BN\n",
        "    print(\"with L1 with BN\")\n",
        "    model = Net().to(device)\n",
        "\n",
        "  if i == 3: #with L1 with GBN\n",
        "    print(\"with L1 with GBN\")\n",
        "    model = GhostBatchNet().to(device)\n",
        "\n",
        "  if i == 4: #with L2 with BN\n",
        "    print(\"with L2 with BN\")\n",
        "    model = Net().to(device)\n",
        "\n",
        "  if i == 5: #with L2 with GBN\n",
        "    print(\"with L2 with GBN\")\n",
        "    model = GhostBatchNet().to(device)\n",
        "\n",
        "  if i == 6: #with L1 and L2 with BN\n",
        "    print(\"with L1 and L2 with BN\")\n",
        "    model = Net().to(device)\n",
        "\n",
        "  if i == 7: #with L1 and L2 with GBN\n",
        "    print(\"with L1 and L2 with GBN\")\n",
        "    model = GhostBatchNet().to(device)\n",
        "\n",
        "  if (i == 0 or i==1 or i==2 or i==3):\n",
        "    optimizer = optim.SGD(model.parameters(), lr=0.01, momentum=0.9)\n",
        "  \n",
        "  if (i == 4 or i == 5 or i == 6 or i == 7):\n",
        "    # optimizer = optim.SGD(model.parameters(), lr=0.01, momentum=0.9, weight_decay=0.005)\n",
        "    # optimizer = optim.SGD(model.parameters(), lr=0.01, momentum=0.9, weight_decay=0.0005)\n",
        "    optimizer = optim.SGD(model.parameters(), lr=0.01, momentum=0.9, weight_decay=0.0001)\n",
        "\n",
        "  scheduler = torch.optim.lr_scheduler.MultiStepLR(optimizer, milestones=[10,13], gamma=0.2)\n",
        "  for epoch in range(0, 25):\n",
        "    print (f\"epoch : {epoch}\")\n",
        "    total_epochs[i].append(epoch)\n",
        "    (out_train_loss_, out_train_acc_) = train(model, device, train_loader, optimizer, epoch, i)\n",
        "    out_train_acc[i].append(out_train_acc_)\n",
        "    out_train_loss[i].append(out_train_loss_)\n",
        "\n",
        "    (out_val_loss_, out_val_acc_) = test(model, device, test_loader, i)\n",
        "    out_val_acc[i].append(out_val_acc_)\n",
        "    out_val_loss[i].append(out_val_loss_)\n"
      ]
    },
    {
      "cell_type": "code",
      "execution_count": 12,
      "metadata": {
        "id": "173_xXRwIv-c",
        "colab": {
          "base_uri": "https://localhost:8080/"
        },
        "outputId": "a1c07519-c9a7-47f0-fce8-7fea92973e8a"
      },
      "outputs": [
        {
          "output_type": "stream",
          "name": "stdout",
          "text": [
            "[89.24166666666666, 96.12833333333333, 96.95666666666666, 97.46666666666667, 97.60166666666667, 97.85666666666667, 97.98166666666667, 98.005, 98.115, 98.20166666666667, 98.56833333333333, 98.62833333333333, 98.735, 98.73333333333333, 98.695, 98.76666666666667, 98.78, 98.78166666666667, 98.82166666666667, 98.76, 98.76166666666667, 98.70333333333333, 98.815, 98.76833333333333, 98.76166666666667]\n",
            "[0.20405924320220947, 0.07153145223855972, 0.06049203500151634, 0.15219657123088837, 0.01838327758014202, 0.15451094508171082, 0.014998921193182468, 0.05612519755959511, 0.03483537584543228, 0.024781398475170135, 0.026004048064351082, 0.0151777109131217, 0.06724406033754349, 0.044377535581588745, 0.03226860240101814, 0.03261959180235863, 0.04835592210292816, 0.033661145716905594, 0.010056653060019016, 0.03651534765958786, 0.009200959466397762, 0.02744355984032154, 0.010801197029650211, 0.12306156009435654, 0.006007721181958914]\n",
            "[0.9791, 0.9843, 0.9857, 0.9889, 0.9897, 0.9923, 0.9918, 0.9924, 0.9899, 0.9927, 0.9939, 0.9935, 0.9932, 0.9936, 0.9937, 0.9942, 0.9943, 0.9941, 0.9939, 0.9942, 0.9941, 0.9943, 0.994, 0.994, 0.9939]\n",
            "[0.0633056619502604, 0.04412832210659981, 0.04286932883262634, 0.035326385027030484, 0.030634788668807596, 0.026648489640653132, 0.024686413291096686, 0.023111831238307057, 0.029981940180063248, 0.0235374867208302, 0.017926523789018392, 0.017728157145902514, 0.018985951467975975, 0.017383245077636094, 0.01707395962998271, 0.016561757193505763, 0.016523269271105527, 0.016449002780020237, 0.016499436750262976, 0.01671586590735242, 0.01654845525796991, 0.016370379848009906, 0.016455446696607395, 0.01679996322914958, 0.01669593233242631]\n",
            "[0, 1, 2, 3, 4, 5, 6, 7, 8, 9, 10, 11, 12, 13, 14, 15, 16, 17, 18, 19, 20, 21, 22, 23, 24]\n",
            "[88.1, 95.82333333333334, 96.60166666666667, 97.11, 97.58333333333333, 97.72333333333333, 97.71666666666667, 97.94166666666666, 98.00166666666667, 98.09833333333333, 98.485, 98.55, 98.58, 98.64, 98.64, 98.585, 98.67666666666666, 98.64, 98.71166666666667, 98.695, 98.70166666666667, 98.68, 98.665, 98.67333333333333, 98.74]\n",
            "[0.16466230154037476, 0.09333640336990356, 0.15567071735858917, 0.14840580523014069, 0.05908478423953056, 0.088352732360363, 0.05703454837203026, 0.04615398868918419, 0.08785536140203476, 0.1070098876953125, 0.023116352036595345, 0.04657101258635521, 0.007684953045099974, 0.10410333424806595, 0.009625487960875034, 0.09044892340898514, 0.031853485852479935, 0.0061988490633666515, 0.007648281287401915, 0.027313729748129845, 0.010196044109761715, 0.017353298142552376, 0.0336335189640522, 0.04561696946620941, 0.016920659691095352]\n",
            "[0.9777, 0.9868, 0.987, 0.9925, 0.9905, 0.9901, 0.9921, 0.9934, 0.9923, 0.9904, 0.9945, 0.9939, 0.9943, 0.995, 0.9948, 0.9947, 0.9949, 0.9947, 0.9949, 0.9952, 0.9952, 0.9948, 0.9949, 0.9951, 0.9949]\n",
            "[0.06825640477985144, 0.04059605809375644, 0.04388726524040103, 0.025678289325535297, 0.031160279096663, 0.03132226792126894, 0.024557477328926325, 0.02000128433406353, 0.02523776334542781, 0.02536384510397911, 0.016742286671698095, 0.016525782699137927, 0.01685239780321717, 0.016030892142653467, 0.015669211463071406, 0.015445993848145007, 0.015375289569795132, 0.015246179747069254, 0.015374978678673505, 0.015165085854381323, 0.015137006715685129, 0.01526630607843399, 0.015108099543303251, 0.014982978538796305, 0.015381072779744863]\n",
            "[0, 1, 2, 3, 4, 5, 6, 7, 8, 9, 10, 11, 12, 13, 14, 15, 16, 17, 18, 19, 20, 21, 22, 23, 24]\n",
            "[88.60166666666667, 96.17333333333333, 97.00666666666666, 97.32833333333333, 97.585, 97.77333333333333, 97.825, 97.97666666666667, 98.05666666666667, 98.02166666666666, 98.57833333333333, 98.64666666666666, 98.68166666666667, 98.795, 98.76, 98.78, 98.80333333333333, 98.83, 98.77666666666667, 98.78, 98.76833333333333, 98.83333333333333, 98.80666666666667, 98.83166666666666, 98.83166666666666]\n",
            "[0.13226403295993805, 0.1471603661775589, 0.10590119659900665, 0.15315721929073334, 0.1516028493642807, 0.1156337633728981, 0.11051161587238312, 0.09607240557670593, 0.06534207612276077, 0.08299198001623154, 0.06800004839897156, 0.07369852811098099, 0.08538024127483368, 0.057714708149433136, 0.10455748438835144, 0.21204304695129395, 0.08333742618560791, 0.08066990971565247, 0.06290894001722336, 0.1269376426935196, 0.07088197022676468, 0.07766007632017136, 0.07134528458118439, 0.06878027319908142, 0.07444747537374496]\n",
            "[0.9834, 0.9855, 0.989, 0.989, 0.9911, 0.9892, 0.9907, 0.9915, 0.9914, 0.9917, 0.9946, 0.9945, 0.994, 0.9951, 0.995, 0.9948, 0.9943, 0.9944, 0.9948, 0.9945, 0.9945, 0.9944, 0.995, 0.9947, 0.9945]\n",
            "[0.05033187403455377, 0.041363039290905, 0.03510266423225403, 0.03473810900747776, 0.02503028536774218, 0.03214410840049386, 0.02815267521739006, 0.025479722776263952, 0.028725165508687495, 0.02237477076649666, 0.01706110137104988, 0.016978540026117116, 0.018178318758122623, 0.016628389547765254, 0.016310381223075092, 0.01597029694020748, 0.016201840122789146, 0.015801609015464783, 0.016478446867316962, 0.016171448886208237, 0.016414192278683185, 0.01593306032270193, 0.01588142483262345, 0.01597585133910179, 0.015957597474381326]\n",
            "[0, 1, 2, 3, 4, 5, 6, 7, 8, 9, 10, 11, 12, 13, 14, 15, 16, 17, 18, 19, 20, 21, 22, 23, 24]\n",
            "[88.595, 96.01333333333334, 96.96833333333333, 97.33666666666667, 97.44333333333333, 97.76, 97.895, 97.95166666666667, 98.005, 97.97, 98.44666666666667, 98.55666666666667, 98.57666666666667, 98.665, 98.64166666666667, 98.67333333333333, 98.74666666666667, 98.61333333333333, 98.72333333333333, 98.83666666666667, 98.71166666666667, 98.64166666666667, 98.73833333333333, 98.72166666666666, 98.79333333333334]\n",
            "[0.17484918236732483, 0.11721597611904144, 0.12731391191482544, 0.0873059332370758, 0.08388928323984146, 0.13612504303455353, 0.11022484302520752, 0.1509908139705658, 0.25196436047554016, 0.11499956995248795, 0.0736154317855835, 0.08597048372030258, 0.06777696311473846, 0.07263214141130447, 0.11733169853687286, 0.10057825595140457, 0.1217784434556961, 0.11059132218360901, 0.07948360592126846, 0.06183494254946709, 0.09049995988607407, 0.09789919853210449, 0.07201366126537323, 0.1655152142047882, 0.09450803697109222]\n",
            "[0.9852, 0.9881, 0.9904, 0.9901, 0.9913, 0.9916, 0.9908, 0.9904, 0.9912, 0.9909, 0.9934, 0.9932, 0.9941, 0.9936, 0.9939, 0.9938, 0.9935, 0.9938, 0.9939, 0.9938, 0.9938, 0.9939, 0.9938, 0.9935, 0.9938]\n",
            "[0.04765498402863741, 0.03637504318058491, 0.03188847341388464, 0.028923375415802, 0.028597180639579892, 0.027759450310468673, 0.026761028683930637, 0.03122194444630295, 0.02720411301255226, 0.02949489513412118, 0.020386082102172076, 0.021354982359800486, 0.020683091213274746, 0.020307714035362006, 0.020074720953777433, 0.020313498041033745, 0.020239295024424793, 0.02005615427950397, 0.020343350329995156, 0.020358375161141157, 0.02032954818001017, 0.020007310059666633, 0.020130508272349835, 0.019987880416121335, 0.02039341447353363]\n",
            "[0, 1, 2, 3, 4, 5, 6, 7, 8, 9, 10, 11, 12, 13, 14, 15, 16, 17, 18, 19, 20, 21, 22, 23, 24]\n",
            "[88.685, 96.36, 97.10166666666667, 97.43333333333334, 97.62333333333333, 97.77333333333333, 98.01666666666667, 98.08166666666666, 98.17666666666666, 98.23666666666666, 98.46, 98.64833333333333, 98.64666666666666, 98.75833333333334, 98.78166666666667, 98.79333333333334, 98.78833333333333, 98.765, 98.78166666666667, 98.78, 98.77166666666666, 98.82833333333333, 98.79666666666667, 98.745, 98.81]\n",
            "[0.23733948171138763, 0.06844905763864517, 0.2441566437482834, 0.0630745217204094, 0.07065566629171371, 0.04463654384016991, 0.03460334241390228, 0.010833227075636387, 0.060442179441452026, 0.022751273587346077, 0.08813875168561935, 0.04498342052102089, 0.046873774379491806, 0.014019417576491833, 0.02591695450246334, 0.15030287206172943, 0.036024898290634155, 0.041959166526794434, 0.0537223257124424, 0.04299503564834595, 0.015997175127267838, 0.018667638301849365, 0.008810202591121197, 0.11763692647218704, 0.018447285518050194]\n",
            "[0.9778, 0.9827, 0.9892, 0.9896, 0.9901, 0.9906, 0.991, 0.9906, 0.9897, 0.9909, 0.994, 0.9938, 0.9936, 0.994, 0.9937, 0.9941, 0.9945, 0.9943, 0.9945, 0.9939, 0.9939, 0.9943, 0.9941, 0.994, 0.9943]\n",
            "[0.0731291200876236, 0.05493916677441448, 0.0354236112728715, 0.03097546110600233, 0.032014110542833804, 0.02439051573239267, 0.027391887077502907, 0.02609220456890762, 0.030648637192696334, 0.02680336762294173, 0.020732537361234427, 0.020739006077498196, 0.019773052866384387, 0.019391196136176587, 0.019605788961052896, 0.019070809615403413, 0.019318884216994046, 0.018851996390894056, 0.019253941370383835, 0.019305303301662205, 0.019444648118782788, 0.01899807975348085, 0.019206507697887718, 0.019267513840645553, 0.01890327195636928]\n",
            "[0, 1, 2, 3, 4, 5, 6, 7, 8, 9, 10, 11, 12, 13, 14, 15, 16, 17, 18, 19, 20, 21, 22, 23, 24]\n",
            "[88.70833333333333, 96.24333333333334, 96.98166666666667, 97.29333333333334, 97.605, 97.64, 97.79666666666667, 97.945, 98.025, 98.09, 98.46666666666667, 98.59, 98.59, 98.62166666666667, 98.72166666666666, 98.765, 98.685, 98.665, 98.68333333333334, 98.735, 98.72, 98.695, 98.68666666666667, 98.75666666666666, 98.68]\n",
            "[0.1401328295469284, 0.15925456583499908, 0.08843610435724258, 0.14626097679138184, 0.07369920611381531, 0.03756129369139671, 0.07735408842563629, 0.04174909368157387, 0.03508290275931358, 0.026339324191212654, 0.016932649537920952, 0.01001454796642065, 0.01031322218477726, 0.03537899628281593, 0.06463300436735153, 0.04109274968504906, 0.02940347231924534, 0.04911331459879875, 0.02490498311817646, 0.05802777409553528, 0.08412081748247147, 0.07531117647886276, 0.1741132140159607, 0.05373452976346016, 0.030840305611491203]\n",
            "[0.9822, 0.9879, 0.9875, 0.987, 0.9905, 0.9892, 0.9912, 0.9903, 0.9915, 0.9909, 0.9934, 0.9934, 0.9934, 0.994, 0.9943, 0.994, 0.9938, 0.994, 0.9936, 0.9939, 0.9934, 0.9938, 0.9937, 0.9938, 0.9939]\n",
            "[0.05572276944927871, 0.03732303305268288, 0.040870129081606865, 0.037257436448335644, 0.028093127297610043, 0.03287708020359278, 0.02585321091711521, 0.029345049099437893, 0.027099185260757806, 0.031073800951242448, 0.02048218761831522, 0.020748735976219176, 0.01996760865971446, 0.019397484755213374, 0.019153623589407653, 0.018601289556920527, 0.019306983706261962, 0.01842841700091958, 0.018901088559650815, 0.018716749949473886, 0.01910775746293366, 0.019020360408723354, 0.018583911845250985, 0.018809500102140008, 0.01872210453748703]\n",
            "[0, 1, 2, 3, 4, 5, 6, 7, 8, 9, 10, 11, 12, 13, 14, 15, 16, 17, 18, 19, 20, 21, 22, 23, 24]\n",
            "[89.52833333333334, 96.52333333333333, 97.03, 97.38166666666666, 97.7, 97.74833333333333, 97.78, 97.97833333333334, 97.92333333333333, 98.08666666666667, 98.575, 98.60833333333333, 98.62833333333333, 98.735, 98.74833333333333, 98.82833333333333, 98.775, 98.82333333333334, 98.78833333333333, 98.785, 98.77333333333333, 98.80666666666667, 98.76166666666667, 98.81166666666667, 98.84833333333333]\n",
            "[0.13480696082115173, 0.12161895632743835, 0.16387058794498444, 0.1477903127670288, 0.20101356506347656, 0.1052430048584938, 0.16666194796562195, 0.15760929882526398, 0.09572331607341766, 0.149041086435318, 0.119191974401474, 0.12678691744804382, 0.05823872983455658, 0.06470230221748352, 0.10617919266223907, 0.08547617495059967, 0.06058063358068466, 0.07790862768888474, 0.09446734189987183, 0.07612194865942001, 0.12319250404834747, 0.09263519197702408, 0.0764646828174591, 0.07422564923763275, 0.1216205283999443]\n",
            "[0.9773, 0.9872, 0.9856, 0.9879, 0.9879, 0.9887, 0.9893, 0.9926, 0.9911, 0.9917, 0.994, 0.9935, 0.994, 0.9944, 0.9944, 0.9944, 0.9943, 0.9943, 0.9946, 0.9944, 0.995, 0.9946, 0.9946, 0.9948, 0.9947]\n",
            "[0.06758893404603004, 0.037729230827093126, 0.04338112884759903, 0.033217321646399796, 0.035745731251314285, 0.031040449294447898, 0.03022388451397419, 0.024132006938755512, 0.02717991662621498, 0.02644350858926773, 0.018941360938362777, 0.018532726677879693, 0.018005779824126513, 0.017183597415406256, 0.017206418712157757, 0.01695179560482502, 0.0168844471228309, 0.016759157808497547, 0.016718267078697682, 0.01663402136247605, 0.01650295250955969, 0.016146233525685966, 0.01608383723013103, 0.01602479917667806, 0.015973549441248177]\n",
            "[0, 1, 2, 3, 4, 5, 6, 7, 8, 9, 10, 11, 12, 13, 14, 15, 16, 17, 18, 19, 20, 21, 22, 23, 24]\n",
            "[88.52, 96.31833333333333, 96.98833333333333, 97.37833333333333, 97.47833333333334, 97.65666666666667, 97.785, 97.87833333333333, 97.91833333333334, 97.95, 98.435, 98.525, 98.59666666666666, 98.63833333333334, 98.67, 98.73666666666666, 98.73666666666666, 98.77166666666666, 98.74166666666666, 98.75, 98.77166666666666, 98.685, 98.75666666666666, 98.63166666666666, 98.71833333333333]\n",
            "[0.17141611874103546, 0.07770565152168274, 0.1702890545129776, 0.1733514964580536, 0.10651369392871857, 0.11297202110290527, 0.09867929667234421, 0.1477898210287094, 0.23569686710834503, 0.0985608696937561, 0.06543590128421783, 0.09851479530334473, 0.09676391631364822, 0.16744399070739746, 0.09284965693950653, 0.07707658410072327, 0.08277980238199234, 0.06161987781524658, 0.1494012475013733, 0.16716206073760986, 0.098199263215065, 0.16546691954135895, 0.12493692338466644, 0.10616466403007507, 0.13770107924938202]\n",
            "[0.9818, 0.9863, 0.9885, 0.9884, 0.9895, 0.9905, 0.9876, 0.9893, 0.9918, 0.9908, 0.9945, 0.9943, 0.9941, 0.9948, 0.9952, 0.9945, 0.9949, 0.9948, 0.9948, 0.9947, 0.9952, 0.9947, 0.9948, 0.995, 0.9951]\n",
            "[0.05614648811221123, 0.041610752373933795, 0.034192825169861316, 0.03527854900732636, 0.03077753656907007, 0.030492905893176794, 0.036855191925168035, 0.029597948271036147, 0.024877776293829083, 0.027758143769204616, 0.018489331370592117, 0.01733175193965435, 0.017830163430050016, 0.01592846263735555, 0.016077448933571575, 0.015704401057027282, 0.015628387907147406, 0.01558992356210947, 0.015403315776586532, 0.015671595541760324, 0.015477204301068559, 0.015769379226863386, 0.01555419313297607, 0.015503633039211854, 0.015344585518958048]\n",
            "[0, 1, 2, 3, 4, 5, 6, 7, 8, 9, 10, 11, 12, 13, 14, 15, 16, 17, 18, 19, 20, 21, 22, 23, 24]\n"
          ]
        }
      ],
      "source": [
        "out_train_loss_val={}\n",
        "for p in range (0,8):\n",
        "  out_train_loss_val[p]=[]\n",
        "  for item in out_train_loss[p]:\n",
        "    out_train_loss_val[p].append(item.item())\n",
        "for p in range (0,8):\n",
        "  print(out_train_acc[p])\n",
        "  print(out_train_loss_val[p])\n",
        "  print(out_val_acc[p])\n",
        "  print(out_val_loss[p])\n",
        "  print(total_epochs[p])"
      ]
    },
    {
      "cell_type": "code",
      "execution_count": 13,
      "metadata": {
        "id": "nUr0ZO-aKnwH"
      },
      "outputs": [],
      "source": [
        "Color=[]\n",
        "Color.append('red')\n",
        "Color.append('black')\n",
        "Color.append('green')\n",
        "Color.append('purple')\n",
        "Color.append('cyan')\n",
        "Color.append('yellow')\n",
        "Color.append('brown')\n",
        "Color.append('blue')\n",
        "\n",
        "labels=[]\n",
        "labels.append(\"!L1 !L2 with BN\")\n",
        "labels.append(\"!L1 !L2 with GBN\")\n",
        "labels.append(\"L1 with BN\")\n",
        "labels.append(\"L1 with GBN\")\n",
        "labels.append(\"L2 with BN\")\n",
        "labels.append(\"L2 with GBN\")\n",
        "labels.append(\"L1-L2 with BN\")\n",
        "labels.append(\"L1-L2 with GBN\")"
      ]
    },
    {
      "cell_type": "code",
      "execution_count": 14,
      "metadata": {
        "id": "VmatD84_Ljc7",
        "colab": {
          "base_uri": "https://localhost:8080/",
          "height": 470
        },
        "outputId": "1a23a466-1f16-439d-e81e-0a2f9b0506e6"
      },
      "outputs": [
        {
          "output_type": "display_data",
          "data": {
            "text/plain": [
              "<Figure size 640x480 with 1 Axes>"
            ],
            "image/png": "[encoded data removed]"
          },
          "metadata": {}
        }
      ],
      "source": [
        "# #print(total_epochs)\n",
        "# fig = plt.figure()\n",
        "# ax0 = fig.add_subplot(111,title=\"val_accuray\")\n",
        "# ax0.set_ylabel(\"Accuracy\")\n",
        "# ax0.set_xlabel(\"Epochs\")\n",
        "# for t in range(0,8):\n",
        "#     ax0.plot(total_epochs[t], out_val_acc[t], 'ro-', label='val_acc', color=Color[t])\n",
        "\n",
        "plt.style.use('classic')\n",
        "plt.xlabel(\"Epochs\")\n",
        "plt.ylabel(\"Accuracy\")\n",
        "# fig, ax = plt.subplots()\n",
        "plt.subplots_adjust(hspace=0.001)\n",
        "plt.grid(True)\n",
        "plt.title(\"Val_Accurary\")\n",
        "# plt.yticks([0.005, 0.01,0.015,0.02,0.04, 0.05,0.06,0.07,0.08, 0.09])\n",
        "for t in range(0,8):\n",
        "    #ax0.plot(total_epochs[t], out_val_loss[t], 'ro-', label='test_loss', color=Color[t])\n",
        "    plt.plot(total_epochs[t], out_val_acc[t], \"-b\", color=Color[t], label=labels[t])\n",
        "    plt.legend(loc=\"lower right\")\n",
        "    # plt.ylim(0.01, 0.08)\n",
        "    plt.xlim(0, 24)"
      ]
    },
    {
      "cell_type": "code",
      "execution_count": 15,
      "metadata": {
        "id": "BTVOkeBeeuiS"
      },
      "outputs": [],
      "source": [
        "# fig = plt.figure()\n",
        "# ax0 = fig.add_subplot(111,title=\"train_loss\")\n",
        "# ax0.set_ylabel(\"Loss\")\n",
        "# ax0.set_xlabel(\"Epochs\")\n",
        "# for t in range(0,8):\n",
        "#     ax0.plot(total_epochs[t], out_train_loss_val[t], 'ro-', label='train_loss', color=Color[t])"
      ]
    },
    {
      "cell_type": "code",
      "execution_count": 16,
      "metadata": {
        "id": "BxP41VA9IwBU",
        "colab": {
          "base_uri": "https://localhost:8080/",
          "height": 470
        },
        "outputId": "ca381ce9-a019-4053-a865-e7bc1b023283"
      },
      "outputs": [
        {
          "output_type": "display_data",
          "data": {
            "text/plain": [
              "<Figure size 640x480 with 1 Axes>"
            ],
            "image/png": "[encoded data removed]"
          },
          "metadata": {}
        }
      ],
      "source": [
        "# fig = plt.figure()\n",
        "# ax0 = fig.add_subplot(111,title=\"test_loss\")\n",
        "# ax0.set_ylabel(\"Loss\")\n",
        "# ax0.set_xlabel(\"Epochs\")\n",
        "# for t in range(0,8):\n",
        "#     ax0.plot(total_epochs[t], out_val_loss[t], 'ro-', label='test_loss', color=Color[t])\n",
        "\n",
        "plt.style.use('classic')\n",
        "plt.xlabel(\"Loss\")\n",
        "plt.ylabel(\"Epochs\")\n",
        "# fig, ax = plt.subplots()\n",
        "# plt.subplots_adjust(hspace=0.001)\n",
        "plt.grid(True)\n",
        "plt.title(\"Val_loss\")\n",
        "# plt.yticks([0.005, 0.01,0.015,0.02,0.04, 0.05,0.06,0.07,0.08, 0.09])\n",
        "for t in range(0,8):\n",
        "    #ax0.plot(total_epochs[t], out_val_loss[t], 'ro-', label='test_loss', color=Color[t])\n",
        "    plt.plot(total_epochs[t], out_val_loss[t], \"-b\", color=Color[t], label=labels[t])\n",
        "    plt.legend(loc=\"upper right\")\n",
        "    plt.ylim(0.01, 0.08)\n",
        "    plt.xlim(0, 24)"
      ]
    },
    {
      "cell_type": "code",
      "execution_count": 16,
      "metadata": {
        "id": "uTBqonp0IwGa"
      },
      "outputs": [],
      "source": [
        ""
      ]
    },
    {
      "cell_type": "markdown",
      "source": [
        "Find Misclassified Images"
      ],
      "metadata": {
        "id": "4Jicm0jBPV_9"
      }
    },
    {
      "cell_type": "code",
      "execution_count": 17,
      "metadata": {
        "id": "3g0SFIlAVpzE"
      },
      "outputs": [],
      "source": [
        "def findMisclassifiedImages(model):\n",
        "        misclassified = []\n",
        "        misclassified_pred = []\n",
        "        misclassified_target = []\n",
        "        model.eval()\n",
        "        with torch.no_grad():\n",
        "            for data, target in test_loader:\n",
        "                # move them to the respective device\n",
        "                data, target = data.to(device), target.to(device)\n",
        "                # do inferencing\n",
        "                output = model(data)\n",
        "                # get the predicted output\n",
        "                pred = output.argmax(dim=1, keepdim=True)\n",
        "\n",
        "                # get the current misclassified in this batch\n",
        "                list_misclassified = (pred.eq(target.view_as(pred)) == False)\n",
        "                batch_misclassified = data[list_misclassified]\n",
        "                batch_mis_pred = pred[list_misclassified]\n",
        "                batch_mis_target = target.view_as(pred)[list_misclassified]\n",
        "\n",
        "\n",
        "                misclassified.append(batch_misclassified)\n",
        "                misclassified_pred.append(batch_mis_pred)\n",
        "                misclassified_target.append(batch_mis_target)\n",
        "\n",
        "        # group all the batched together\n",
        "        misclassified = torch.cat(misclassified)\n",
        "        misclassified_pred = torch.cat(misclassified_pred)\n",
        "        misclassified_target = torch.cat(misclassified_target)\n",
        "\n",
        "        return list(map(lambda x, y, z: (x, y, z), misclassified, misclassified_pred, misclassified_target))\n"
      ]
    },
    {
      "cell_type": "code",
      "execution_count": 18,
      "metadata": {
        "id": "3efcvVSXMkbV",
        "colab": {
          "base_uri": "https://localhost:8080/"
        },
        "outputId": "246f0c2e-1b5d-42f6-8427-f88df5465a02"
      },
      "outputs": [
        {
          "output_type": "stream",
          "name": "stderr",
          "text": [
            "/usr/local/lib/python3.7/dist-packages/ipykernel_launcher.py:36: UserWarning: Implicit dimension choice for log_softmax has been deprecated. Change the call to include dim=X as an argument.\n",
            "/usr/local/lib/python3.7/dist-packages/ipykernel_launcher.py:35: UserWarning: Implicit dimension choice for log_softmax has been deprecated. Change the call to include dim=X as an argument.\n"
          ]
        }
      ],
      "source": [
        "model1 = torch.load(\"model0.pth\")\n",
        "model2 = torch.load(\"model1.pth\")\n",
        "\n",
        "out1_misclassified = findMisclassifiedImages(model1)\n",
        "out2_misclassified = findMisclassifiedImages(model2)"
      ]
    },
    {
      "cell_type": "code",
      "source": [
        "import PIL\n",
        "from PIL import Image"
      ],
      "metadata": {
        "id": "VQrNzn2I0PDR"
      },
      "execution_count": 19,
      "outputs": []
    },
    {
      "cell_type": "code",
      "source": [
        "# transform = transforms.ToPILImage()\n",
        "# img = transform(out1_misclassified[25][0])"
      ],
      "metadata": {
        "id": "WmM09GJ00PiY"
      },
      "execution_count": 20,
      "outputs": []
    },
    {
      "cell_type": "code",
      "source": [
        "# img.show()"
      ],
      "metadata": {
        "id": "hr3vwf3z0UTr"
      },
      "execution_count": 21,
      "outputs": []
    },
    {
      "cell_type": "code",
      "source": [
        "# print(out1_misclassified[25][1])\n",
        "# print(out1_misclassified[25][2])\n",
        "!mkdir image_model1 image_model2"
      ],
      "metadata": {
        "id": "8D6moWgV0WwN"
      },
      "execution_count": 22,
      "outputs": []
    },
    {
      "cell_type": "code",
      "source": [
        "transform = transforms.ToPILImage()\n",
        "from google.colab import files\n",
        "# files.download(\"/content/test.txt\")\n",
        "for r in range(0,24):\n",
        "  # transform = transforms.ToPILImage()\n",
        "  img = transform(out1_misclassified[r][0])\n",
        "  img2 = transform(out2_misclassified[r][0])\n",
        "  draw = PIL.ImageDraw.Draw(img)\n",
        "  draw2 = PIL.ImageDraw.Draw(img2)\n",
        "  # print(out1_misclassified[r][1].item())\n",
        "  # print(out1_misclassified[r][2])\n",
        "  draw.text((0, 0), str(out1_misclassified[r][1].item()))\n",
        "  draw2.text((0, 0), str(out2_misclassified[r][1].item()))\n",
        "  draw.text((0, 20),str(out1_misclassified[r][2].item()))\n",
        "  draw2.text((0, 20),str(out2_misclassified[r][2].item()))\n",
        "  img.save(\"image_model1/\"+str(r)+\".jpg\")\n",
        "  img2.save(\"image_model2/\"+str(r)+\".jpg\")\n",
        "  # files.download(\"/content/image_model1/\"+str(r)+\".png\")\n",
        "  # files.download(\"/content/image_model2/\"+str(r)+\".png\")"
      ],
      "metadata": {
        "id": "vYwRvYminkZ2"
      },
      "execution_count": 23,
      "outputs": []
    },
    {
      "cell_type": "code",
      "source": [
        "!zip -r image_model1.zip image_model1\n",
        "!zip -r image_model2.zip image_model2"
      ],
      "metadata": {
        "colab": {
          "base_uri": "https://localhost:8080/"
        },
        "id": "z_fwr3qyZjbG",
        "outputId": "3484fd03-a89e-4051-a7e6-5f2bd6817552"
      },
      "execution_count": 24,
      "outputs": [
        {
          "output_type": "stream",
          "name": "stdout",
          "text": [
            "  adding: image_model1/ (stored 0%)\n",
            "  adding: image_model1/18.jpg (stored 0%)\n",
            "  adding: image_model1/13.jpg (stored 0%)\n",
            "  adding: image_model1/22.jpg (stored 0%)\n",
            "  adding: image_model1/6.jpg (stored 0%)\n",
            "  adding: image_model1/5.jpg (stored 0%)\n",
            "  adding: image_model1/4.jpg (stored 0%)\n",
            "  adding: image_model1/19.jpg (stored 0%)\n",
            "  adding: image_model1/0.jpg (stored 0%)\n",
            "  adding: image_model1/11.jpg (stored 0%)\n",
            "  adding: image_model1/9.jpg (stored 0%)\n",
            "  adding: image_model1/20.jpg (stored 0%)\n",
            "  adding: image_model1/1.jpg (stored 0%)\n",
            "  adding: image_model1/10.jpg (stored 0%)\n",
            "  adding: image_model1/8.jpg (stored 0%)\n",
            "  adding: image_model1/17.jpg (stored 0%)\n",
            "  adding: image_model1/23.jpg (stored 0%)\n",
            "  adding: image_model1/15.jpg (stored 0%)\n",
            "  adding: image_model1/16.jpg (stored 0%)\n",
            "  adding: image_model1/7.jpg (stored 0%)\n",
            "  adding: image_model1/2.jpg (stored 0%)\n",
            "  adding: image_model1/21.jpg (stored 0%)\n",
            "  adding: image_model1/3.jpg (stored 0%)\n",
            "  adding: image_model1/14.jpg (stored 0%)\n",
            "  adding: image_model1/12.jpg (stored 0%)\n",
            "  adding: image_model2/ (stored 0%)\n",
            "  adding: image_model2/18.jpg (stored 0%)\n",
            "  adding: image_model2/13.jpg (stored 0%)\n",
            "  adding: image_model2/22.jpg (stored 0%)\n",
            "  adding: image_model2/6.jpg (stored 0%)\n",
            "  adding: image_model2/5.jpg (stored 0%)\n",
            "  adding: image_model2/4.jpg (stored 0%)\n",
            "  adding: image_model2/19.jpg (stored 0%)\n",
            "  adding: image_model2/0.jpg (stored 0%)\n",
            "  adding: image_model2/11.jpg (stored 0%)\n",
            "  adding: image_model2/9.jpg (stored 0%)\n",
            "  adding: image_model2/20.jpg (stored 0%)\n",
            "  adding: image_model2/1.jpg (stored 0%)\n",
            "  adding: image_model2/10.jpg (stored 0%)\n",
            "  adding: image_model2/8.jpg (stored 0%)\n",
            "  adding: image_model2/17.jpg (stored 0%)\n",
            "  adding: image_model2/23.jpg (stored 0%)\n",
            "  adding: image_model2/15.jpg (stored 0%)\n",
            "  adding: image_model2/16.jpg (stored 0%)\n",
            "  adding: image_model2/7.jpg (stored 0%)\n",
            "  adding: image_model2/2.jpg (stored 0%)\n",
            "  adding: image_model2/21.jpg (stored 0%)\n",
            "  adding: image_model2/3.jpg (stored 0%)\n",
            "  adding: image_model2/14.jpg (stored 0%)\n",
            "  adding: image_model2/12.jpg (stored 0%)\n"
          ]
        }
      ]
    },
    {
      "cell_type": "code",
      "source": [
        "files.download(\"image_model1.zip\")\n",
        "files.download(\"image_model2.zip\")"
      ],
      "metadata": {
        "colab": {
          "base_uri": "https://localhost:8080/",
          "height": 17
        },
        "id": "masnO587aBoz",
        "outputId": "2500ed3d-b7ed-4836-bcae-30d1e9b7d5e3"
      },
      "execution_count": 25,
      "outputs": [
        {
          "output_type": "display_data",
          "data": {
            "text/plain": [
              "<IPython.core.display.Javascript object>"
            ],
            "application/javascript": [
              "\n",
              "    async function download(id, filename, size) {\n",
              "      if (!google.colab.kernel.accessAllowed) {\n",
              "        return;\n",
              "      }\n",
              "      const div = document.createElement('div');\n",
              "      const label = document.createElement('label');\n",
              "      label.textContent = `Downloading \"${filename}\": `;\n",
              "      div.appendChild(label);\n",
              "      const progress = document.createElement('progress');\n",
              "      progress.max = size;\n",
              "      div.appendChild(progress);\n",
              "      document.body.appendChild(div);\n",
              "\n",
              "      const buffers = [];\n",
              "      let downloaded = 0;\n",
              "\n",
              "      const channel = await google.colab.kernel.comms.open(id);\n",
              "      // Send a message to notify the kernel that we're ready.\n",
              "      channel.send({})\n",
              "\n",
              "      for await (const message of channel.messages) {\n",
              "        // Send a message to notify the kernel that we're ready.\n",
              "        channel.send({})\n",
              "        if (message.buffers) {\n",
              "          for (const buffer of message.buffers) {\n",
              "            buffers.push(buffer);\n",
              "            downloaded += buffer.byteLength;\n",
              "            progress.value = downloaded;\n",
              "          }\n",
              "        }\n",
              "      }\n",
              "      const blob = new Blob(buffers, {type: 'application/binary'});\n",
              "      const a = document.createElement('a');\n",
              "      a.href = window.URL.createObjectURL(blob);\n",
              "      a.download = filename;\n",
              "      div.appendChild(a);\n",
              "      a.click();\n",
              "      div.remove();\n",
              "    }\n",
              "  "
            ]
          },
          "metadata": {}
        },
        {
          "output_type": "display_data",
          "data": {
            "text/plain": [
              "<IPython.core.display.Javascript object>"
            ],
            "application/javascript": [
              "download(\"download_31ba604b-8861-45bf-9ea5-83a8c22ab8a8\", \"image_model1.zip\", 18998)"
            ]
          },
          "metadata": {}
        },
        {
          "output_type": "display_data",
          "data": {
            "text/plain": [
              "<IPython.core.display.Javascript object>"
            ],
            "application/javascript": [
              "\n",
              "    async function download(id, filename, size) {\n",
              "      if (!google.colab.kernel.accessAllowed) {\n",
              "        return;\n",
              "      }\n",
              "      const div = document.createElement('div');\n",
              "      const label = document.createElement('label');\n",
              "      label.textContent = `Downloading \"${filename}\": `;\n",
              "      div.appendChild(label);\n",
              "      const progress = document.createElement('progress');\n",
              "      progress.max = size;\n",
              "      div.appendChild(progress);\n",
              "      document.body.appendChild(div);\n",
              "\n",
              "      const buffers = [];\n",
              "      let downloaded = 0;\n",
              "\n",
              "      const channel = await google.colab.kernel.comms.open(id);\n",
              "      // Send a message to notify the kernel that we're ready.\n",
              "      channel.send({})\n",
              "\n",
              "      for await (const message of channel.messages) {\n",
              "        // Send a message to notify the kernel that we're ready.\n",
              "        channel.send({})\n",
              "        if (message.buffers) {\n",
              "          for (const buffer of message.buffers) {\n",
              "            buffers.push(buffer);\n",
              "            downloaded += buffer.byteLength;\n",
              "            progress.value = downloaded;\n",
              "          }\n",
              "        }\n",
              "      }\n",
              "      const blob = new Blob(buffers, {type: 'application/binary'});\n",
              "      const a = document.createElement('a');\n",
              "      a.href = window.URL.createObjectURL(blob);\n",
              "      a.download = filename;\n",
              "      div.appendChild(a);\n",
              "      a.click();\n",
              "      div.remove();\n",
              "    }\n",
              "  "
            ]
          },
          "metadata": {}
        },
        {
          "output_type": "display_data",
          "data": {
            "text/plain": [
              "<IPython.core.display.Javascript object>"
            ],
            "application/javascript": [
              "download(\"download_5b32fd6f-8a5c-4191-823f-466509ec627c\", \"image_model2.zip\", 19030)"
            ]
          },
          "metadata": {}
        }
      ]
    },
    {
      "cell_type": "code",
      "source": [
        "# !rm *.png"
      ],
      "metadata": {
        "id": "yf2fMFknoGAA"
      },
      "execution_count": 26,
      "outputs": []
    },
    {
      "cell_type": "code",
      "source": [
        "from PIL import Image\n",
        "import cv2\n",
        "f, axarr = plt.subplots(5,5,sharey=True)\n",
        "plt.suptitle('!L1 !L2 with BN')\n",
        "#top-left is prediction\n",
        "#bottom-left is target\n",
        "for i in range(0,5):\n",
        "  for p in range(0,5):\n",
        "    #img = Image.open(\"image_model1/\"+str(i+p)+\".jpg\")\n",
        "    img = cv2.imread(\"image_model1/\"+str(i+p)+\".jpg\")\n",
        "    axarr[i,p].imshow(img)"
      ],
      "metadata": {
        "id": "pa97YhqvYFt-",
        "colab": {
          "base_uri": "https://localhost:8080/",
          "height": 472
        },
        "outputId": "b2fb375c-371d-47de-db08-025bb12777bb"
      },
      "execution_count": 29,
      "outputs": [
        {
          "output_type": "display_data",
          "data": {
            "text/plain": [
              "<Figure size 640x480 with 25 Axes>"
            ],
            "image/png": "[encoded data removed]"
          },
          "metadata": {}
        }
      ]
    },
    {
      "cell_type": "code",
      "source": [
        "from PIL import Image\n",
        "f, axarr = plt.subplots(5,5)\n",
        "plt.suptitle('!L1 !L2 with GBN')\n",
        "#top-left is prediction\n",
        "#bottom-left is target\n",
        "for i in range(0,5):\n",
        "  for p in range(0,5):\n",
        "    #img = Image.open(\"image_model2/\"+str(i+p)+\".jpg\")\n",
        "    img = cv2.imread(\"image_model2/\"+str(i+p)+\".jpg\")\n",
        "    axarr[i,p].imshow(img)\n"
      ],
      "metadata": {
        "colab": {
          "base_uri": "https://localhost:8080/",
          "height": 472
        },
        "id": "pQ0lBm5uhNuX",
        "outputId": "eef00a38-1438-4cf0-b719-0e64c57625e4"
      },
      "execution_count": 30,
      "outputs": [
        {
          "output_type": "display_data",
          "data": {
            "text/plain": [
              "<Figure size 640x480 with 25 Axes>"
            ],
            "image/png": "[encoded data removed]"
          },
          "metadata": {}
        }
      ]
    },
    {
      "cell_type": "code",
      "source": [
        ""
      ],
      "metadata": {
        "id": "BUzANM3LhqGc"
      },
      "execution_count": 28,
      "outputs": []
    }
  ],
  "metadata": {
    "accelerator": "GPU",
    "colab": {
      "collapsed_sections": [],
      "name": "S6.ipynb",
      "provenance": []
    },
    "kernelspec": {
      "display_name": "Python 3",
      "name": "python3"
    },
    "language_info": {
      "name": "python"
    },
    "widgets": {
      "application/vnd.jupyter.widget-state+json": {
        "43a93a9b29d6452d81c108473a152aec": {
          "model_module": "@jupyter-widgets/controls",
          "model_name": "HBoxModel",
          "model_module_version": "1.5.0",
          "state": {
            "_dom_classes": [],
            "_model_module": "@jupyter-widgets/controls",
            "_model_module_version": "1.5.0",
            "_model_name": "HBoxModel",
            "_view_count": null,
            "_view_module": "@jupyter-widgets/controls",
            "_view_module_version": "1.5.0",
            "_view_name": "HBoxView",
            "box_style": "",
            "children": [
              "IPY_MODEL_8ccbb4a19d5346489f0a6c75db8d47a0",
              "IPY_MODEL_2b6479e45dbf4afb98e2c155cb6a9788",
              "IPY_MODEL_fc07421e73d340fb89eb4c7c7ffc0ffc"
            ],
            "layout": "IPY_MODEL_9a0085da2c2b4489aa77ca0ca26f778b"
          }
        },
        "8ccbb4a19d5346489f0a6c75db8d47a0": {
          "model_module": "@jupyter-widgets/controls",
          "model_name": "HTMLModel",
          "model_module_version": "1.5.0",
          "state": {
            "_dom_classes": [],
            "_model_module": "@jupyter-widgets/controls",
            "_model_module_version": "1.5.0",
            "_model_name": "HTMLModel",
            "_view_count": null,
            "_view_module": "@jupyter-widgets/controls",
            "_view_module_version": "1.5.0",
            "_view_name": "HTMLView",
            "description": "",
            "description_tooltip": null,
            "layout": "IPY_MODEL_5f92e10c85ab46ccbcf9888ab89fcc53",
            "placeholder": "​",
            "style": "IPY_MODEL_55ef75a5020d404797d62db923c51162",
            "value": ""
          }
        },
        "2b6479e45dbf4afb98e2c155cb6a9788": {
          "model_module": "@jupyter-widgets/controls",
          "model_name": "FloatProgressModel",
          "model_module_version": "1.5.0",
          "state": {
            "_dom_classes": [],
            "_model_module": "@jupyter-widgets/controls",
            "_model_module_version": "1.5.0",
            "_model_name": "FloatProgressModel",
            "_view_count": null,
            "_view_module": "@jupyter-widgets/controls",
            "_view_module_version": "1.5.0",
            "_view_name": "ProgressView",
            "bar_style": "success",
            "description": "",
            "description_tooltip": null,
            "layout": "IPY_MODEL_5c7c63faa5414c179c6ba9ac59044fb3",
            "max": 9912422,
            "min": 0,
            "orientation": "horizontal",
            "style": "IPY_MODEL_798a321f5515467c97eb7c8197bb5c24",
            "value": 9912422
          }
        },
        "fc07421e73d340fb89eb4c7c7ffc0ffc": {
          "model_module": "@jupyter-widgets/controls",
          "model_name": "HTMLModel",
          "model_module_version": "1.5.0",
          "state": {
            "_dom_classes": [],
            "_model_module": "@jupyter-widgets/controls",
            "_model_module_version": "1.5.0",
            "_model_name": "HTMLModel",
            "_view_count": null,
            "_view_module": "@jupyter-widgets/controls",
            "_view_module_version": "1.5.0",
            "_view_name": "HTMLView",
            "description": "",
            "description_tooltip": null,
            "layout": "IPY_MODEL_7367c28986154c8f896587d9dfdd402c",
            "placeholder": "​",
            "style": "IPY_MODEL_dc9090c7a16d42c09c157880db983472",
            "value": " 9913344/? [00:00&lt;00:00, 21398865.39it/s]"
          }
        },
        "9a0085da2c2b4489aa77ca0ca26f778b": {
          "model_module": "@jupyter-widgets/base",
          "model_name": "LayoutModel",
          "model_module_version": "1.2.0",
          "state": {
            "_model_module": "@jupyter-widgets/base",
            "_model_module_version": "1.2.0",
            "_model_name": "LayoutModel",
            "_view_count": null,
            "_view_module": "@jupyter-widgets/base",
            "_view_module_version": "1.2.0",
            "_view_name": "LayoutView",
            "align_content": null,
            "align_items": null,
            "align_self": null,
            "border": null,
            "bottom": null,
            "display": null,
            "flex": null,
            "flex_flow": null,
            "grid_area": null,
            "grid_auto_columns": null,
            "grid_auto_flow": null,
            "grid_auto_rows": null,
            "grid_column": null,
            "grid_gap": null,
            "grid_row": null,
            "grid_template_areas": null,
            "grid_template_columns": null,
            "grid_template_rows": null,
            "height": null,
            "justify_content": null,
            "justify_items": null,
            "left": null,
            "margin": null,
            "max_height": null,
            "max_width": null,
            "min_height": null,
            "min_width": null,
            "object_fit": null,
            "object_position": null,
            "order": null,
            "overflow": null,
            "overflow_x": null,
            "overflow_y": null,
            "padding": null,
            "right": null,
            "top": null,
            "visibility": null,
            "width": null
          }
        },
        "5f92e10c85ab46ccbcf9888ab89fcc53": {
          "model_module": "@jupyter-widgets/base",
          "model_name": "LayoutModel",
          "model_module_version": "1.2.0",
          "state": {
            "_model_module": "@jupyter-widgets/base",
            "_model_module_version": "1.2.0",
            "_model_name": "LayoutModel",
            "_view_count": null,
            "_view_module": "@jupyter-widgets/base",
            "_view_module_version": "1.2.0",
            "_view_name": "LayoutView",
            "align_content": null,
            "align_items": null,
            "align_self": null,
            "border": null,
            "bottom": null,
            "display": null,
            "flex": null,
            "flex_flow": null,
            "grid_area": null,
            "grid_auto_columns": null,
            "grid_auto_flow": null,
            "grid_auto_rows": null,
            "grid_column": null,
            "grid_gap": null,
            "grid_row": null,
            "grid_template_areas": null,
            "grid_template_columns": null,
            "grid_template_rows": null,
            "height": null,
            "justify_content": null,
            "justify_items": null,
            "left": null,
            "margin": null,
            "max_height": null,
            "max_width": null,
            "min_height": null,
            "min_width": null,
            "object_fit": null,
            "object_position": null,
            "order": null,
            "overflow": null,
            "overflow_x": null,
            "overflow_y": null,
            "padding": null,
            "right": null,
            "top": null,
            "visibility": null,
            "width": null
          }
        },
        "55ef75a5020d404797d62db923c51162": {
          "model_module": "@jupyter-widgets/controls",
          "model_name": "DescriptionStyleModel",
          "model_module_version": "1.5.0",
          "state": {
            "_model_module": "@jupyter-widgets/controls",
            "_model_module_version": "1.5.0",
            "_model_name": "DescriptionStyleModel",
            "_view_count": null,
            "_view_module": "@jupyter-widgets/base",
            "_view_module_version": "1.2.0",
            "_view_name": "StyleView",
            "description_width": ""
          }
        },
        "5c7c63faa5414c179c6ba9ac59044fb3": {
          "model_module": "@jupyter-widgets/base",
          "model_name": "LayoutModel",
          "model_module_version": "1.2.0",
          "state": {
            "_model_module": "@jupyter-widgets/base",
            "_model_module_version": "1.2.0",
            "_model_name": "LayoutModel",
            "_view_count": null,
            "_view_module": "@jupyter-widgets/base",
            "_view_module_version": "1.2.0",
            "_view_name": "LayoutView",
            "align_content": null,
            "align_items": null,
            "align_self": null,
            "border": null,
            "bottom": null,
            "display": null,
            "flex": null,
            "flex_flow": null,
            "grid_area": null,
            "grid_auto_columns": null,
            "grid_auto_flow": null,
            "grid_auto_rows": null,
            "grid_column": null,
            "grid_gap": null,
            "grid_row": null,
            "grid_template_areas": null,
            "grid_template_columns": null,
            "grid_template_rows": null,
            "height": null,
            "justify_content": null,
            "justify_items": null,
            "left": null,
            "margin": null,
            "max_height": null,
            "max_width": null,
            "min_height": null,
            "min_width": null,
            "object_fit": null,
            "object_position": null,
            "order": null,
            "overflow": null,
            "overflow_x": null,
            "overflow_y": null,
            "padding": null,
            "right": null,
            "top": null,
            "visibility": null,
            "width": null
          }
        },
        "798a321f5515467c97eb7c8197bb5c24": {
          "model_module": "@jupyter-widgets/controls",
          "model_name": "ProgressStyleModel",
          "model_module_version": "1.5.0",
          "state": {
            "_model_module": "@jupyter-widgets/controls",
            "_model_module_version": "1.5.0",
            "_model_name": "ProgressStyleModel",
            "_view_count": null,
            "_view_module": "@jupyter-widgets/base",
            "_view_module_version": "1.2.0",
            "_view_name": "StyleView",
            "bar_color": null,
            "description_width": ""
          }
        },
        "7367c28986154c8f896587d9dfdd402c": {
          "model_module": "@jupyter-widgets/base",
          "model_name": "LayoutModel",
          "model_module_version": "1.2.0",
          "state": {
            "_model_module": "@jupyter-widgets/base",
            "_model_module_version": "1.2.0",
            "_model_name": "LayoutModel",
            "_view_count": null,
            "_view_module": "@jupyter-widgets/base",
            "_view_module_version": "1.2.0",
            "_view_name": "LayoutView",
            "align_content": null,
            "align_items": null,
            "align_self": null,
            "border": null,
            "bottom": null,
            "display": null,
            "flex": null,
            "flex_flow": null,
            "grid_area": null,
            "grid_auto_columns": null,
            "grid_auto_flow": null,
            "grid_auto_rows": null,
            "grid_column": null,
            "grid_gap": null,
            "grid_row": null,
            "grid_template_areas": null,
            "grid_template_columns": null,
            "grid_template_rows": null,
            "height": null,
            "justify_content": null,
            "justify_items": null,
            "left": null,
            "margin": null,
            "max_height": null,
            "max_width": null,
            "min_height": null,
            "min_width": null,
            "object_fit": null,
            "object_position": null,
            "order": null,
            "overflow": null,
            "overflow_x": null,
            "overflow_y": null,
            "padding": null,
            "right": null,
            "top": null,
            "visibility": null,
            "width": null
          }
        },
        "dc9090c7a16d42c09c157880db983472": {
          "model_module": "@jupyter-widgets/controls",
          "model_name": "DescriptionStyleModel",
          "model_module_version": "1.5.0",
          "state": {
            "_model_module": "@jupyter-widgets/controls",
            "_model_module_version": "1.5.0",
            "_model_name": "DescriptionStyleModel",
            "_view_count": null,
            "_view_module": "@jupyter-widgets/base",
            "_view_module_version": "1.2.0",
            "_view_name": "StyleView",
            "description_width": ""
          }
        },
        "1b7f012e9c1c4b198bcc64b07de3f5b5": {
          "model_module": "@jupyter-widgets/controls",
          "model_name": "HBoxModel",
          "model_module_version": "1.5.0",
          "state": {
            "_dom_classes": [],
            "_model_module": "@jupyter-widgets/controls",
            "_model_module_version": "1.5.0",
            "_model_name": "HBoxModel",
            "_view_count": null,
            "_view_module": "@jupyter-widgets/controls",
            "_view_module_version": "1.5.0",
            "_view_name": "HBoxView",
            "box_style": "",
            "children": [
              "IPY_MODEL_9635541fc1814e9f9432550b2f332abe",
              "IPY_MODEL_c866c4ac8f4944aa835a6553a080d4a4",
              "IPY_MODEL_ec666d8ec79d462ab0d3bf7022cfce8b"
            ],
            "layout": "IPY_MODEL_e4f6baa82f874b3e9897c929f192a4a3"
          }
        },
        "9635541fc1814e9f9432550b2f332abe": {
          "model_module": "@jupyter-widgets/controls",
          "model_name": "HTMLModel",
          "model_module_version": "1.5.0",
          "state": {
            "_dom_classes": [],
            "_model_module": "@jupyter-widgets/controls",
            "_model_module_version": "1.5.0",
            "_model_name": "HTMLModel",
            "_view_count": null,
            "_view_module": "@jupyter-widgets/controls",
            "_view_module_version": "1.5.0",
            "_view_name": "HTMLView",
            "description": "",
            "description_tooltip": null,
            "layout": "IPY_MODEL_303c494d575d459cb1f078ada551cf68",
            "placeholder": "​",
            "style": "IPY_MODEL_7fea1d2f45244c6ea840e69f56af3a6b",
            "value": ""
          }
        },
        "c866c4ac8f4944aa835a6553a080d4a4": {
          "model_module": "@jupyter-widgets/controls",
          "model_name": "FloatProgressModel",
          "model_module_version": "1.5.0",
          "state": {
            "_dom_classes": [],
            "_model_module": "@jupyter-widgets/controls",
            "_model_module_version": "1.5.0",
            "_model_name": "FloatProgressModel",
            "_view_count": null,
            "_view_module": "@jupyter-widgets/controls",
            "_view_module_version": "1.5.0",
            "_view_name": "ProgressView",
            "bar_style": "success",
            "description": "",
            "description_tooltip": null,
            "layout": "IPY_MODEL_92628b815aa042a8b41cc04441646792",
            "max": 28881,
            "min": 0,
            "orientation": "horizontal",
            "style": "IPY_MODEL_4d26587f7f47476fae98b21220fcb69f",
            "value": 28881
          }
        },
        "ec666d8ec79d462ab0d3bf7022cfce8b": {
          "model_module": "@jupyter-widgets/controls",
          "model_name": "HTMLModel",
          "model_module_version": "1.5.0",
          "state": {
            "_dom_classes": [],
            "_model_module": "@jupyter-widgets/controls",
            "_model_module_version": "1.5.0",
            "_model_name": "HTMLModel",
            "_view_count": null,
            "_view_module": "@jupyter-widgets/controls",
            "_view_module_version": "1.5.0",
            "_view_name": "HTMLView",
            "description": "",
            "description_tooltip": null,
            "layout": "IPY_MODEL_dfd1ca84e448497c855115d130b00ff4",
            "placeholder": "​",
            "style": "IPY_MODEL_91a66f18546a4c2eaa3af80bc9de6624",
            "value": " 29696/? [00:00&lt;00:00, 738246.83it/s]"
          }
        },
        "e4f6baa82f874b3e9897c929f192a4a3": {
          "model_module": "@jupyter-widgets/base",
          "model_name": "LayoutModel",
          "model_module_version": "1.2.0",
          "state": {
            "_model_module": "@jupyter-widgets/base",
            "_model_module_version": "1.2.0",
            "_model_name": "LayoutModel",
            "_view_count": null,
            "_view_module": "@jupyter-widgets/base",
            "_view_module_version": "1.2.0",
            "_view_name": "LayoutView",
            "align_content": null,
            "align_items": null,
            "align_self": null,
            "border": null,
            "bottom": null,
            "display": null,
            "flex": null,
            "flex_flow": null,
            "grid_area": null,
            "grid_auto_columns": null,
            "grid_auto_flow": null,
            "grid_auto_rows": null,
            "grid_column": null,
            "grid_gap": null,
            "grid_row": null,
            "grid_template_areas": null,
            "grid_template_columns": null,
            "grid_template_rows": null,
            "height": null,
            "justify_content": null,
            "justify_items": null,
            "left": null,
            "margin": null,
            "max_height": null,
            "max_width": null,
            "min_height": null,
            "min_width": null,
            "object_fit": null,
            "object_position": null,
            "order": null,
            "overflow": null,
            "overflow_x": null,
            "overflow_y": null,
            "padding": null,
            "right": null,
            "top": null,
            "visibility": null,
            "width": null
          }
        },
        "303c494d575d459cb1f078ada551cf68": {
          "model_module": "@jupyter-widgets/base",
          "model_name": "LayoutModel",
          "model_module_version": "1.2.0",
          "state": {
            "_model_module": "@jupyter-widgets/base",
            "_model_module_version": "1.2.0",
            "_model_name": "LayoutModel",
            "_view_count": null,
            "_view_module": "@jupyter-widgets/base",
            "_view_module_version": "1.2.0",
            "_view_name": "LayoutView",
            "align_content": null,
            "align_items": null,
            "align_self": null,
            "border": null,
            "bottom": null,
            "display": null,
            "flex": null,
            "flex_flow": null,
            "grid_area": null,
            "grid_auto_columns": null,
            "grid_auto_flow": null,
            "grid_auto_rows": null,
            "grid_column": null,
            "grid_gap": null,
            "grid_row": null,
            "grid_template_areas": null,
            "grid_template_columns": null,
            "grid_template_rows": null,
            "height": null,
            "justify_content": null,
            "justify_items": null,
            "left": null,
            "margin": null,
            "max_height": null,
            "max_width": null,
            "min_height": null,
            "min_width": null,
            "object_fit": null,
            "object_position": null,
            "order": null,
            "overflow": null,
            "overflow_x": null,
            "overflow_y": null,
            "padding": null,
            "right": null,
            "top": null,
            "visibility": null,
            "width": null
          }
        },
        "7fea1d2f45244c6ea840e69f56af3a6b": {
          "model_module": "@jupyter-widgets/controls",
          "model_name": "DescriptionStyleModel",
          "model_module_version": "1.5.0",
          "state": {
            "_model_module": "@jupyter-widgets/controls",
            "_model_module_version": "1.5.0",
            "_model_name": "DescriptionStyleModel",
            "_view_count": null,
            "_view_module": "@jupyter-widgets/base",
            "_view_module_version": "1.2.0",
            "_view_name": "StyleView",
            "description_width": ""
          }
        },
        "92628b815aa042a8b41cc04441646792": {
          "model_module": "@jupyter-widgets/base",
          "model_name": "LayoutModel",
          "model_module_version": "1.2.0",
          "state": {
            "_model_module": "@jupyter-widgets/base",
            "_model_module_version": "1.2.0",
            "_model_name": "LayoutModel",
            "_view_count": null,
            "_view_module": "@jupyter-widgets/base",
            "_view_module_version": "1.2.0",
            "_view_name": "LayoutView",
            "align_content": null,
            "align_items": null,
            "align_self": null,
            "border": null,
            "bottom": null,
            "display": null,
            "flex": null,
            "flex_flow": null,
            "grid_area": null,
            "grid_auto_columns": null,
            "grid_auto_flow": null,
            "grid_auto_rows": null,
            "grid_column": null,
            "grid_gap": null,
            "grid_row": null,
            "grid_template_areas": null,
            "grid_template_columns": null,
            "grid_template_rows": null,
            "height": null,
            "justify_content": null,
            "justify_items": null,
            "left": null,
            "margin": null,
            "max_height": null,
            "max_width": null,
            "min_height": null,
            "min_width": null,
            "object_fit": null,
            "object_position": null,
            "order": null,
            "overflow": null,
            "overflow_x": null,
            "overflow_y": null,
            "padding": null,
            "right": null,
            "top": null,
            "visibility": null,
            "width": null
          }
        },
        "4d26587f7f47476fae98b21220fcb69f": {
          "model_module": "@jupyter-widgets/controls",
          "model_name": "ProgressStyleModel",
          "model_module_version": "1.5.0",
          "state": {
            "_model_module": "@jupyter-widgets/controls",
            "_model_module_version": "1.5.0",
            "_model_name": "ProgressStyleModel",
            "_view_count": null,
            "_view_module": "@jupyter-widgets/base",
            "_view_module_version": "1.2.0",
            "_view_name": "StyleView",
            "bar_color": null,
            "description_width": ""
          }
        },
        "dfd1ca84e448497c855115d130b00ff4": {
          "model_module": "@jupyter-widgets/base",
          "model_name": "LayoutModel",
          "model_module_version": "1.2.0",
          "state": {
            "_model_module": "@jupyter-widgets/base",
            "_model_module_version": "1.2.0",
            "_model_name": "LayoutModel",
            "_view_count": null,
            "_view_module": "@jupyter-widgets/base",
            "_view_module_version": "1.2.0",
            "_view_name": "LayoutView",
            "align_content": null,
            "align_items": null,
            "align_self": null,
            "border": null,
            "bottom": null,
            "display": null,
            "flex": null,
            "flex_flow": null,
            "grid_area": null,
            "grid_auto_columns": null,
            "grid_auto_flow": null,
            "grid_auto_rows": null,
            "grid_column": null,
            "grid_gap": null,
            "grid_row": null,
            "grid_template_areas": null,
            "grid_template_columns": null,
            "grid_template_rows": null,
            "height": null,
            "justify_content": null,
            "justify_items": null,
            "left": null,
            "margin": null,
            "max_height": null,
            "max_width": null,
            "min_height": null,
            "min_width": null,
            "object_fit": null,
            "object_position": null,
            "order": null,
            "overflow": null,
            "overflow_x": null,
            "overflow_y": null,
            "padding": null,
            "right": null,
            "top": null,
            "visibility": null,
            "width": null
          }
        },
        "91a66f18546a4c2eaa3af80bc9de6624": {
          "model_module": "@jupyter-widgets/controls",
          "model_name": "DescriptionStyleModel",
          "model_module_version": "1.5.0",
          "state": {
            "_model_module": "@jupyter-widgets/controls",
            "_model_module_version": "1.5.0",
            "_model_name": "DescriptionStyleModel",
            "_view_count": null,
            "_view_module": "@jupyter-widgets/base",
            "_view_module_version": "1.2.0",
            "_view_name": "StyleView",
            "description_width": ""
          }
        },
        "3f2ec87a07904cc4bc52079917aa252d": {
          "model_module": "@jupyter-widgets/controls",
          "model_name": "HBoxModel",
          "model_module_version": "1.5.0",
          "state": {
            "_dom_classes": [],
            "_model_module": "@jupyter-widgets/controls",
            "_model_module_version": "1.5.0",
            "_model_name": "HBoxModel",
            "_view_count": null,
            "_view_module": "@jupyter-widgets/controls",
            "_view_module_version": "1.5.0",
            "_view_name": "HBoxView",
            "box_style": "",
            "children": [
              "IPY_MODEL_9d745e745b1442619f12e82ec64cd7b4",
              "IPY_MODEL_98465aa49ef641d5a5b7473b28551e8d",
              "IPY_MODEL_42fc83e03a0a4eff974240cd24a8d2b2"
            ],
            "layout": "IPY_MODEL_318a15fe56a04d189ea2379bb8406f08"
          }
        },
        "9d745e745b1442619f12e82ec64cd7b4": {
          "model_module": "@jupyter-widgets/controls",
          "model_name": "HTMLModel",
          "model_module_version": "1.5.0",
          "state": {
            "_dom_classes": [],
            "_model_module": "@jupyter-widgets/controls",
            "_model_module_version": "1.5.0",
            "_model_name": "HTMLModel",
            "_view_count": null,
            "_view_module": "@jupyter-widgets/controls",
            "_view_module_version": "1.5.0",
            "_view_name": "HTMLView",
            "description": "",
            "description_tooltip": null,
            "layout": "IPY_MODEL_e27ad59691eb41828f94458a8fdcec2d",
            "placeholder": "​",
            "style": "IPY_MODEL_01a879b75a494ec382d498a696b571b7",
            "value": ""
          }
        },
        "98465aa49ef641d5a5b7473b28551e8d": {
          "model_module": "@jupyter-widgets/controls",
          "model_name": "FloatProgressModel",
          "model_module_version": "1.5.0",
          "state": {
            "_dom_classes": [],
            "_model_module": "@jupyter-widgets/controls",
            "_model_module_version": "1.5.0",
            "_model_name": "FloatProgressModel",
            "_view_count": null,
            "_view_module": "@jupyter-widgets/controls",
            "_view_module_version": "1.5.0",
            "_view_name": "ProgressView",
            "bar_style": "success",
            "description": "",
            "description_tooltip": null,
            "layout": "IPY_MODEL_ee72eb7ec6ff49ab88a19f52b04df2d4",
            "max": 1648877,
            "min": 0,
            "orientation": "horizontal",
            "style": "IPY_MODEL_52c688fff4194d8ba7abd06a02393f5e",
            "value": 1648877
          }
        },
        "42fc83e03a0a4eff974240cd24a8d2b2": {
          "model_module": "@jupyter-widgets/controls",
          "model_name": "HTMLModel",
          "model_module_version": "1.5.0",
          "state": {
            "_dom_classes": [],
            "_model_module": "@jupyter-widgets/controls",
            "_model_module_version": "1.5.0",
            "_model_name": "HTMLModel",
            "_view_count": null,
            "_view_module": "@jupyter-widgets/controls",
            "_view_module_version": "1.5.0",
            "_view_name": "HTMLView",
            "description": "",
            "description_tooltip": null,
            "layout": "IPY_MODEL_27ed306de9cc4ac18d6fe72f1f3c540f",
            "placeholder": "​",
            "style": "IPY_MODEL_d5bd19812fdf45eabb1e8660a3bb8e71",
            "value": " 1649664/? [00:00&lt;00:00, 18606531.64it/s]"
          }
        },
        "318a15fe56a04d189ea2379bb8406f08": {
          "model_module": "@jupyter-widgets/base",
          "model_name": "LayoutModel",
          "model_module_version": "1.2.0",
          "state": {
            "_model_module": "@jupyter-widgets/base",
            "_model_module_version": "1.2.0",
            "_model_name": "LayoutModel",
            "_view_count": null,
            "_view_module": "@jupyter-widgets/base",
            "_view_module_version": "1.2.0",
            "_view_name": "LayoutView",
            "align_content": null,
            "align_items": null,
            "align_self": null,
            "border": null,
            "bottom": null,
            "display": null,
            "flex": null,
            "flex_flow": null,
            "grid_area": null,
            "grid_auto_columns": null,
            "grid_auto_flow": null,
            "grid_auto_rows": null,
            "grid_column": null,
            "grid_gap": null,
            "grid_row": null,
            "grid_template_areas": null,
            "grid_template_columns": null,
            "grid_template_rows": null,
            "height": null,
            "justify_content": null,
            "justify_items": null,
            "left": null,
            "margin": null,
            "max_height": null,
            "max_width": null,
            "min_height": null,
            "min_width": null,
            "object_fit": null,
            "object_position": null,
            "order": null,
            "overflow": null,
            "overflow_x": null,
            "overflow_y": null,
            "padding": null,
            "right": null,
            "top": null,
            "visibility": null,
            "width": null
          }
        },
        "e27ad59691eb41828f94458a8fdcec2d": {
          "model_module": "@jupyter-widgets/base",
          "model_name": "LayoutModel",
          "model_module_version": "1.2.0",
          "state": {
            "_model_module": "@jupyter-widgets/base",
            "_model_module_version": "1.2.0",
            "_model_name": "LayoutModel",
            "_view_count": null,
            "_view_module": "@jupyter-widgets/base",
            "_view_module_version": "1.2.0",
            "_view_name": "LayoutView",
            "align_content": null,
            "align_items": null,
            "align_self": null,
            "border": null,
            "bottom": null,
            "display": null,
            "flex": null,
            "flex_flow": null,
            "grid_area": null,
            "grid_auto_columns": null,
            "grid_auto_flow": null,
            "grid_auto_rows": null,
            "grid_column": null,
            "grid_gap": null,
            "grid_row": null,
            "grid_template_areas": null,
            "grid_template_columns": null,
            "grid_template_rows": null,
            "height": null,
            "justify_content": null,
            "justify_items": null,
            "left": null,
            "margin": null,
            "max_height": null,
            "max_width": null,
            "min_height": null,
            "min_width": null,
            "object_fit": null,
            "object_position": null,
            "order": null,
            "overflow": null,
            "overflow_x": null,
            "overflow_y": null,
            "padding": null,
            "right": null,
            "top": null,
            "visibility": null,
            "width": null
          }
        },
        "01a879b75a494ec382d498a696b571b7": {
          "model_module": "@jupyter-widgets/controls",
          "model_name": "DescriptionStyleModel",
          "model_module_version": "1.5.0",
          "state": {
            "_model_module": "@jupyter-widgets/controls",
            "_model_module_version": "1.5.0",
            "_model_name": "DescriptionStyleModel",
            "_view_count": null,
            "_view_module": "@jupyter-widgets/base",
            "_view_module_version": "1.2.0",
            "_view_name": "StyleView",
            "description_width": ""
          }
        },
        "ee72eb7ec6ff49ab88a19f52b04df2d4": {
          "model_module": "@jupyter-widgets/base",
          "model_name": "LayoutModel",
          "model_module_version": "1.2.0",
          "state": {
            "_model_module": "@jupyter-widgets/base",
            "_model_module_version": "1.2.0",
            "_model_name": "LayoutModel",
            "_view_count": null,
            "_view_module": "@jupyter-widgets/base",
            "_view_module_version": "1.2.0",
            "_view_name": "LayoutView",
            "align_content": null,
            "align_items": null,
            "align_self": null,
            "border": null,
            "bottom": null,
            "display": null,
            "flex": null,
            "flex_flow": null,
            "grid_area": null,
            "grid_auto_columns": null,
            "grid_auto_flow": null,
            "grid_auto_rows": null,
            "grid_column": null,
            "grid_gap": null,
            "grid_row": null,
            "grid_template_areas": null,
            "grid_template_columns": null,
            "grid_template_rows": null,
            "height": null,
            "justify_content": null,
            "justify_items": null,
            "left": null,
            "margin": null,
            "max_height": null,
            "max_width": null,
            "min_height": null,
            "min_width": null,
            "object_fit": null,
            "object_position": null,
            "order": null,
            "overflow": null,
            "overflow_x": null,
            "overflow_y": null,
            "padding": null,
            "right": null,
            "top": null,
            "visibility": null,
            "width": null
          }
        },
        "52c688fff4194d8ba7abd06a02393f5e": {
          "model_module": "@jupyter-widgets/controls",
          "model_name": "ProgressStyleModel",
          "model_module_version": "1.5.0",
          "state": {
            "_model_module": "@jupyter-widgets/controls",
            "_model_module_version": "1.5.0",
            "_model_name": "ProgressStyleModel",
            "_view_count": null,
            "_view_module": "@jupyter-widgets/base",
            "_view_module_version": "1.2.0",
            "_view_name": "StyleView",
            "bar_color": null,
            "description_width": ""
          }
        },
        "27ed306de9cc4ac18d6fe72f1f3c540f": {
          "model_module": "@jupyter-widgets/base",
          "model_name": "LayoutModel",
          "model_module_version": "1.2.0",
          "state": {
            "_model_module": "@jupyter-widgets/base",
            "_model_module_version": "1.2.0",
            "_model_name": "LayoutModel",
            "_view_count": null,
            "_view_module": "@jupyter-widgets/base",
            "_view_module_version": "1.2.0",
            "_view_name": "LayoutView",
            "align_content": null,
            "align_items": null,
            "align_self": null,
            "border": null,
            "bottom": null,
            "display": null,
            "flex": null,
            "flex_flow": null,
            "grid_area": null,
            "grid_auto_columns": null,
            "grid_auto_flow": null,
            "grid_auto_rows": null,
            "grid_column": null,
            "grid_gap": null,
            "grid_row": null,
            "grid_template_areas": null,
            "grid_template_columns": null,
            "grid_template_rows": null,
            "height": null,
            "justify_content": null,
            "justify_items": null,
            "left": null,
            "margin": null,
            "max_height": null,
            "max_width": null,
            "min_height": null,
            "min_width": null,
            "object_fit": null,
            "object_position": null,
            "order": null,
            "overflow": null,
            "overflow_x": null,
            "overflow_y": null,
            "padding": null,
            "right": null,
            "top": null,
            "visibility": null,
            "width": null
          }
        },
        "d5bd19812fdf45eabb1e8660a3bb8e71": {
          "model_module": "@jupyter-widgets/controls",
          "model_name": "DescriptionStyleModel",
          "model_module_version": "1.5.0",
          "state": {
            "_model_module": "@jupyter-widgets/controls",
            "_model_module_version": "1.5.0",
            "_model_name": "DescriptionStyleModel",
            "_view_count": null,
            "_view_module": "@jupyter-widgets/base",
            "_view_module_version": "1.2.0",
            "_view_name": "StyleView",
            "description_width": ""
          }
        },
        "107595fbe1a548cb81ffd3b006668263": {
          "model_module": "@jupyter-widgets/controls",
          "model_name": "HBoxModel",
          "model_module_version": "1.5.0",
          "state": {
            "_dom_classes": [],
            "_model_module": "@jupyter-widgets/controls",
            "_model_module_version": "1.5.0",
            "_model_name": "HBoxModel",
            "_view_count": null,
            "_view_module": "@jupyter-widgets/controls",
            "_view_module_version": "1.5.0",
            "_view_name": "HBoxView",
            "box_style": "",
            "children": [
              "IPY_MODEL_ef4a734fd5be4ee1a8f56293457c31c0",
              "IPY_MODEL_8b544fe5a5984494b65ececf2893c33e",
              "IPY_MODEL_f999251ebd6c4b449764ed7bfbc50597"
            ],
            "layout": "IPY_MODEL_9d51778d75d44cac923c956f8089c27f"
          }
        },
        "ef4a734fd5be4ee1a8f56293457c31c0": {
          "model_module": "@jupyter-widgets/controls",
          "model_name": "HTMLModel",
          "model_module_version": "1.5.0",
          "state": {
            "_dom_classes": [],
            "_model_module": "@jupyter-widgets/controls",
            "_model_module_version": "1.5.0",
            "_model_name": "HTMLModel",
            "_view_count": null,
            "_view_module": "@jupyter-widgets/controls",
            "_view_module_version": "1.5.0",
            "_view_name": "HTMLView",
            "description": "",
            "description_tooltip": null,
            "layout": "IPY_MODEL_f133f06935e44cb3aa8e5a1d8c612c46",
            "placeholder": "​",
            "style": "IPY_MODEL_160bcd2b54154170be1e4ac148be4efc",
            "value": ""
          }
        },
        "8b544fe5a5984494b65ececf2893c33e": {
          "model_module": "@jupyter-widgets/controls",
          "model_name": "FloatProgressModel",
          "model_module_version": "1.5.0",
          "state": {
            "_dom_classes": [],
            "_model_module": "@jupyter-widgets/controls",
            "_model_module_version": "1.5.0",
            "_model_name": "FloatProgressModel",
            "_view_count": null,
            "_view_module": "@jupyter-widgets/controls",
            "_view_module_version": "1.5.0",
            "_view_name": "ProgressView",
            "bar_style": "success",
            "description": "",
            "description_tooltip": null,
            "layout": "IPY_MODEL_4460f18fe81e4f20afcb3112d30008ea",
            "max": 4542,
            "min": 0,
            "orientation": "horizontal",
            "style": "IPY_MODEL_67c2a797400346298f6d2b5eff70d2d0",
            "value": 4542
          }
        },
        "f999251ebd6c4b449764ed7bfbc50597": {
          "model_module": "@jupyter-widgets/controls",
          "model_name": "HTMLModel",
          "model_module_version": "1.5.0",
          "state": {
            "_dom_classes": [],
            "_model_module": "@jupyter-widgets/controls",
            "_model_module_version": "1.5.0",
            "_model_name": "HTMLModel",
            "_view_count": null,
            "_view_module": "@jupyter-widgets/controls",
            "_view_module_version": "1.5.0",
            "_view_name": "HTMLView",
            "description": "",
            "description_tooltip": null,
            "layout": "IPY_MODEL_71823d4c27f542c889df5ad7f7680f4d",
            "placeholder": "​",
            "style": "IPY_MODEL_5fed0c68d2a64bfca41e9cc41f97b3bc",
            "value": " 5120/? [00:00&lt;00:00, 142050.01it/s]"
          }
        },
        "9d51778d75d44cac923c956f8089c27f": {
          "model_module": "@jupyter-widgets/base",
          "model_name": "LayoutModel",
          "model_module_version": "1.2.0",
          "state": {
            "_model_module": "@jupyter-widgets/base",
            "_model_module_version": "1.2.0",
            "_model_name": "LayoutModel",
            "_view_count": null,
            "_view_module": "@jupyter-widgets/base",
            "_view_module_version": "1.2.0",
            "_view_name": "LayoutView",
            "align_content": null,
            "align_items": null,
            "align_self": null,
            "border": null,
            "bottom": null,
            "display": null,
            "flex": null,
            "flex_flow": null,
            "grid_area": null,
            "grid_auto_columns": null,
            "grid_auto_flow": null,
            "grid_auto_rows": null,
            "grid_column": null,
            "grid_gap": null,
            "grid_row": null,
            "grid_template_areas": null,
            "grid_template_columns": null,
            "grid_template_rows": null,
            "height": null,
            "justify_content": null,
            "justify_items": null,
            "left": null,
            "margin": null,
            "max_height": null,
            "max_width": null,
            "min_height": null,
            "min_width": null,
            "object_fit": null,
            "object_position": null,
            "order": null,
            "overflow": null,
            "overflow_x": null,
            "overflow_y": null,
            "padding": null,
            "right": null,
            "top": null,
            "visibility": null,
            "width": null
          }
        },
        "f133f06935e44cb3aa8e5a1d8c612c46": {
          "model_module": "@jupyter-widgets/base",
          "model_name": "LayoutModel",
          "model_module_version": "1.2.0",
          "state": {
            "_model_module": "@jupyter-widgets/base",
            "_model_module_version": "1.2.0",
            "_model_name": "LayoutModel",
            "_view_count": null,
            "_view_module": "@jupyter-widgets/base",
            "_view_module_version": "1.2.0",
            "_view_name": "LayoutView",
            "align_content": null,
            "align_items": null,
            "align_self": null,
            "border": null,
            "bottom": null,
            "display": null,
            "flex": null,
            "flex_flow": null,
            "grid_area": null,
            "grid_auto_columns": null,
            "grid_auto_flow": null,
            "grid_auto_rows": null,
            "grid_column": null,
            "grid_gap": null,
            "grid_row": null,
            "grid_template_areas": null,
            "grid_template_columns": null,
            "grid_template_rows": null,
            "height": null,
            "justify_content": null,
            "justify_items": null,
            "left": null,
            "margin": null,
            "max_height": null,
            "max_width": null,
            "min_height": null,
            "min_width": null,
            "object_fit": null,
            "object_position": null,
            "order": null,
            "overflow": null,
            "overflow_x": null,
            "overflow_y": null,
            "padding": null,
            "right": null,
            "top": null,
            "visibility": null,
            "width": null
          }
        },
        "160bcd2b54154170be1e4ac148be4efc": {
          "model_module": "@jupyter-widgets/controls",
          "model_name": "DescriptionStyleModel",
          "model_module_version": "1.5.0",
          "state": {
            "_model_module": "@jupyter-widgets/controls",
            "_model_module_version": "1.5.0",
            "_model_name": "DescriptionStyleModel",
            "_view_count": null,
            "_view_module": "@jupyter-widgets/base",
            "_view_module_version": "1.2.0",
            "_view_name": "StyleView",
            "description_width": ""
          }
        },
        "4460f18fe81e4f20afcb3112d30008ea": {
          "model_module": "@jupyter-widgets/base",
          "model_name": "LayoutModel",
          "model_module_version": "1.2.0",
          "state": {
            "_model_module": "@jupyter-widgets/base",
            "_model_module_version": "1.2.0",
            "_model_name": "LayoutModel",
            "_view_count": null,
            "_view_module": "@jupyter-widgets/base",
            "_view_module_version": "1.2.0",
            "_view_name": "LayoutView",
            "align_content": null,
            "align_items": null,
            "align_self": null,
            "border": null,
            "bottom": null,
            "display": null,
            "flex": null,
            "flex_flow": null,
            "grid_area": null,
            "grid_auto_columns": null,
            "grid_auto_flow": null,
            "grid_auto_rows": null,
            "grid_column": null,
            "grid_gap": null,
            "grid_row": null,
            "grid_template_areas": null,
            "grid_template_columns": null,
            "grid_template_rows": null,
            "height": null,
            "justify_content": null,
            "justify_items": null,
            "left": null,
            "margin": null,
            "max_height": null,
            "max_width": null,
            "min_height": null,
            "min_width": null,
            "object_fit": null,
            "object_position": null,
            "order": null,
            "overflow": null,
            "overflow_x": null,
            "overflow_y": null,
            "padding": null,
            "right": null,
            "top": null,
            "visibility": null,
            "width": null
          }
        },
        "67c2a797400346298f6d2b5eff70d2d0": {
          "model_module": "@jupyter-widgets/controls",
          "model_name": "ProgressStyleModel",
          "model_module_version": "1.5.0",
          "state": {
            "_model_module": "@jupyter-widgets/controls",
            "_model_module_version": "1.5.0",
            "_model_name": "ProgressStyleModel",
            "_view_count": null,
            "_view_module": "@jupyter-widgets/base",
            "_view_module_version": "1.2.0",
            "_view_name": "StyleView",
            "bar_color": null,
            "description_width": ""
          }
        },
        "71823d4c27f542c889df5ad7f7680f4d": {
          "model_module": "@jupyter-widgets/base",
          "model_name": "LayoutModel",
          "model_module_version": "1.2.0",
          "state": {
            "_model_module": "@jupyter-widgets/base",
            "_model_module_version": "1.2.0",
            "_model_name": "LayoutModel",
            "_view_count": null,
            "_view_module": "@jupyter-widgets/base",
            "_view_module_version": "1.2.0",
            "_view_name": "LayoutView",
            "align_content": null,
            "align_items": null,
            "align_self": null,
            "border": null,
            "bottom": null,
            "display": null,
            "flex": null,
            "flex_flow": null,
            "grid_area": null,
            "grid_auto_columns": null,
            "grid_auto_flow": null,
            "grid_auto_rows": null,
            "grid_column": null,
            "grid_gap": null,
            "grid_row": null,
            "grid_template_areas": null,
            "grid_template_columns": null,
            "grid_template_rows": null,
            "height": null,
            "justify_content": null,
            "justify_items": null,
            "left": null,
            "margin": null,
            "max_height": null,
            "max_width": null,
            "min_height": null,
            "min_width": null,
            "object_fit": null,
            "object_position": null,
            "order": null,
            "overflow": null,
            "overflow_x": null,
            "overflow_y": null,
            "padding": null,
            "right": null,
            "top": null,
            "visibility": null,
            "width": null
          }
        },
        "5fed0c68d2a64bfca41e9cc41f97b3bc": {
          "model_module": "@jupyter-widgets/controls",
          "model_name": "DescriptionStyleModel",
          "model_module_version": "1.5.0",
          "state": {
            "_model_module": "@jupyter-widgets/controls",
            "_model_module_version": "1.5.0",
            "_model_name": "DescriptionStyleModel",
            "_view_count": null,
            "_view_module": "@jupyter-widgets/base",
            "_view_module_version": "1.2.0",
            "_view_name": "StyleView",
            "description_width": ""
          }
        }
      }
    }
  },
  "nbformat": 4,
  "nbformat_minor": 0
}